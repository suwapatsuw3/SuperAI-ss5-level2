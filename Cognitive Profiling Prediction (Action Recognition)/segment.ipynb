{
 "cells": [
  {
   "cell_type": "code",
   "execution_count": null,
   "id": "b5683214",
   "metadata": {},
   "outputs": [
    {
     "name": "stderr",
     "output_type": "stream",
     "text": [
      "Processing frames: 100%|██████████| 44684/44684 [20:14<00:00, 36.80it/s]"
     ]
    },
    {
     "name": "stdout",
     "output_type": "stream",
     "text": [
      "✅ Final video saved to: output_videos/copy_B52269A0 _output_cropped.mp4\n"
     ]
    },
    {
     "name": "stderr",
     "output_type": "stream",
     "text": [
      "\n"
     ]
    }
   ],
   "source": [
    "from ultralytics import YOLO\n",
    "import cv2\n",
    "import os\n",
    "from tqdm import tqdm  # ✅ Import tqdm\n",
    "\n",
    "# === Input/output setup ===\n",
    "input_path = \"/home/siamai/data/Penguin/week7/test/copy_B52269A0 _output.mp4\" # add .mp4 path\n",
    "video_name = os.path.splitext(os.path.basename(input_path))[0]\n",
    "output_root = \"output_videos\"\n",
    "os.makedirs(output_root, exist_ok=True)\n",
    "output_video_path = os.path.join(output_root, f\"{video_name}_cropped.mp4\")\n",
    "\n",
    "# === Load model to GPU ===\n",
    "model = YOLO(\"yolo11n-pose.pt\").to('cuda')\n",
    "  # .to('cuda')\n",
    "\n",
    "# === Open video ===\n",
    "cap = cv2.VideoCapture(input_path)\n",
    "fps = cap.get(cv2.CAP_PROP_FPS) or 24\n",
    "width = int(cap.get(cv2.CAP_PROP_FRAME_WIDTH))\n",
    "height = int(cap.get(cv2.CAP_PROP_FRAME_HEIGHT))\n",
    "frame_count = int(cap.get(cv2.CAP_PROP_FRAME_COUNT))  # ✅ Total frames\n",
    "\n",
    "# === Setup video writer ===\n",
    "fourcc = cv2.VideoWriter_fourcc(*'mp4v')\n",
    "video_writer = cv2.VideoWriter(output_video_path, fourcc, fps, (width, height))\n",
    "\n",
    "# === Frame processing loop with tqdm ===\n",
    "pad = 30\n",
    "for _ in tqdm(range(frame_count), desc=\"Processing frames\"):\n",
    "    ret, frame = cap.read()\n",
    "    if not ret:\n",
    "        break\n",
    "\n",
    "    results = model(frame, conf=0.5, verbose=False)\n",
    "    people = results[0].boxes.xyxy.cpu().numpy()\n",
    "\n",
    "    if len(people) > 0:\n",
    "        # Select rightmost person (max x1)\n",
    "        rightmost_idx = people[:, 0].argmax()\n",
    "        x1, y1, x2, y2 = people[rightmost_idx]\n",
    "\n",
    "        # Expand box with padding\n",
    "        x1 = max(int(x1 - pad), 0)\n",
    "        y1 = max(int(y1 - pad), 0)\n",
    "        x2 = min(int(x2 + pad), width)\n",
    "        y2 = min(int(y2 + pad), height)\n",
    "\n",
    "        cropped = frame[y1:y2, x1:x2]\n",
    "        ch, cw = cropped.shape[:2]\n",
    "        top = (height - ch) // 2\n",
    "        bottom = height - ch - top\n",
    "        left = (width - cw) // 2\n",
    "        right = width - cw - left\n",
    "\n",
    "        padded = cv2.copyMakeBorder(\n",
    "            cropped, top, bottom, left, right,\n",
    "            borderType=cv2.BORDER_CONSTANT,\n",
    "            value=(0, 0, 0)\n",
    "        )\n",
    "        video_writer.write(padded)\n",
    "    else:\n",
    "        # No detection — keep original frame\n",
    "        video_writer.write(frame)\n",
    "\n",
    "cap.release()\n",
    "video_writer.release()\n",
    "print(f\"✅ Final video saved to: {output_video_path}\")"
   ]
  },
  {
   "cell_type": "code",
   "execution_count": 3,
   "id": "f8342598",
   "metadata": {},
   "outputs": [
    {
     "name": "stdout",
     "output_type": "stream",
     "text": [
      "Collecting ultralytics\n",
      "  Downloading ultralytics-8.3.156-py3-none-any.whl.metadata (37 kB)\n",
      "Requirement already satisfied: numpy>=1.23.0 in c:\\users\\surachai\\miniconda3\\lib\\site-packages (from ultralytics) (1.26.4)\n",
      "Requirement already satisfied: matplotlib>=3.3.0 in c:\\users\\surachai\\miniconda3\\lib\\site-packages (from ultralytics) (3.10.1)\n",
      "Collecting opencv-python>=4.6.0 (from ultralytics)\n",
      "  Using cached opencv_python-4.11.0.86-cp37-abi3-win_amd64.whl.metadata (20 kB)\n",
      "Requirement already satisfied: pillow>=7.1.2 in c:\\users\\surachai\\miniconda3\\lib\\site-packages (from ultralytics) (11.0.0)\n",
      "Requirement already satisfied: pyyaml>=5.3.1 in c:\\users\\surachai\\miniconda3\\lib\\site-packages (from ultralytics) (6.0.2)\n",
      "Requirement already satisfied: requests>=2.23.0 in c:\\users\\surachai\\miniconda3\\lib\\site-packages (from ultralytics) (2.32.3)\n",
      "Requirement already satisfied: scipy>=1.4.1 in c:\\users\\surachai\\miniconda3\\lib\\site-packages (from ultralytics) (1.15.2)\n",
      "Requirement already satisfied: torch>=1.8.0 in c:\\users\\surachai\\miniconda3\\lib\\site-packages (from ultralytics) (2.7.0+cu128)\n",
      "Requirement already satisfied: torchvision>=0.9.0 in c:\\users\\surachai\\miniconda3\\lib\\site-packages (from ultralytics) (0.22.0+cu128)\n",
      "Requirement already satisfied: tqdm>=4.64.0 in c:\\users\\surachai\\miniconda3\\lib\\site-packages (from ultralytics) (4.67.1)\n",
      "Requirement already satisfied: psutil in c:\\users\\surachai\\appdata\\roaming\\python\\python313\\site-packages (from ultralytics) (6.1.1)\n",
      "Collecting py-cpuinfo (from ultralytics)\n",
      "  Downloading py_cpuinfo-9.0.0-py3-none-any.whl.metadata (794 bytes)\n",
      "Requirement already satisfied: pandas>=1.1.4 in c:\\users\\surachai\\miniconda3\\lib\\site-packages (from ultralytics) (2.2.3)\n",
      "Collecting ultralytics-thop>=2.0.0 (from ultralytics)\n",
      "  Downloading ultralytics_thop-2.0.14-py3-none-any.whl.metadata (9.4 kB)\n",
      "Requirement already satisfied: contourpy>=1.0.1 in c:\\users\\surachai\\miniconda3\\lib\\site-packages (from matplotlib>=3.3.0->ultralytics) (1.3.2)\n",
      "Requirement already satisfied: cycler>=0.10 in c:\\users\\surachai\\miniconda3\\lib\\site-packages (from matplotlib>=3.3.0->ultralytics) (0.12.1)\n",
      "Requirement already satisfied: fonttools>=4.22.0 in c:\\users\\surachai\\miniconda3\\lib\\site-packages (from matplotlib>=3.3.0->ultralytics) (4.57.0)\n",
      "Requirement already satisfied: kiwisolver>=1.3.1 in c:\\users\\surachai\\miniconda3\\lib\\site-packages (from matplotlib>=3.3.0->ultralytics) (1.4.8)\n",
      "Requirement already satisfied: packaging>=20.0 in c:\\users\\surachai\\appdata\\roaming\\python\\python313\\site-packages (from matplotlib>=3.3.0->ultralytics) (24.2)\n",
      "Requirement already satisfied: pyparsing>=2.3.1 in c:\\users\\surachai\\miniconda3\\lib\\site-packages (from matplotlib>=3.3.0->ultralytics) (3.2.3)\n",
      "Requirement already satisfied: python-dateutil>=2.7 in c:\\users\\surachai\\appdata\\roaming\\python\\python313\\site-packages (from matplotlib>=3.3.0->ultralytics) (2.9.0.post0)\n",
      "Requirement already satisfied: pytz>=2020.1 in c:\\users\\surachai\\miniconda3\\lib\\site-packages (from pandas>=1.1.4->ultralytics) (2022.7.1)\n",
      "Requirement already satisfied: tzdata>=2022.7 in c:\\users\\surachai\\miniconda3\\lib\\site-packages (from pandas>=1.1.4->ultralytics) (2025.2)\n",
      "Requirement already satisfied: charset-normalizer<4,>=2 in c:\\users\\surachai\\miniconda3\\lib\\site-packages (from requests>=2.23.0->ultralytics) (3.3.2)\n",
      "Requirement already satisfied: idna<4,>=2.5 in c:\\users\\surachai\\miniconda3\\lib\\site-packages (from requests>=2.23.0->ultralytics) (3.7)\n",
      "Requirement already satisfied: urllib3<3,>=1.21.1 in c:\\users\\surachai\\miniconda3\\lib\\site-packages (from requests>=2.23.0->ultralytics) (1.26.20)\n",
      "Requirement already satisfied: certifi>=2017.4.17 in c:\\users\\surachai\\miniconda3\\lib\\site-packages (from requests>=2.23.0->ultralytics) (2025.4.26)\n",
      "Requirement already satisfied: filelock in c:\\users\\surachai\\miniconda3\\lib\\site-packages (from torch>=1.8.0->ultralytics) (3.18.0)\n",
      "Requirement already satisfied: typing-extensions>=4.10.0 in c:\\users\\surachai\\miniconda3\\lib\\site-packages (from torch>=1.8.0->ultralytics) (4.12.2)\n",
      "Requirement already satisfied: sympy>=1.13.3 in c:\\users\\surachai\\miniconda3\\lib\\site-packages (from torch>=1.8.0->ultralytics) (1.14.0)\n",
      "Requirement already satisfied: networkx in c:\\users\\surachai\\miniconda3\\lib\\site-packages (from torch>=1.8.0->ultralytics) (3.4.2)\n",
      "Requirement already satisfied: jinja2 in c:\\users\\surachai\\miniconda3\\lib\\site-packages (from torch>=1.8.0->ultralytics) (3.1.6)\n",
      "Requirement already satisfied: fsspec in c:\\users\\surachai\\miniconda3\\lib\\site-packages (from torch>=1.8.0->ultralytics) (2025.3.2)\n",
      "Requirement already satisfied: setuptools in c:\\users\\surachai\\miniconda3\\lib\\site-packages (from torch>=1.8.0->ultralytics) (78.1.1)\n",
      "Requirement already satisfied: colorama in c:\\users\\surachai\\appdata\\roaming\\python\\python313\\site-packages (from tqdm>=4.64.0->ultralytics) (0.4.6)\n",
      "Requirement already satisfied: six>=1.5 in c:\\users\\surachai\\appdata\\roaming\\python\\python313\\site-packages (from python-dateutil>=2.7->matplotlib>=3.3.0->ultralytics) (1.17.0)\n",
      "Requirement already satisfied: mpmath<1.4,>=1.1.0 in c:\\users\\surachai\\miniconda3\\lib\\site-packages (from sympy>=1.13.3->torch>=1.8.0->ultralytics) (1.3.0)\n",
      "Requirement already satisfied: MarkupSafe>=2.0 in c:\\users\\surachai\\miniconda3\\lib\\site-packages (from jinja2->torch>=1.8.0->ultralytics) (3.0.2)\n",
      "Downloading ultralytics-8.3.156-py3-none-any.whl (1.0 MB)\n",
      "   ---------------------------------------- 0.0/1.0 MB ? eta -:--:--\n",
      "   ---------------------------------------- 1.0/1.0 MB 13.5 MB/s eta 0:00:00\n",
      "Using cached opencv_python-4.11.0.86-cp37-abi3-win_amd64.whl (39.5 MB)\n",
      "Downloading ultralytics_thop-2.0.14-py3-none-any.whl (26 kB)\n",
      "Downloading py_cpuinfo-9.0.0-py3-none-any.whl (22 kB)\n",
      "Installing collected packages: py-cpuinfo, opencv-python, ultralytics-thop, ultralytics\n",
      "Successfully installed opencv-python-4.11.0.86 py-cpuinfo-9.0.0 ultralytics-8.3.156 ultralytics-thop-2.0.14\n"
     ]
    }
   ],
   "source": [
    "!pip install ultralytics"
   ]
  },
  {
   "cell_type": "code",
   "execution_count": 4,
   "id": "94219289",
   "metadata": {},
   "outputs": [
    {
     "name": "stdout",
     "output_type": "stream",
     "text": [
      "Creating new Ultralytics Settings v0.0.6 file  \n",
      "View Ultralytics Settings with 'yolo settings' or at 'C:\\Users\\Surachai\\AppData\\Roaming\\Ultralytics\\settings.json'\n",
      "Update Settings with 'yolo settings key=value', i.e. 'yolo settings runs_dir=path/to/dir'. For help see https://docs.ultralytics.com/quickstart/#ultralytics-settings.\n",
      "Downloading https://github.com/ultralytics/assets/releases/download/v8.3.0/yolo11n-pose.pt to 'yolo11n-pose.pt'...\n"
     ]
    },
    {
     "name": "stderr",
     "output_type": "stream",
     "text": [
      "100%|██████████| 5.97M/5.97M [00:00<00:00, 10.8MB/s]\n",
      "Processing frames: 100%|██████████| 25047/25047 [13:41<00:00, 30.47it/s]"
     ]
    },
    {
     "name": "stdout",
     "output_type": "stream",
     "text": [
      "✅ Final video saved to: output_videos\\Tom Cruise_s Heated Interview With Matt Lauer  Archives  TODAY_cropped.mp4\n"
     ]
    },
    {
     "name": "stderr",
     "output_type": "stream",
     "text": [
      "\n"
     ]
    }
   ],
   "source": [
    "from ultralytics import YOLO\n",
    "import cv2\n",
    "import os\n",
    "from tqdm import tqdm  # ✅ Import tqdm\n",
    "\n",
    "# === Input/output setup ===\n",
    "input_path = r\"C:\\Users\\Surachai\\Downloads\\ss5_week7\\Tom Cruise_s Heated Interview With Matt Lauer  Archives  TODAY.mp4\" # add .mp4 path\n",
    "video_name = os.path.splitext(os.path.basename(input_path))[0]\n",
    "output_root = \"output_videos\"\n",
    "os.makedirs(output_root, exist_ok=True)\n",
    "output_video_path = os.path.join(output_root, f\"{video_name}_cropped.mp4\")\n",
    "\n",
    "# === Load model to GPU ===\n",
    "model = YOLO(\"yolo11n-pose.pt\").to('cuda')\n",
    "  # .to('cuda')\n",
    "\n",
    "# === Open video ===\n",
    "cap = cv2.VideoCapture(input_path)\n",
    "fps = cap.get(cv2.CAP_PROP_FPS) or 24\n",
    "width = int(cap.get(cv2.CAP_PROP_FRAME_WIDTH))\n",
    "height = int(cap.get(cv2.CAP_PROP_FRAME_HEIGHT))\n",
    "frame_count = int(cap.get(cv2.CAP_PROP_FRAME_COUNT))  # ✅ Total frames\n",
    "\n",
    "# === Setup video writer ===\n",
    "fourcc = cv2.VideoWriter_fourcc(*'mp4v')\n",
    "video_writer = cv2.VideoWriter(output_video_path, fourcc, fps, (width, height))\n",
    "\n",
    "# === Frame processing loop with tqdm ===\n",
    "pad = 30\n",
    "for _ in tqdm(range(frame_count), desc=\"Processing frames\"):\n",
    "    ret, frame = cap.read()\n",
    "    if not ret:\n",
    "        break\n",
    "\n",
    "    results = model(frame, conf=0.5, verbose=False)\n",
    "    people = results[0].boxes.xyxy.cpu().numpy()\n",
    "\n",
    "    if len(people) > 0:\n",
    "        # Select rightmost person (max x1)\n",
    "        rightmost_idx = people[:, 0].argmax()\n",
    "        x1, y1, x2, y2 = people[rightmost_idx]\n",
    "\n",
    "        # Expand box with padding\n",
    "        x1 = max(int(x1 - pad), 0)\n",
    "        y1 = max(int(y1 - pad), 0)\n",
    "        x2 = min(int(x2 + pad), width)\n",
    "        y2 = min(int(y2 + pad), height)\n",
    "\n",
    "        cropped = frame[y1:y2, x1:x2]\n",
    "        ch, cw = cropped.shape[:2]\n",
    "        top = (height - ch) // 2\n",
    "        bottom = height - ch - top\n",
    "        left = (width - cw) // 2\n",
    "        right = width - cw - left\n",
    "\n",
    "        padded = cv2.copyMakeBorder(\n",
    "            cropped, top, bottom, left, right,\n",
    "            borderType=cv2.BORDER_CONSTANT,\n",
    "            value=(0, 0, 0)\n",
    "        )\n",
    "        video_writer.write(padded)\n",
    "    else:\n",
    "        # No detection — keep original frame\n",
    "        video_writer.write(frame)\n",
    "\n",
    "cap.release()\n",
    "video_writer.release()\n",
    "print(f\"✅ Final video saved to: {output_video_path}\")"
   ]
  },
  {
   "cell_type": "code",
   "execution_count": null,
   "id": "0ec34a7e",
   "metadata": {},
   "outputs": [],
   "source": []
  }
 ],
 "metadata": {
  "kernelspec": {
   "display_name": "base",
   "language": "python",
   "name": "python3"
  },
  "language_info": {
   "codemirror_mode": {
    "name": "ipython",
    "version": 3
   },
   "file_extension": ".py",
   "mimetype": "text/x-python",
   "name": "python",
   "nbconvert_exporter": "python",
   "pygments_lexer": "ipython3",
   "version": "3.13.2"
  }
 },
 "nbformat": 4,
 "nbformat_minor": 5
}
