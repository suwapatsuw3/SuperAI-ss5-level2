{
  "cells": [
    {
      "cell_type": "code",
      "execution_count": null,
      "metadata": {
        "colab": {
          "base_uri": "https://localhost:8080/"
        },
        "id": "JShjT1v5GTsy",
        "outputId": "28d67faf-a362-4519-ece6-bb03342bc395"
      },
      "outputs": [],
      "source": [
        "from google.colab import drive\n",
        "drive.mount('/content/drive')\n",
        "!pip install pdf2image\n",
        "!apt-get install -y poppler-utils\n",
        "from PIL import Image\n",
        "from IPython.display import display\n",
        "import time\n",
        "import os\n",
        "import random"
      ]
    },
    {
      "cell_type": "code",
      "execution_count": null,
      "metadata": {
        "colab": {
          "base_uri": "https://localhost:8080/"
        },
        "id": "T7Ph6rMJfcbV",
        "outputId": "ca748df6-b5dc-4b2a-df7f-fdf2ca9345ed"
      },
      "outputs": [],
      "source": [
        "!unzip /content/drive/MyDrive/คำศัพท์-HSK5.zip -d /content/curr"
      ]
    },
    {
      "cell_type": "code",
      "execution_count": null,
      "metadata": {
        "id": "kRQI7Ou6_Rf-"
      },
      "outputs": [],
      "source": [
        "df = sorted(os.listdir('/content/curr'))\n",
        "img = Image.open(os.path.join('/content/curr', df[0]))\n",
        "width, height = img.size\n",
        "new_size = (width //4, height //4)"
      ]
    },
    {
      "cell_type": "code",
      "execution_count": null,
      "metadata": {
        "id": "NKZyyFrziHdH"
      },
      "outputs": [],
      "source": [
        "b = list(range(each))\n",
        "random.shuffle(b)\n",
        "for i in b:\n",
        "  img = Image.open(os.path.join('/content/curr', w[2*i]))\n",
        "  display(img.resize(new_size))\n",
        "  img = Image.open(os.path.join('/content/curr', w[2*i+1]))\n",
        "  display(img.resize(new_size))"
      ]
    },
    {
      "cell_type": "code",
      "execution_count": null,
      "metadata": {
        "id": "l6ZkUEL5_ZTb"
      },
      "outputs": [],
      "source": [
        "each = 500\n",
        "start = 0 #10 50\n",
        "if 2*(start+1)*each > len(df):\n",
        "  w = df[2*start*each:]\n",
        "else:\n",
        "  w = df[2*start*each:2*(start+1)*each]\n",
        "r=[]"
      ]
    },
    {
      "cell_type": "code",
      "execution_count": null,
      "metadata": {
        "colab": {
          "background_save": true,
          "base_uri": "https://localhost:8080/",
          "height": 1000
        },
        "id": "ukOveTjs28CU",
        "outputId": "67c1be03-0978-488e-807e-5e339545b60b"
      },
      "outputs": [],
      "source": [
        "while len(r*2)!=len(w):\n",
        "  #break\n",
        "  b = list(range(each))\n",
        "  random.shuffle(b)\n",
        "  for i in b:\n",
        "    if i in r:\n",
        "      continue\n",
        "    img = Image.open(os.path.join('/content/curr', w[2*i]))\n",
        "    display(img.resize(new_size))\n",
        "    time.sleep(2)\n",
        "    img = Image.open(os.path.join('/content/curr', w[2*i+1]))\n",
        "    display(img.resize(new_size))\n",
        "    c = input()\n",
        "    if c == ';':\n",
        "      r.append(i)\n",
        "    if c == 'pause':\n",
        "      break\n",
        "  print('-'*10)\n",
        "  if c == 'pause':\n",
        "    break\n",
        "print('done')"
      ]
    },
    {
      "cell_type": "code",
      "execution_count": null,
      "metadata": {
        "id": "d_DmgtE23r0u"
      },
      "outputs": [],
      "source": []
    }
  ],
  "metadata": {
    "colab": {
      "provenance": []
    },
    "kernelspec": {
      "display_name": "Python 3",
      "name": "python3"
    },
    "language_info": {
      "name": "python"
    }
  },
  "nbformat": 4,
  "nbformat_minor": 0
}
