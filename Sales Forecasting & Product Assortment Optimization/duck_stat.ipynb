{
 "cells": [
  {
   "cell_type": "code",
   "execution_count": 2,
   "id": "3c183f61",
   "metadata": {},
   "outputs": [],
   "source": [
    "import polars as pl"
   ]
  },
  {
   "cell_type": "code",
   "execution_count": 3,
   "id": "abdff578",
   "metadata": {},
   "outputs": [
    {
     "data": {
      "text/html": [
       "<div><style>\n",
       ".dataframe > thead > tr,\n",
       ".dataframe > tbody > tr {\n",
       "  text-align: right;\n",
       "  white-space: pre-wrap;\n",
       "}\n",
       "</style>\n",
       "<small>shape: (800_557, 5)</small><table border=\"1\" class=\"dataframe\"><thead><tr><th>OrderDate</th><th>CustomerBKey</th><th>ProductBKey</th><th>MODEL_4</th><th>OrderWeight</th></tr><tr><td>datetime[μs]</td><td>str</td><td>str</td><td>str</td><td>f64</td></tr></thead><tbody><tr><td>2024-02-08 00:00:00</td><td>&quot;2000382733&quot;</td><td>&quot;000000000023042143&quot;</td><td>&quot;ภาคเหนือบน เขต 1&quot;</td><td>24.0</td></tr><tr><td>2025-01-02 00:00:00</td><td>&quot;2000360209&quot;</td><td>&quot;000000000023103882&quot;</td><td>&quot;ภาคเหนือบน เขต 1&quot;</td><td>35.1</td></tr><tr><td>2024-11-09 00:00:00</td><td>&quot;2000098337&quot;</td><td>&quot;000000000023103882&quot;</td><td>&quot;ภาคเหนือบน เขต 1&quot;</td><td>20.0</td></tr><tr><td>2024-06-29 00:00:00</td><td>&quot;2000147806&quot;</td><td>&quot;000000000023010737&quot;</td><td>&quot;ภาคใต้ เขต 2&quot;</td><td>24.0</td></tr><tr><td>2024-12-03 00:00:00</td><td>&quot;2000173747&quot;</td><td>&quot;000000000023103882&quot;</td><td>&quot;ภาคเหนือบน เขต 1&quot;</td><td>20.0</td></tr><tr><td>&hellip;</td><td>&hellip;</td><td>&hellip;</td><td>&hellip;</td><td>&hellip;</td></tr><tr><td>2025-02-04 00:00:00</td><td>&quot;NE37&quot;</td><td>&quot;000000000023105810&quot;</td><td>&quot;ภาคอีสานล่าง เขต 2&quot;</td><td>null</td></tr><tr><td>2025-02-05 00:00:00</td><td>&quot;NE37&quot;</td><td>&quot;000000000023105810&quot;</td><td>&quot;ภาคอีสานล่าง เขต 2&quot;</td><td>null</td></tr><tr><td>2025-02-06 00:00:00</td><td>&quot;NE37&quot;</td><td>&quot;000000000023105810&quot;</td><td>&quot;ภาคอีสานล่าง เขต 2&quot;</td><td>null</td></tr><tr><td>2025-02-07 00:00:00</td><td>&quot;NE37&quot;</td><td>&quot;000000000023105810&quot;</td><td>&quot;ภาคอีสานล่าง เขต 2&quot;</td><td>null</td></tr><tr><td>2025-02-08 00:00:00</td><td>&quot;NE37&quot;</td><td>&quot;000000000023105810&quot;</td><td>&quot;ภาคอีสานล่าง เขต 2&quot;</td><td>null</td></tr></tbody></table></div>"
      ],
      "text/plain": [
       "shape: (800_557, 5)\n",
       "┌─────────────────────┬──────────────┬────────────────────┬──────────────────┬─────────────┐\n",
       "│ OrderDate           ┆ CustomerBKey ┆ ProductBKey        ┆ MODEL_4          ┆ OrderWeight │\n",
       "│ ---                 ┆ ---          ┆ ---                ┆ ---              ┆ ---         │\n",
       "│ datetime[μs]        ┆ str          ┆ str                ┆ str              ┆ f64         │\n",
       "╞═════════════════════╪══════════════╪════════════════════╪══════════════════╪═════════════╡\n",
       "│ 2024-02-08 00:00:00 ┆ 2000382733   ┆ 000000000023042143 ┆ ภาคเหนือบน เขต 1  ┆ 24.0        │\n",
       "│ 2025-01-02 00:00:00 ┆ 2000360209   ┆ 000000000023103882 ┆ ภาคเหนือบน เขต 1  ┆ 35.1        │\n",
       "│ 2024-11-09 00:00:00 ┆ 2000098337   ┆ 000000000023103882 ┆ ภาคเหนือบน เขต 1  ┆ 20.0        │\n",
       "│ 2024-06-29 00:00:00 ┆ 2000147806   ┆ 000000000023010737 ┆ ภาคใต้ เขต 2      ┆ 24.0        │\n",
       "│ 2024-12-03 00:00:00 ┆ 2000173747   ┆ 000000000023103882 ┆ ภาคเหนือบน เขต 1  ┆ 20.0        │\n",
       "│ …                   ┆ …            ┆ …                  ┆ …                ┆ …           │\n",
       "│ 2025-02-04 00:00:00 ┆ NE37         ┆ 000000000023105810 ┆ ภาคอีสานล่าง เขต 2 ┆ null        │\n",
       "│ 2025-02-05 00:00:00 ┆ NE37         ┆ 000000000023105810 ┆ ภาคอีสานล่าง เขต 2 ┆ null        │\n",
       "│ 2025-02-06 00:00:00 ┆ NE37         ┆ 000000000023105810 ┆ ภาคอีสานล่าง เขต 2 ┆ null        │\n",
       "│ 2025-02-07 00:00:00 ┆ NE37         ┆ 000000000023105810 ┆ ภาคอีสานล่าง เขต 2 ┆ null        │\n",
       "│ 2025-02-08 00:00:00 ┆ NE37         ┆ 000000000023105810 ┆ ภาคอีสานล่าง เขต 2 ┆ null        │\n",
       "└─────────────────────┴──────────────┴────────────────────┴──────────────────┴─────────────┘"
      ]
     },
     "execution_count": 3,
     "metadata": {},
     "output_type": "execute_result"
    }
   ],
   "source": [
    "duck = pl.scan_parquet(\"duck_tran_test.parquet\")\n",
    "duck.collect()"
   ]
  },
  {
   "cell_type": "code",
   "execution_count": 6,
   "id": "dc357cc1",
   "metadata": {},
   "outputs": [],
   "source": [
    "all_data = duck"
   ]
  },
  {
   "cell_type": "code",
   "execution_count": 30,
   "id": "d243c36e",
   "metadata": {},
   "outputs": [
    {
     "data": {
      "text/html": [
       "<div><style>\n",
       ".dataframe > thead > tr,\n",
       ".dataframe > tbody > tr {\n",
       "  text-align: right;\n",
       "  white-space: pre-wrap;\n",
       "}\n",
       "</style>\n",
       "<small>shape: (39_143_031, 15)</small><table border=\"1\" class=\"dataframe\"><thead><tr><th>OrderDate</th><th>CustomerBKey</th><th>ProductBKey</th><th>MODEL_4</th><th>OrderWeight</th><th>mean_weight</th><th>median_weight</th><th>std_weight</th><th>MA_7</th><th>SMA_7</th><th>EMA_7</th><th>STO_14</th><th>Momentum_7</th><th>max_order_weight</th><th>min_order_weight</th></tr><tr><td>datetime[μs]</td><td>str</td><td>str</td><td>str</td><td>f64</td><td>f64</td><td>f64</td><td>f64</td><td>f64</td><td>f64</td><td>f64</td><td>f64</td><td>f64</td><td>f64</td><td>f64</td></tr></thead><tbody><tr><td>2024-06-04 00:00:00</td><td>&quot;2000389390&quot;</td><td>&quot;000000000023038994&quot;</td><td>&quot;ภาคกลางตะวันตก เขต 2&quot;</td><td>2.25</td><td>14.315157</td><td>4.5</td><td>39.105999</td><td>181.75</td><td>181.75</td><td>158.720479</td><td>0.0</td><td>-17.75</td><td>399.75</td><td>0.15</td></tr><tr><td>2024-09-07 00:00:00</td><td>&quot;2000335288&quot;</td><td>&quot;000000000023057674&quot;</td><td>&quot;ภาคกลางตะวันตก เขต 2&quot;</td><td>10.0</td><td>16.296582</td><td>10.0</td><td>28.385846</td><td>27.714286</td><td>27.714286</td><td>36.268902</td><td>0.558659</td><td>5.0</td><td>4000.0</td><td>1.0</td></tr><tr><td>2024-03-27 00:00:00</td><td>&quot;2000019975&quot;</td><td>&quot;000000000023001078&quot;</td><td>&quot;ภาคกลางตะวันตก เขต 2&quot;</td><td>20.0</td><td>33.631441</td><td>15.0</td><td>201.224689</td><td>17.857143</td><td>17.857143</td><td>72.461587</td><td>1.069519</td><td>-1480.0</td><td>11420.0</td><td>5.0</td></tr><tr><td>2024-05-21 00:00:00</td><td>&quot;2000088230&quot;</td><td>&quot;000000000023028201&quot;</td><td>&quot;ภาคกลางตะวันตก เขต 2&quot;</td><td>5.0</td><td>22.786017</td><td>10.0</td><td>62.316487</td><td>21.928571</td><td>21.928571</td><td>46.993529</td><td>0.125104</td><td>-1.0</td><td>500.0</td><td>1.0</td></tr><tr><td>2024-11-07 00:00:00</td><td>&quot;2000019975&quot;</td><td>&quot;000000000023001659&quot;</td><td>&quot;ภาคกลางตะวันตก เขต 2&quot;</td><td>10.0</td><td>23.011945</td><td>10.0</td><td>36.606269</td><td>9.614286</td><td>9.614286</td><td>16.226785</td><td>2.749832</td><td>0.0</td><td>5050.0</td><td>5.0</td></tr><tr><td>&hellip;</td><td>&hellip;</td><td>&hellip;</td><td>&hellip;</td><td>&hellip;</td><td>&hellip;</td><td>&hellip;</td><td>&hellip;</td><td>&hellip;</td><td>&hellip;</td><td>&hellip;</td><td>&hellip;</td><td>&hellip;</td><td>&hellip;</td><td>&hellip;</td></tr><tr><td>2025-04-20 00:00:00</td><td>&quot;S201&quot;</td><td>&quot;082131U01100K02XP1&quot;</td><td>&quot;ภาคใต้ เขต 5&quot;</td><td>null</td><td>null</td><td>null</td><td>null</td><td>null</td><td>null</td><td>null</td><td>null</td><td>null</td><td>900.0</td><td>7.0</td></tr><tr><td>2025-04-21 00:00:00</td><td>&quot;S201&quot;</td><td>&quot;082131U01100K02XP1&quot;</td><td>&quot;ภาคใต้ เขต 5&quot;</td><td>null</td><td>null</td><td>null</td><td>null</td><td>null</td><td>null</td><td>null</td><td>null</td><td>null</td><td>900.0</td><td>7.0</td></tr><tr><td>2025-04-22 00:00:00</td><td>&quot;S201&quot;</td><td>&quot;082131U01100K02XP1&quot;</td><td>&quot;ภาคใต้ เขต 5&quot;</td><td>null</td><td>null</td><td>null</td><td>null</td><td>null</td><td>null</td><td>null</td><td>null</td><td>null</td><td>900.0</td><td>7.0</td></tr><tr><td>2025-04-23 00:00:00</td><td>&quot;S201&quot;</td><td>&quot;082131U01100K02XP1&quot;</td><td>&quot;ภาคใต้ เขต 5&quot;</td><td>null</td><td>null</td><td>null</td><td>null</td><td>null</td><td>null</td><td>null</td><td>null</td><td>null</td><td>900.0</td><td>7.0</td></tr><tr><td>2025-04-24 00:00:00</td><td>&quot;S201&quot;</td><td>&quot;082131U01100K02XP1&quot;</td><td>&quot;ภาคใต้ เขต 5&quot;</td><td>null</td><td>null</td><td>null</td><td>null</td><td>null</td><td>null</td><td>null</td><td>null</td><td>null</td><td>900.0</td><td>7.0</td></tr></tbody></table></div>"
      ],
      "text/plain": [
       "shape: (39_143_031, 15)\n",
       "┌───────────┬───────────┬───────────┬───────────┬───┬──────────┬───────────┬───────────┬───────────┐\n",
       "│ OrderDate ┆ CustomerB ┆ ProductBK ┆ MODEL_4   ┆ … ┆ STO_14   ┆ Momentum_ ┆ max_order ┆ min_order │\n",
       "│ ---       ┆ Key       ┆ ey        ┆ ---       ┆   ┆ ---      ┆ 7         ┆ _weight   ┆ _weight   │\n",
       "│ datetime[ ┆ ---       ┆ ---       ┆ str       ┆   ┆ f64      ┆ ---       ┆ ---       ┆ ---       │\n",
       "│ μs]       ┆ str       ┆ str       ┆           ┆   ┆          ┆ f64       ┆ f64       ┆ f64       │\n",
       "╞═══════════╪═══════════╪═══════════╪═══════════╪═══╪══════════╪═══════════╪═══════════╪═══════════╡\n",
       "│ 2024-06-0 ┆ 200038939 ┆ 000000000 ┆ ภาคกลางตะ ┆ … ┆ 0.0      ┆ -17.75    ┆ 399.75    ┆ 0.15      │\n",
       "│ 4         ┆ 0         ┆ 023038994 ┆ วันตก เขต  ┆   ┆          ┆           ┆           ┆           │\n",
       "│ 00:00:00  ┆           ┆           ┆ 2         ┆   ┆          ┆           ┆           ┆           │\n",
       "│ 2024-09-0 ┆ 200033528 ┆ 000000000 ┆ ภาคกลางตะ ┆ … ┆ 0.558659 ┆ 5.0       ┆ 4000.0    ┆ 1.0       │\n",
       "│ 7         ┆ 8         ┆ 023057674 ┆ วันตก เขต  ┆   ┆          ┆           ┆           ┆           │\n",
       "│ 00:00:00  ┆           ┆           ┆ 2         ┆   ┆          ┆           ┆           ┆           │\n",
       "│ 2024-03-2 ┆ 200001997 ┆ 000000000 ┆ ภาคกลางตะ ┆ … ┆ 1.069519 ┆ -1480.0   ┆ 11420.0   ┆ 5.0       │\n",
       "│ 7         ┆ 5         ┆ 023001078 ┆ วันตก เขต  ┆   ┆          ┆           ┆           ┆           │\n",
       "│ 00:00:00  ┆           ┆           ┆ 2         ┆   ┆          ┆           ┆           ┆           │\n",
       "│ 2024-05-2 ┆ 200008823 ┆ 000000000 ┆ ภาคกลางตะ ┆ … ┆ 0.125104 ┆ -1.0      ┆ 500.0     ┆ 1.0       │\n",
       "│ 1         ┆ 0         ┆ 023028201 ┆ วันตก เขต  ┆   ┆          ┆           ┆           ┆           │\n",
       "│ 00:00:00  ┆           ┆           ┆ 2         ┆   ┆          ┆           ┆           ┆           │\n",
       "│ 2024-11-0 ┆ 200001997 ┆ 000000000 ┆ ภาคกลางตะ ┆ … ┆ 2.749832 ┆ 0.0       ┆ 5050.0    ┆ 5.0       │\n",
       "│ 7         ┆ 5         ┆ 023001659 ┆ วันตก เขต  ┆   ┆          ┆           ┆           ┆           │\n",
       "│ 00:00:00  ┆           ┆           ┆ 2         ┆   ┆          ┆           ┆           ┆           │\n",
       "│ …         ┆ …         ┆ …         ┆ …         ┆ … ┆ …        ┆ …         ┆ …         ┆ …         │\n",
       "│ 2025-04-2 ┆ S201      ┆ 082131U01 ┆ ภาคใต้ เขต ┆ … ┆ null     ┆ null      ┆ 900.0     ┆ 7.0       │\n",
       "│ 0         ┆           ┆ 100K02XP1 ┆ 5         ┆   ┆          ┆           ┆           ┆           │\n",
       "│ 00:00:00  ┆           ┆           ┆           ┆   ┆          ┆           ┆           ┆           │\n",
       "│ 2025-04-2 ┆ S201      ┆ 082131U01 ┆ ภาคใต้ เขต ┆ … ┆ null     ┆ null      ┆ 900.0     ┆ 7.0       │\n",
       "│ 1         ┆           ┆ 100K02XP1 ┆ 5         ┆   ┆          ┆           ┆           ┆           │\n",
       "│ 00:00:00  ┆           ┆           ┆           ┆   ┆          ┆           ┆           ┆           │\n",
       "│ 2025-04-2 ┆ S201      ┆ 082131U01 ┆ ภาคใต้ เขต ┆ … ┆ null     ┆ null      ┆ 900.0     ┆ 7.0       │\n",
       "│ 2         ┆           ┆ 100K02XP1 ┆ 5         ┆   ┆          ┆           ┆           ┆           │\n",
       "│ 00:00:00  ┆           ┆           ┆           ┆   ┆          ┆           ┆           ┆           │\n",
       "│ 2025-04-2 ┆ S201      ┆ 082131U01 ┆ ภาคใต้ เขต ┆ … ┆ null     ┆ null      ┆ 900.0     ┆ 7.0       │\n",
       "│ 3         ┆           ┆ 100K02XP1 ┆ 5         ┆   ┆          ┆           ┆           ┆           │\n",
       "│ 00:00:00  ┆           ┆           ┆           ┆   ┆          ┆           ┆           ┆           │\n",
       "│ 2025-04-2 ┆ S201      ┆ 082131U01 ┆ ภาคใต้ เขต ┆ … ┆ null     ┆ null      ┆ 900.0     ┆ 7.0       │\n",
       "│ 4         ┆           ┆ 100K02XP1 ┆ 5         ┆   ┆          ┆           ┆           ┆           │\n",
       "│ 00:00:00  ┆           ┆           ┆           ┆   ┆          ┆           ┆           ┆           │\n",
       "└───────────┴───────────┴───────────┴───────────┴───┴──────────┴───────────┴───────────┴───────────┘"
      ]
     },
     "execution_count": 30,
     "metadata": {},
     "output_type": "execute_result"
    }
   ],
   "source": [
    "all_data = pl.scan_parquet(\"/data/507/tt_all.parquet\")\n",
    "all_data.collect()"
   ]
  },
  {
   "cell_type": "code",
   "execution_count": 31,
   "id": "5aac2959",
   "metadata": {},
   "outputs": [],
   "source": [
    "all_data = all_data.select(['OrderDate', 'CustomerBKey', 'ProductBKey', 'OrderWeight'])"
   ]
  },
  {
   "cell_type": "code",
   "execution_count": null,
   "id": "207f5443",
   "metadata": {},
   "outputs": [],
   "source": []
  },
  {
   "cell_type": "code",
   "execution_count": 33,
   "id": "2066bbf7",
   "metadata": {},
   "outputs": [
    {
     "data": {
      "text/html": [
       "<div><style>\n",
       ".dataframe > thead > tr,\n",
       ".dataframe > tbody > tr {\n",
       "  text-align: right;\n",
       "  white-space: pre-wrap;\n",
       "}\n",
       "</style>\n",
       "<small>shape: (39_143_031, 4)</small><table border=\"1\" class=\"dataframe\"><thead><tr><th>OrderDate</th><th>CustomerBKey</th><th>ProductBKey</th><th>OrderWeight</th></tr><tr><td>datetime[μs]</td><td>str</td><td>str</td><td>f64</td></tr></thead><tbody><tr><td>2024-06-04 00:00:00</td><td>&quot;2000389390&quot;</td><td>&quot;000000000023038994&quot;</td><td>2.25</td></tr><tr><td>2024-09-07 00:00:00</td><td>&quot;2000335288&quot;</td><td>&quot;000000000023057674&quot;</td><td>10.0</td></tr><tr><td>2024-03-27 00:00:00</td><td>&quot;2000019975&quot;</td><td>&quot;000000000023001078&quot;</td><td>20.0</td></tr><tr><td>2024-05-21 00:00:00</td><td>&quot;2000088230&quot;</td><td>&quot;000000000023028201&quot;</td><td>5.0</td></tr><tr><td>2024-11-07 00:00:00</td><td>&quot;2000019975&quot;</td><td>&quot;000000000023001659&quot;</td><td>10.0</td></tr><tr><td>&hellip;</td><td>&hellip;</td><td>&hellip;</td><td>&hellip;</td></tr><tr><td>2025-04-20 00:00:00</td><td>&quot;S201&quot;</td><td>&quot;082131U01100K02XP1&quot;</td><td>null</td></tr><tr><td>2025-04-21 00:00:00</td><td>&quot;S201&quot;</td><td>&quot;082131U01100K02XP1&quot;</td><td>null</td></tr><tr><td>2025-04-22 00:00:00</td><td>&quot;S201&quot;</td><td>&quot;082131U01100K02XP1&quot;</td><td>null</td></tr><tr><td>2025-04-23 00:00:00</td><td>&quot;S201&quot;</td><td>&quot;082131U01100K02XP1&quot;</td><td>null</td></tr><tr><td>2025-04-24 00:00:00</td><td>&quot;S201&quot;</td><td>&quot;082131U01100K02XP1&quot;</td><td>null</td></tr></tbody></table></div>"
      ],
      "text/plain": [
       "shape: (39_143_031, 4)\n",
       "┌─────────────────────┬──────────────┬────────────────────┬─────────────┐\n",
       "│ OrderDate           ┆ CustomerBKey ┆ ProductBKey        ┆ OrderWeight │\n",
       "│ ---                 ┆ ---          ┆ ---                ┆ ---         │\n",
       "│ datetime[μs]        ┆ str          ┆ str                ┆ f64         │\n",
       "╞═════════════════════╪══════════════╪════════════════════╪═════════════╡\n",
       "│ 2024-06-04 00:00:00 ┆ 2000389390   ┆ 000000000023038994 ┆ 2.25        │\n",
       "│ 2024-09-07 00:00:00 ┆ 2000335288   ┆ 000000000023057674 ┆ 10.0        │\n",
       "│ 2024-03-27 00:00:00 ┆ 2000019975   ┆ 000000000023001078 ┆ 20.0        │\n",
       "│ 2024-05-21 00:00:00 ┆ 2000088230   ┆ 000000000023028201 ┆ 5.0         │\n",
       "│ 2024-11-07 00:00:00 ┆ 2000019975   ┆ 000000000023001659 ┆ 10.0        │\n",
       "│ …                   ┆ …            ┆ …                  ┆ …           │\n",
       "│ 2025-04-20 00:00:00 ┆ S201         ┆ 082131U01100K02XP1 ┆ null        │\n",
       "│ 2025-04-21 00:00:00 ┆ S201         ┆ 082131U01100K02XP1 ┆ null        │\n",
       "│ 2025-04-22 00:00:00 ┆ S201         ┆ 082131U01100K02XP1 ┆ null        │\n",
       "│ 2025-04-23 00:00:00 ┆ S201         ┆ 082131U01100K02XP1 ┆ null        │\n",
       "│ 2025-04-24 00:00:00 ┆ S201         ┆ 082131U01100K02XP1 ┆ null        │\n",
       "└─────────────────────┴──────────────┴────────────────────┴─────────────┘"
      ]
     },
     "execution_count": 33,
     "metadata": {},
     "output_type": "execute_result"
    }
   ],
   "source": [
    "all_data.collect()"
   ]
  },
  {
   "cell_type": "code",
   "execution_count": 5,
   "id": "d01d879f",
   "metadata": {},
   "outputs": [
    {
     "data": {
      "text/html": [
       "<div><style>\n",
       ".dataframe > thead > tr,\n",
       ".dataframe > tbody > tr {\n",
       "  text-align: right;\n",
       "  white-space: pre-wrap;\n",
       "}\n",
       "</style>\n",
       "<small>shape: (800_557, 5)</small><table border=\"1\" class=\"dataframe\"><thead><tr><th>OrderDate</th><th>CustomerBKey</th><th>ProductBKey</th><th>MODEL_4</th><th>OrderWeight</th></tr><tr><td>datetime[μs]</td><td>str</td><td>str</td><td>str</td><td>f64</td></tr></thead><tbody><tr><td>2023-01-01 00:00:00</td><td>&quot;NE18&quot;</td><td>&quot;000000000023097053&quot;</td><td>&quot;ภาคอีสานบน เขต 1&quot;</td><td>150.0</td></tr><tr><td>2023-01-01 00:00:00</td><td>&quot;NE18&quot;</td><td>&quot;000000000023097062&quot;</td><td>&quot;ภาคอีสานบน เขต 1&quot;</td><td>186.0</td></tr><tr><td>2023-01-02 00:00:00</td><td>&quot;2000091910&quot;</td><td>&quot;000000000023097050&quot;</td><td>&quot;ภาคใต้ เขต 2&quot;</td><td>13.8</td></tr><tr><td>2023-01-02 00:00:00</td><td>&quot;2000353029&quot;</td><td>&quot;000000000023097056&quot;</td><td>&quot;ภาคเหนือบน เขต 1&quot;</td><td>32.4</td></tr><tr><td>2023-01-02 00:00:00</td><td>&quot;2000098802&quot;</td><td>&quot;000000000023011331&quot;</td><td>&quot;กรุงเทพฯ เขต3&quot;</td><td>200.0</td></tr><tr><td>&hellip;</td><td>&hellip;</td><td>&hellip;</td><td>&hellip;</td><td>&hellip;</td></tr><tr><td>2025-02-08 00:00:00</td><td>&quot;NE37&quot;</td><td>&quot;000000000023097056&quot;</td><td>&quot;ภาคอีสานล่าง เขต 2&quot;</td><td>null</td></tr><tr><td>2025-02-08 00:00:00</td><td>&quot;NE37&quot;</td><td>&quot;000000000023097058&quot;</td><td>&quot;ภาคอีสานล่าง เขต 2&quot;</td><td>null</td></tr><tr><td>2025-02-08 00:00:00</td><td>&quot;NE37&quot;</td><td>&quot;000000000023097059&quot;</td><td>&quot;ภาคอีสานล่าง เขต 2&quot;</td><td>null</td></tr><tr><td>2025-02-08 00:00:00</td><td>&quot;NE37&quot;</td><td>&quot;000000000023097377&quot;</td><td>&quot;ภาคอีสานล่าง เขต 2&quot;</td><td>null</td></tr><tr><td>2025-02-08 00:00:00</td><td>&quot;NE37&quot;</td><td>&quot;000000000023105810&quot;</td><td>&quot;ภาคอีสานล่าง เขต 2&quot;</td><td>null</td></tr></tbody></table></div>"
      ],
      "text/plain": [
       "shape: (800_557, 5)\n",
       "┌─────────────────────┬──────────────┬────────────────────┬──────────────────┬─────────────┐\n",
       "│ OrderDate           ┆ CustomerBKey ┆ ProductBKey        ┆ MODEL_4          ┆ OrderWeight │\n",
       "│ ---                 ┆ ---          ┆ ---                ┆ ---              ┆ ---         │\n",
       "│ datetime[μs]        ┆ str          ┆ str                ┆ str              ┆ f64         │\n",
       "╞═════════════════════╪══════════════╪════════════════════╪══════════════════╪═════════════╡\n",
       "│ 2023-01-01 00:00:00 ┆ NE18         ┆ 000000000023097053 ┆ ภาคอีสานบน เขต 1  ┆ 150.0       │\n",
       "│ 2023-01-01 00:00:00 ┆ NE18         ┆ 000000000023097062 ┆ ภาคอีสานบน เขต 1  ┆ 186.0       │\n",
       "│ 2023-01-02 00:00:00 ┆ 2000091910   ┆ 000000000023097050 ┆ ภาคใต้ เขต 2      ┆ 13.8        │\n",
       "│ 2023-01-02 00:00:00 ┆ 2000353029   ┆ 000000000023097056 ┆ ภาคเหนือบน เขต 1  ┆ 32.4        │\n",
       "│ 2023-01-02 00:00:00 ┆ 2000098802   ┆ 000000000023011331 ┆ กรุงเทพฯ เขต3     ┆ 200.0       │\n",
       "│ …                   ┆ …            ┆ …                  ┆ …                ┆ …           │\n",
       "│ 2025-02-08 00:00:00 ┆ NE37         ┆ 000000000023097056 ┆ ภาคอีสานล่าง เขต 2 ┆ null        │\n",
       "│ 2025-02-08 00:00:00 ┆ NE37         ┆ 000000000023097058 ┆ ภาคอีสานล่าง เขต 2 ┆ null        │\n",
       "│ 2025-02-08 00:00:00 ┆ NE37         ┆ 000000000023097059 ┆ ภาคอีสานล่าง เขต 2 ┆ null        │\n",
       "│ 2025-02-08 00:00:00 ┆ NE37         ┆ 000000000023097377 ┆ ภาคอีสานล่าง เขต 2 ┆ null        │\n",
       "│ 2025-02-08 00:00:00 ┆ NE37         ┆ 000000000023105810 ┆ ภาคอีสานล่าง เขต 2 ┆ null        │\n",
       "└─────────────────────┴──────────────┴────────────────────┴──────────────────┴─────────────┘"
      ]
     },
     "execution_count": 5,
     "metadata": {},
     "output_type": "execute_result"
    }
   ],
   "source": [
    "stat.collect().sort('OrderDate')"
   ]
  },
  {
   "cell_type": "code",
   "execution_count": 7,
   "id": "d92066ba",
   "metadata": {},
   "outputs": [
    {
     "data": {
      "text/html": [
       "<div><style>\n",
       ".dataframe > thead > tr,\n",
       ".dataframe > tbody > tr {\n",
       "  text-align: right;\n",
       "  white-space: pre-wrap;\n",
       "}\n",
       "</style>\n",
       "<small>shape: (540_570, 22)</small><table border=\"1\" class=\"dataframe\"><thead><tr><th>key_cv_p</th><th>WeekMon</th><th>OrderDate</th><th>DeliveryDate</th><th>WarehouseBKey</th><th>CustomerBKey</th><th>CustomerArea3NameLocal</th><th>CLASS_PRICE</th><th>ProductForPlan1</th><th>ProductForPlan8</th><th>ProductForPlan10</th><th>ProductBKey</th><th>MODEL_4</th><th>region</th><th>OrderWeight</th><th>DeliveryWeight</th><th>WeightUnit</th><th>price_key</th><th>cls_prd_price</th><th>prd_price</th><th>p10_avg_price</th><th>__index_level_0__</th></tr><tr><td>str</td><td>datetime[ns]</td><td>datetime[ns]</td><td>datetime[ns]</td><td>str</td><td>str</td><td>str</td><td>str</td><td>str</td><td>str</td><td>str</td><td>str</td><td>str</td><td>str</td><td>f64</td><td>f64</td><td>str</td><td>str</td><td>f64</td><td>f64</td><td>f64</td><td>i64</td></tr></thead><tbody><tr><td>&quot;2000382733+000000000023042143&quot;</td><td>2024-02-05 00:00:00</td><td>2024-02-08 00:00:00</td><td>2024-02-08 00:00:00</td><td>&quot;242-OPRCDN039&quot;</td><td>&quot;2000382733&quot;</td><td>&quot;ตลาดสด&quot;</td><td>&quot;CLSPRUNO2&quot;</td><td>&quot;Duck&quot;</td><td>&quot;Main Product&quot;</td><td>&quot;BIL เป็ด&quot;</td><td>&quot;000000000023042143&quot;</td><td>&quot;ภาคเหนือบน เขต 1&quot;</td><td>&quot;ภาคเหนือบน&quot;</td><td>24.0</td><td>24.0</td><td>&quot;KG&quot;</td><td>&quot;CLSPRUNO2+000000000023042143&quot;</td><td>1734.0</td><td>648.25</td><td>396.335021</td><td>0</td></tr><tr><td>&quot;2000360209+000000000023103882&quot;</td><td>2024-12-30 00:00:00</td><td>2025-01-02 00:00:00</td><td>2025-01-02 00:00:00</td><td>&quot;242-OPRCDN039&quot;</td><td>&quot;2000360209&quot;</td><td>&quot;ตลาดนัด&quot;</td><td>&quot;CLSPRUNO1&quot;</td><td>&quot;Duck&quot;</td><td>&quot;Main Product&quot;</td><td>&quot;เป็ดตัว M&quot;</td><td>&quot;000000000023103882&quot;</td><td>&quot;ภาคเหนือบน เขต 1&quot;</td><td>&quot;ภาคเหนือบน&quot;</td><td>35.1</td><td>31.45</td><td>&quot;KG&quot;</td><td>&quot;CLSPRUNO1+000000000023103882&quot;</td><td>1543.05</td><td>744.432059</td><td>648.634939</td><td>1</td></tr><tr><td>&quot;2000098337+000000000023103882&quot;</td><td>2024-11-04 00:00:00</td><td>2024-11-09 00:00:00</td><td>2024-11-09 00:00:00</td><td>&quot;242-OPRCDN039&quot;</td><td>&quot;2000098337&quot;</td><td>&quot;ตลาดสด&quot;</td><td>&quot;CLSPRUNO2&quot;</td><td>&quot;Duck&quot;</td><td>&quot;Main Product&quot;</td><td>&quot;เป็ดตัว M&quot;</td><td>&quot;000000000023103882&quot;</td><td>&quot;ภาคเหนือบน เขต 1&quot;</td><td>&quot;ภาคเหนือบน&quot;</td><td>20.0</td><td>15.59</td><td>&quot;KG&quot;</td><td>&quot;CLSPRUNO2+000000000023103882&quot;</td><td>257.3</td><td>767.753235</td><td>633.561761</td><td>2</td></tr><tr><td>&quot;2000147806+000000000023010737&quot;</td><td>2024-07-01 00:00:00</td><td>2024-06-29 00:00:00</td><td>2024-07-01 00:00:00</td><td>&quot;242-OPRCD0850&quot;</td><td>&quot;2000147806&quot;</td><td>&quot;ค้าส่ง&quot;</td><td>&quot;CLSPRSOT5&quot;</td><td>&quot;Duck&quot;</td><td>&quot;Main Product&quot;</td><td>&quot;BIL เป็ด&quot;</td><td>&quot;000000000023010737&quot;</td><td>&quot;ภาคใต้ เขต 2&quot;</td><td>&quot;ภาคใต้&quot;</td><td>24.0</td><td>24.0</td><td>&quot;KG&quot;</td><td>&quot;CLSPRSOT5+000000000023010737&quot;</td><td>142.0</td><td>624.039062</td><td>357.368436</td><td>3</td></tr><tr><td>&quot;2000173747+000000000023103882&quot;</td><td>2024-12-02 00:00:00</td><td>2024-12-03 00:00:00</td><td>2024-12-03 00:00:00</td><td>&quot;242-OPRCDN039&quot;</td><td>&quot;2000173747&quot;</td><td>&quot;Restaurant&quot;</td><td>&quot;CLSPRUNO2&quot;</td><td>&quot;Duck&quot;</td><td>&quot;Main Product&quot;</td><td>&quot;เป็ดตัว M&quot;</td><td>&quot;000000000023103882&quot;</td><td>&quot;ภาคเหนือบน เขต 1&quot;</td><td>&quot;ภาคเหนือบน&quot;</td><td>20.0</td><td>15.8</td><td>&quot;KG&quot;</td><td>&quot;CLSPRUNO2+000000000023103882&quot;</td><td>257.3</td><td>735.214412</td><td>609.856324</td><td>4</td></tr><tr><td>&hellip;</td><td>&hellip;</td><td>&hellip;</td><td>&hellip;</td><td>&hellip;</td><td>&hellip;</td><td>&hellip;</td><td>&hellip;</td><td>&hellip;</td><td>&hellip;</td><td>&hellip;</td><td>&hellip;</td><td>&hellip;</td><td>&hellip;</td><td>&hellip;</td><td>&hellip;</td><td>&hellip;</td><td>&hellip;</td><td>&hellip;</td><td>&hellip;</td><td>&hellip;</td><td>&hellip;</td></tr><tr><td>&quot;2000207892+000000000023103972&quot;</td><td>2024-10-14 00:00:00</td><td>2024-10-15 00:00:00</td><td>2024-10-16 00:00:00</td><td>&quot;242-OPRCD0850&quot;</td><td>&quot;2000207892&quot;</td><td>&quot;ตลาดสด&quot;</td><td>&quot;CLSPRSOT9&quot;</td><td>&quot;Duck&quot;</td><td>&quot;By Product&quot;</td><td>&quot;เครื่องในเป็ดรวม&quot;</td><td>&quot;000000000023103972&quot;</td><td>&quot;ภาคใต้ เขต 6&quot;</td><td>&quot;ภาคใต้&quot;</td><td>20.0</td><td>20.0</td><td>&quot;KG&quot;</td><td>&quot;CLSPRSOT9+000000000023103972&quot;</td><td>44.25</td><td>39.619863</td><td>133.089019</td><td>553692</td></tr><tr><td>&quot;2000337998+000000000023103972&quot;</td><td>2024-08-05 00:00:00</td><td>2024-08-08 00:00:00</td><td>2024-08-09 00:00:00</td><td>&quot;242-OPRCD0850&quot;</td><td>&quot;2000337998&quot;</td><td>&quot;Fresh shop - ขนาดเล็ก&quot;</td><td>&quot;CLSPRSOT9&quot;</td><td>&quot;Duck&quot;</td><td>&quot;By Product&quot;</td><td>&quot;เครื่องในเป็ดรวม&quot;</td><td>&quot;000000000023103972&quot;</td><td>&quot;ภาคใต้ เขต 6&quot;</td><td>&quot;ภาคใต้&quot;</td><td>2.0</td><td>2.0</td><td>&quot;KG&quot;</td><td>&quot;CLSPRSOT9+000000000023103972&quot;</td><td>44.25</td><td>39.594697</td><td>88.527661</td><td>553693</td></tr><tr><td>&quot;2000146338+000000000023103972&quot;</td><td>2024-08-19 00:00:00</td><td>2024-08-19 00:00:00</td><td>2024-08-21 00:00:00</td><td>&quot;242-OPRCD0850&quot;</td><td>&quot;2000146338&quot;</td><td>&quot;Fresh shop - ขนาดเล็ก&quot;</td><td>&quot;CLSPRSOT9&quot;</td><td>&quot;Duck&quot;</td><td>&quot;By Product&quot;</td><td>&quot;เครื่องในเป็ดรวม&quot;</td><td>&quot;000000000023103972&quot;</td><td>&quot;ภาคใต้ เขต 6&quot;</td><td>&quot;ภาคใต้&quot;</td><td>6.0</td><td>6.0</td><td>&quot;KG&quot;</td><td>&quot;CLSPRSOT9+000000000023103972&quot;</td><td>44.25</td><td>39.594697</td><td>88.527661</td><td>553694</td></tr><tr><td>&quot;2000048234+000000000023103972&quot;</td><td>2024-10-21 00:00:00</td><td>2024-10-24 00:00:00</td><td>2024-10-25 00:00:00</td><td>&quot;242-OPRCD0850&quot;</td><td>&quot;2000048234&quot;</td><td>&quot;ตลาดสด&quot;</td><td>&quot;CLSPRSOT9&quot;</td><td>&quot;Duck&quot;</td><td>&quot;By Product&quot;</td><td>&quot;เครื่องในเป็ดรวม&quot;</td><td>&quot;000000000023103972&quot;</td><td>&quot;ภาคใต้ เขต 6&quot;</td><td>&quot;ภาคใต้&quot;</td><td>8.0</td><td>8.0</td><td>&quot;KG&quot;</td><td>&quot;CLSPRSOT9+000000000023103972&quot;</td><td>44.25</td><td>39.619863</td><td>133.089019</td><td>553695</td></tr><tr><td>&quot;2000146338+000000000023103972&quot;</td><td>2024-10-14 00:00:00</td><td>2024-10-14 00:00:00</td><td>2024-10-16 00:00:00</td><td>&quot;242-OPRCD0850&quot;</td><td>&quot;2000146338&quot;</td><td>&quot;Fresh shop - ขนาดเล็ก&quot;</td><td>&quot;CLSPRSOT9&quot;</td><td>&quot;Duck&quot;</td><td>&quot;By Product&quot;</td><td>&quot;เครื่องในเป็ดรวม&quot;</td><td>&quot;000000000023103972&quot;</td><td>&quot;ภาคใต้ เขต 6&quot;</td><td>&quot;ภาคใต้&quot;</td><td>8.0</td><td>8.0</td><td>&quot;KG&quot;</td><td>&quot;CLSPRSOT9+000000000023103972&quot;</td><td>44.25</td><td>39.619863</td><td>133.089019</td><td>553696</td></tr></tbody></table></div>"
      ],
      "text/plain": [
       "shape: (540_570, 22)\n",
       "┌───────────┬───────────┬───────────┬───────────┬───┬───────────┬───────────┬───────────┬──────────┐\n",
       "│ key_cv_p  ┆ WeekMon   ┆ OrderDate ┆ DeliveryD ┆ … ┆ cls_prd_p ┆ prd_price ┆ p10_avg_p ┆ __index_ │\n",
       "│ ---       ┆ ---       ┆ ---       ┆ ate       ┆   ┆ rice      ┆ ---       ┆ rice      ┆ level_0_ │\n",
       "│ str       ┆ datetime[ ┆ datetime[ ┆ ---       ┆   ┆ ---       ┆ f64       ┆ ---       ┆ _        │\n",
       "│           ┆ ns]       ┆ ns]       ┆ datetime[ ┆   ┆ f64       ┆           ┆ f64       ┆ ---      │\n",
       "│           ┆           ┆           ┆ ns]       ┆   ┆           ┆           ┆           ┆ i64      │\n",
       "╞═══════════╪═══════════╪═══════════╪═══════════╪═══╪═══════════╪═══════════╪═══════════╪══════════╡\n",
       "│ 200038273 ┆ 2024-02-0 ┆ 2024-02-0 ┆ 2024-02-0 ┆ … ┆ 1734.0    ┆ 648.25    ┆ 396.33502 ┆ 0        │\n",
       "│ 3+0000000 ┆ 5         ┆ 8         ┆ 8         ┆   ┆           ┆           ┆ 1         ┆          │\n",
       "│ 000230421 ┆ 00:00:00  ┆ 00:00:00  ┆ 00:00:00  ┆   ┆           ┆           ┆           ┆          │\n",
       "│ 43        ┆           ┆           ┆           ┆   ┆           ┆           ┆           ┆          │\n",
       "│ 200036020 ┆ 2024-12-3 ┆ 2025-01-0 ┆ 2025-01-0 ┆ … ┆ 1543.05   ┆ 744.43205 ┆ 648.63493 ┆ 1        │\n",
       "│ 9+0000000 ┆ 0         ┆ 2         ┆ 2         ┆   ┆           ┆ 9         ┆ 9         ┆          │\n",
       "│ 000231038 ┆ 00:00:00  ┆ 00:00:00  ┆ 00:00:00  ┆   ┆           ┆           ┆           ┆          │\n",
       "│ 82        ┆           ┆           ┆           ┆   ┆           ┆           ┆           ┆          │\n",
       "│ 200009833 ┆ 2024-11-0 ┆ 2024-11-0 ┆ 2024-11-0 ┆ … ┆ 257.3     ┆ 767.75323 ┆ 633.56176 ┆ 2        │\n",
       "│ 7+0000000 ┆ 4         ┆ 9         ┆ 9         ┆   ┆           ┆ 5         ┆ 1         ┆          │\n",
       "│ 000231038 ┆ 00:00:00  ┆ 00:00:00  ┆ 00:00:00  ┆   ┆           ┆           ┆           ┆          │\n",
       "│ 82        ┆           ┆           ┆           ┆   ┆           ┆           ┆           ┆          │\n",
       "│ 200014780 ┆ 2024-07-0 ┆ 2024-06-2 ┆ 2024-07-0 ┆ … ┆ 142.0     ┆ 624.03906 ┆ 357.36843 ┆ 3        │\n",
       "│ 6+0000000 ┆ 1         ┆ 9         ┆ 1         ┆   ┆           ┆ 2         ┆ 6         ┆          │\n",
       "│ 000230107 ┆ 00:00:00  ┆ 00:00:00  ┆ 00:00:00  ┆   ┆           ┆           ┆           ┆          │\n",
       "│ 37        ┆           ┆           ┆           ┆   ┆           ┆           ┆           ┆          │\n",
       "│ 200017374 ┆ 2024-12-0 ┆ 2024-12-0 ┆ 2024-12-0 ┆ … ┆ 257.3     ┆ 735.21441 ┆ 609.85632 ┆ 4        │\n",
       "│ 7+0000000 ┆ 2         ┆ 3         ┆ 3         ┆   ┆           ┆ 2         ┆ 4         ┆          │\n",
       "│ 000231038 ┆ 00:00:00  ┆ 00:00:00  ┆ 00:00:00  ┆   ┆           ┆           ┆           ┆          │\n",
       "│ 82        ┆           ┆           ┆           ┆   ┆           ┆           ┆           ┆          │\n",
       "│ …         ┆ …         ┆ …         ┆ …         ┆ … ┆ …         ┆ …         ┆ …         ┆ …        │\n",
       "│ 200020789 ┆ 2024-10-1 ┆ 2024-10-1 ┆ 2024-10-1 ┆ … ┆ 44.25     ┆ 39.619863 ┆ 133.08901 ┆ 553692   │\n",
       "│ 2+0000000 ┆ 4         ┆ 5         ┆ 6         ┆   ┆           ┆           ┆ 9         ┆          │\n",
       "│ 000231039 ┆ 00:00:00  ┆ 00:00:00  ┆ 00:00:00  ┆   ┆           ┆           ┆           ┆          │\n",
       "│ 72        ┆           ┆           ┆           ┆   ┆           ┆           ┆           ┆          │\n",
       "│ 200033799 ┆ 2024-08-0 ┆ 2024-08-0 ┆ 2024-08-0 ┆ … ┆ 44.25     ┆ 39.594697 ┆ 88.527661 ┆ 553693   │\n",
       "│ 8+0000000 ┆ 5         ┆ 8         ┆ 9         ┆   ┆           ┆           ┆           ┆          │\n",
       "│ 000231039 ┆ 00:00:00  ┆ 00:00:00  ┆ 00:00:00  ┆   ┆           ┆           ┆           ┆          │\n",
       "│ 72        ┆           ┆           ┆           ┆   ┆           ┆           ┆           ┆          │\n",
       "│ 200014633 ┆ 2024-08-1 ┆ 2024-08-1 ┆ 2024-08-2 ┆ … ┆ 44.25     ┆ 39.594697 ┆ 88.527661 ┆ 553694   │\n",
       "│ 8+0000000 ┆ 9         ┆ 9         ┆ 1         ┆   ┆           ┆           ┆           ┆          │\n",
       "│ 000231039 ┆ 00:00:00  ┆ 00:00:00  ┆ 00:00:00  ┆   ┆           ┆           ┆           ┆          │\n",
       "│ 72        ┆           ┆           ┆           ┆   ┆           ┆           ┆           ┆          │\n",
       "│ 200004823 ┆ 2024-10-2 ┆ 2024-10-2 ┆ 2024-10-2 ┆ … ┆ 44.25     ┆ 39.619863 ┆ 133.08901 ┆ 553695   │\n",
       "│ 4+0000000 ┆ 1         ┆ 4         ┆ 5         ┆   ┆           ┆           ┆ 9         ┆          │\n",
       "│ 000231039 ┆ 00:00:00  ┆ 00:00:00  ┆ 00:00:00  ┆   ┆           ┆           ┆           ┆          │\n",
       "│ 72        ┆           ┆           ┆           ┆   ┆           ┆           ┆           ┆          │\n",
       "│ 200014633 ┆ 2024-10-1 ┆ 2024-10-1 ┆ 2024-10-1 ┆ … ┆ 44.25     ┆ 39.619863 ┆ 133.08901 ┆ 553696   │\n",
       "│ 8+0000000 ┆ 4         ┆ 4         ┆ 6         ┆   ┆           ┆           ┆ 9         ┆          │\n",
       "│ 000231039 ┆ 00:00:00  ┆ 00:00:00  ┆ 00:00:00  ┆   ┆           ┆           ┆           ┆          │\n",
       "│ 72        ┆           ┆           ┆           ┆   ┆           ┆           ┆           ┆          │\n",
       "└───────────┴───────────┴───────────┴───────────┴───┴───────────┴───────────┴───────────┴──────────┘"
      ]
     },
     "execution_count": 7,
     "metadata": {},
     "output_type": "execute_result"
    }
   ],
   "source": [
    "all_data = pl.read_parquet(\"/data/Duck_data/demand-forecasting-duck-product/problem2_filter_transaction_price.parquet\")\n",
    "all_data"
   ]
  },
  {
   "cell_type": "code",
   "execution_count": 14,
   "id": "98889bc6",
   "metadata": {},
   "outputs": [],
   "source": [
    "import polars as pl\n",
    "\n",
    "# Assume df is your initial DataFrame\n",
    "df = all_data.sort(\"OrderDate\")  # Ensure chronological order for rolling functions\n",
    "\n",
    "df = df.with_columns([\n",
    "    # 1. mean, median, std (per ProductBKey)\n",
    "    pl.col(\"OrderWeight\").mean().over(\"ProductBKey\").alias(\"mean_weight\"),\n",
    "    pl.col(\"OrderWeight\").median().over(\"ProductBKey\").alias(\"median_weight\"),\n",
    "    pl.col(\"OrderWeight\").std().over(\"ProductBKey\").alias(\"std_weight\"),\n",
    "\n",
    "    # 2. Rolling Mean (MA_7, SMA_7) over 7 rows (sorted by OrderDate within each ProductBKey)\n",
    "    pl.col(\"OrderWeight\").rolling_mean(window_size=7).alias(\"MA_7\"),\n",
    "    pl.col(\"OrderWeight\").rolling_mean(window_size=7).alias(\"SMA_7\"),\n",
    "\n",
    "    # 3. EMA_7 — Exponential Moving Average (custom implementation)\n",
    "    pl.col(\"OrderWeight\").ewm_mean(com=7).alias(\"EMA_7\"),\n",
    "\n",
    "    # 4. STO_14 — Stochastic Oscillator (normalized position in range over last 14 values)\n",
    "    (\n",
    "        (pl.col(\"OrderWeight\") - pl.col(\"OrderWeight\").rolling_min(window_size=14)) /\n",
    "        (pl.col(\"OrderWeight\").rolling_max(window_size=14) - pl.col(\"OrderWeight\").rolling_min(window_size=14))\n",
    "    ).alias(\"STO_14\"),\n",
    "\n",
    "    # 5. Momentum_7 — difference from 7 time steps ago\n",
    "    (pl.col(\"OrderWeight\") - pl.col(\"OrderWeight\").shift(7)).alias(\"Momentum_7\"),\n",
    "\n",
    "    # 6. max & min OrderWeight per ProductBKey\n",
    "    pl.col(\"OrderWeight\").max().over(\"ProductBKey\").alias(\"max_order_weight\"),\n",
    "    pl.col(\"OrderWeight\").min().over(\"ProductBKey\").alias(\"min_order_weight\"),\n",
    "])\n"
   ]
  },
  {
   "cell_type": "code",
   "execution_count": 15,
   "id": "bfbd52dd",
   "metadata": {},
   "outputs": [
    {
     "data": {
      "text/html": [
       "<div><style>\n",
       ".dataframe > thead > tr,\n",
       ".dataframe > tbody > tr {\n",
       "  text-align: right;\n",
       "  white-space: pre-wrap;\n",
       "}\n",
       "</style>\n",
       "<small>shape: (540_570, 32)</small><table border=\"1\" class=\"dataframe\"><thead><tr><th>key_cv_p</th><th>WeekMon</th><th>OrderDate</th><th>DeliveryDate</th><th>WarehouseBKey</th><th>CustomerBKey</th><th>CustomerArea3NameLocal</th><th>CLASS_PRICE</th><th>ProductForPlan1</th><th>ProductForPlan8</th><th>ProductForPlan10</th><th>ProductBKey</th><th>MODEL_4</th><th>region</th><th>OrderWeight</th><th>DeliveryWeight</th><th>WeightUnit</th><th>price_key</th><th>cls_prd_price</th><th>prd_price</th><th>p10_avg_price</th><th>__index_level_0__</th><th>mean_weight</th><th>median_weight</th><th>std_weight</th><th>MA_7</th><th>SMA_7</th><th>EMA_7</th><th>STO_14</th><th>Momentum_7</th><th>max_order_weight</th><th>min_order_weight</th></tr><tr><td>str</td><td>datetime[ns]</td><td>datetime[ns]</td><td>datetime[ns]</td><td>str</td><td>str</td><td>str</td><td>str</td><td>str</td><td>str</td><td>str</td><td>str</td><td>str</td><td>str</td><td>f64</td><td>f64</td><td>str</td><td>str</td><td>f64</td><td>f64</td><td>f64</td><td>i64</td><td>f64</td><td>f64</td><td>f64</td><td>f64</td><td>f64</td><td>f64</td><td>f64</td><td>f64</td><td>f64</td><td>f64</td></tr></thead><tbody><tr><td>&quot;NE18+000000000023097053&quot;</td><td>2023-01-02 00:00:00</td><td>2023-01-01 00:00:00</td><td>2023-01-07 00:00:00</td><td>&quot;242-OPRCD2604-OPRCD10000&quot;</td><td>&quot;NE18&quot;</td><td>null</td><td>&quot;CLSPRUNE1&quot;</td><td>&quot;Duck&quot;</td><td>&quot;Main Product&quot;</td><td>&quot;เป็ดตัว S&quot;</td><td>&quot;000000000023097053&quot;</td><td>&quot;ภาคอีสานบน เขต 1&quot;</td><td>&quot;ภาคอีสานบน&quot;</td><td>150.0</td><td>150.0</td><td>&quot;KG&quot;</td><td>&quot;CLSPRUNE1+000000000023097053&quot;</td><td>1440.0</td><td>560.598615</td><td>399.260671</td><td>435463</td><td>73.815338</td><td>30.0</td><td>193.807638</td><td>null</td><td>null</td><td>150.0</td><td>null</td><td>null</td><td>6020.0</td><td>8.75</td></tr><tr><td>&quot;NE18+000000000023097062&quot;</td><td>2023-01-02 00:00:00</td><td>2023-01-01 00:00:00</td><td>2023-01-07 00:00:00</td><td>&quot;242-OPRCD2604-OPRCD10000&quot;</td><td>&quot;NE18&quot;</td><td>null</td><td>&quot;CLSPRUNE1&quot;</td><td>&quot;Duck&quot;</td><td>&quot;Main Product&quot;</td><td>&quot;เป็ดตัว XL&quot;</td><td>&quot;000000000023097062&quot;</td><td>&quot;ภาคอีสานบน เขต 1&quot;</td><td>&quot;ภาคอีสานบน&quot;</td><td>186.0</td><td>186.0</td><td>&quot;KG&quot;</td><td>&quot;CLSPRUNE1+000000000023097062&quot;</td><td>95.0</td><td>909.430455</td><td>624.176439</td><td>436576</td><td>104.975347</td><td>37.2</td><td>451.957231</td><td>null</td><td>null</td><td>169.2</td><td>null</td><td>null</td><td>31024.8</td><td>9.28</td></tr><tr><td>&quot;2000091910+000000000023097050&quot;</td><td>2023-01-02 00:00:00</td><td>2023-01-02 00:00:00</td><td>2023-01-05 00:00:00</td><td>&quot;242-OPRCD0850&quot;</td><td>&quot;2000091910&quot;</td><td>&quot;Pre-Fresh Shop&quot;</td><td>&quot;CLSPRSOT5&quot;</td><td>&quot;Duck&quot;</td><td>&quot;Main Product&quot;</td><td>&quot;เป็ดตัว AS&quot;</td><td>&quot;000000000023097050&quot;</td><td>&quot;ภาคใต้ เขต 2&quot;</td><td>&quot;ภาคใต้&quot;</td><td>13.8</td><td>13.72</td><td>&quot;KG&quot;</td><td>&quot;CLSPRSOT5+000000000023097050&quot;</td><td>1411.15</td><td>690.994364</td><td>343.910422</td><td>240</td><td>94.879766</td><td>39.5</td><td>302.866007</td><td>null</td><td>null</td><td>110.350296</td><td>null</td><td>null</td><td>6900.0</td><td>12.67</td></tr><tr><td>&quot;2000353029+000000000023097056&quot;</td><td>2023-01-02 00:00:00</td><td>2023-01-02 00:00:00</td><td>2023-01-04 00:00:00</td><td>&quot;242-80000133&quot;</td><td>&quot;2000353029&quot;</td><td>&quot;ธุรกิจเฉพาะทาง&quot;</td><td>&quot;CLSPRUNO1&quot;</td><td>&quot;Duck&quot;</td><td>&quot;Main Product&quot;</td><td>&quot;เป็ดตัว M&quot;</td><td>&quot;000000000023097056&quot;</td><td>&quot;ภาคเหนือบน เขต 1&quot;</td><td>&quot;ภาคเหนือบน&quot;</td><td>32.4</td><td>31.5</td><td>&quot;KG&quot;</td><td>&quot;CLSPRUNO1+000000000023097056&quot;</td><td>1551.25</td><td>854.958182</td><td>492.63795</td><td>5943</td><td>81.006346</td><td>32.4</td><td>242.101458</td><td>null</td><td>null</td><td>86.804248</td><td>null</td><td>null</td><td>8100.0</td><td>11.04</td></tr><tr><td>&quot;2000098802+000000000023011331&quot;</td><td>2023-01-02 00:00:00</td><td>2023-01-02 00:00:00</td><td>2023-01-02 00:00:00</td><td>&quot;242-OPRCD4039-OPRCD00015&quot;</td><td>&quot;2000098802&quot;</td><td>&quot;ค้าส่ง&quot;</td><td>&quot;CLSPRBKK1&quot;</td><td>&quot;Duck&quot;</td><td>&quot;By Product&quot;</td><td>&quot;คอติดหัว&quot;</td><td>&quot;000000000023011331&quot;</td><td>&quot;กรุงเทพฯ เขต3&quot;</td><td>&quot;กรุงเทพฯ&quot;</td><td>200.0</td><td>190.0</td><td>&quot;KG&quot;</td><td>&quot;CLSPRBKK1+000000000023011331&quot;</td><td>30.0</td><td>133.217391</td><td>134.316711</td><td>146232</td><td>37.854486</td><td>20.0</td><td>47.82843</td><td>null</td><td>null</td><td>115.853167</td><td>null</td><td>null</td><td>1000.0</td><td>10.0</td></tr><tr><td>&hellip;</td><td>&hellip;</td><td>&hellip;</td><td>&hellip;</td><td>&hellip;</td><td>&hellip;</td><td>&hellip;</td><td>&hellip;</td><td>&hellip;</td><td>&hellip;</td><td>&hellip;</td><td>&hellip;</td><td>&hellip;</td><td>&hellip;</td><td>&hellip;</td><td>&hellip;</td><td>&hellip;</td><td>&hellip;</td><td>&hellip;</td><td>&hellip;</td><td>&hellip;</td><td>&hellip;</td><td>&hellip;</td><td>&hellip;</td><td>&hellip;</td><td>&hellip;</td><td>&hellip;</td><td>&hellip;</td><td>&hellip;</td><td>&hellip;</td><td>&hellip;</td><td>&hellip;</td></tr><tr><td>&quot;2000335629+000000000023097377&quot;</td><td>2025-01-20 00:00:00</td><td>2025-01-18 00:00:00</td><td>2025-01-22 00:00:00</td><td>&quot;242-OPRCD0850&quot;</td><td>&quot;2000335629&quot;</td><td>&quot;ตลาดสด&quot;</td><td>&quot;CLSPRSOT7&quot;</td><td>&quot;Duck&quot;</td><td>&quot;Ready To Eat&quot;</td><td>&quot;เป็ดพะโล้&quot;</td><td>&quot;000000000023097377&quot;</td><td>&quot;ภาคใต้ เขต 4&quot;</td><td>&quot;ภาคใต้&quot;</td><td>8.0</td><td>8.0</td><td>&quot;KG&quot;</td><td>&quot;CLSPRSOT7+000000000023097377&quot;</td><td>324.0</td><td>803.342466</td><td>326.743476</td><td>550304</td><td>26.240994</td><td>16.0</td><td>57.972189</td><td>23.371429</td><td>23.371429</td><td>24.321085</td><td>0.050847</td><td>-22.0</td><td>1200.0</td><td>2.0</td></tr><tr><td>&quot;2000167574+000000000023097377&quot;</td><td>2025-01-20 00:00:00</td><td>2025-01-18 00:00:00</td><td>2025-01-22 00:00:00</td><td>&quot;242-OPRCD0850&quot;</td><td>&quot;2000167574&quot;</td><td>&quot;ตลาดสด&quot;</td><td>&quot;CLSPRSOT7&quot;</td><td>&quot;Duck&quot;</td><td>&quot;Ready To Eat&quot;</td><td>&quot;เป็ดพะโล้&quot;</td><td>&quot;000000000023097377&quot;</td><td>&quot;ภาคใต้ เขต 4&quot;</td><td>&quot;ภาคใต้&quot;</td><td>24.0</td><td>24.0</td><td>&quot;KG&quot;</td><td>&quot;CLSPRSOT7+000000000023097377&quot;</td><td>324.0</td><td>803.342466</td><td>326.743476</td><td>550313</td><td>26.240994</td><td>16.0</td><td>57.972189</td><td>22.514286</td><td>22.514286</td><td>24.280949</td><td>0.186441</td><td>-6.0</td><td>1200.0</td><td>2.0</td></tr><tr><td>&quot;2000222813+000000000023097377&quot;</td><td>2025-01-20 00:00:00</td><td>2025-01-18 00:00:00</td><td>2025-01-20 00:00:00</td><td>&quot;242-OPRCD0850&quot;</td><td>&quot;2000222813&quot;</td><td>&quot;C&amp;G&quot;</td><td>&quot;CLSPRSOT6&quot;</td><td>&quot;Duck&quot;</td><td>&quot;Ready To Eat&quot;</td><td>&quot;เป็ดพะโล้&quot;</td><td>&quot;000000000023097377&quot;</td><td>&quot;ภาคใต้ เขต 4&quot;</td><td>&quot;ภาคใต้&quot;</td><td>48.0</td><td>48.0</td><td>&quot;KG&quot;</td><td>&quot;CLSPRSOT6+000000000023097377&quot;</td><td>1296.0</td><td>803.342466</td><td>326.743476</td><td>550315</td><td>26.240994</td><td>16.0</td><td>57.972189</td><td>24.742857</td><td>24.742857</td><td>27.245831</td><td>0.389831</td><td>15.6</td><td>1200.0</td><td>2.0</td></tr><tr><td>&quot;2000375080+000000000023097377&quot;</td><td>2025-01-20 00:00:00</td><td>2025-01-18 00:00:00</td><td>2025-01-22 00:00:00</td><td>&quot;242-OPRCD0850&quot;</td><td>&quot;2000375080&quot;</td><td>&quot;Fresh shop - ขนาดเล็ก&quot;</td><td>&quot;CLSPRSOT9&quot;</td><td>&quot;Duck&quot;</td><td>&quot;Ready To Eat&quot;</td><td>&quot;เป็ดพะโล้&quot;</td><td>&quot;000000000023097377&quot;</td><td>&quot;ภาคใต้ เขต 6&quot;</td><td>&quot;ภาคใต้&quot;</td><td>24.0</td><td>24.0</td><td>&quot;KG&quot;</td><td>&quot;CLSPRSOT9+000000000023097377&quot;</td><td>1296.0</td><td>803.342466</td><td>326.743476</td><td>553442</td><td>26.240994</td><td>16.0</td><td>57.972189</td><td>27.2</td><td>27.2</td><td>26.840102</td><td>0.186441</td><td>17.2</td><td>1200.0</td><td>2.0</td></tr><tr><td>&quot;2000024372+000000000023097377&quot;</td><td>2025-01-20 00:00:00</td><td>2025-01-18 00:00:00</td><td>2025-01-22 00:00:00</td><td>&quot;242-OPRCD0850&quot;</td><td>&quot;2000024372&quot;</td><td>&quot;ตลาดสด&quot;</td><td>&quot;CLSPRSOT9&quot;</td><td>&quot;Duck&quot;</td><td>&quot;Ready To Eat&quot;</td><td>&quot;เป็ดพะโล้&quot;</td><td>&quot;000000000023097377&quot;</td><td>&quot;ภาคใต้ เขต 6&quot;</td><td>&quot;ภาคใต้&quot;</td><td>80.0</td><td>80.0</td><td>&quot;KG&quot;</td><td>&quot;CLSPRSOT9+000000000023097377&quot;</td><td>1296.0</td><td>803.342466</td><td>326.743476</td><td>553548</td><td>26.240994</td><td>16.0</td><td>57.972189</td><td>28.0</td><td>28.0</td><td>33.485089</td><td>0.661017</td><td>5.6</td><td>1200.0</td><td>2.0</td></tr></tbody></table></div>"
      ],
      "text/plain": [
       "shape: (540_570, 32)\n",
       "┌───────────┬───────────┬───────────┬───────────┬───┬──────────┬───────────┬───────────┬───────────┐\n",
       "│ key_cv_p  ┆ WeekMon   ┆ OrderDate ┆ DeliveryD ┆ … ┆ STO_14   ┆ Momentum_ ┆ max_order ┆ min_order │\n",
       "│ ---       ┆ ---       ┆ ---       ┆ ate       ┆   ┆ ---      ┆ 7         ┆ _weight   ┆ _weight   │\n",
       "│ str       ┆ datetime[ ┆ datetime[ ┆ ---       ┆   ┆ f64      ┆ ---       ┆ ---       ┆ ---       │\n",
       "│           ┆ ns]       ┆ ns]       ┆ datetime[ ┆   ┆          ┆ f64       ┆ f64       ┆ f64       │\n",
       "│           ┆           ┆           ┆ ns]       ┆   ┆          ┆           ┆           ┆           │\n",
       "╞═══════════╪═══════════╪═══════════╪═══════════╪═══╪══════════╪═══════════╪═══════════╪═══════════╡\n",
       "│ NE18+0000 ┆ 2023-01-0 ┆ 2023-01-0 ┆ 2023-01-0 ┆ … ┆ null     ┆ null      ┆ 6020.0    ┆ 8.75      │\n",
       "│ 000000230 ┆ 2         ┆ 1         ┆ 7         ┆   ┆          ┆           ┆           ┆           │\n",
       "│ 97053     ┆ 00:00:00  ┆ 00:00:00  ┆ 00:00:00  ┆   ┆          ┆           ┆           ┆           │\n",
       "│ NE18+0000 ┆ 2023-01-0 ┆ 2023-01-0 ┆ 2023-01-0 ┆ … ┆ null     ┆ null      ┆ 31024.8   ┆ 9.28      │\n",
       "│ 000000230 ┆ 2         ┆ 1         ┆ 7         ┆   ┆          ┆           ┆           ┆           │\n",
       "│ 97062     ┆ 00:00:00  ┆ 00:00:00  ┆ 00:00:00  ┆   ┆          ┆           ┆           ┆           │\n",
       "│ 200009191 ┆ 2023-01-0 ┆ 2023-01-0 ┆ 2023-01-0 ┆ … ┆ null     ┆ null      ┆ 6900.0    ┆ 12.67     │\n",
       "│ 0+0000000 ┆ 2         ┆ 2         ┆ 5         ┆   ┆          ┆           ┆           ┆           │\n",
       "│ 000230970 ┆ 00:00:00  ┆ 00:00:00  ┆ 00:00:00  ┆   ┆          ┆           ┆           ┆           │\n",
       "│ 50        ┆           ┆           ┆           ┆   ┆          ┆           ┆           ┆           │\n",
       "│ 200035302 ┆ 2023-01-0 ┆ 2023-01-0 ┆ 2023-01-0 ┆ … ┆ null     ┆ null      ┆ 8100.0    ┆ 11.04     │\n",
       "│ 9+0000000 ┆ 2         ┆ 2         ┆ 4         ┆   ┆          ┆           ┆           ┆           │\n",
       "│ 000230970 ┆ 00:00:00  ┆ 00:00:00  ┆ 00:00:00  ┆   ┆          ┆           ┆           ┆           │\n",
       "│ 56        ┆           ┆           ┆           ┆   ┆          ┆           ┆           ┆           │\n",
       "│ 200009880 ┆ 2023-01-0 ┆ 2023-01-0 ┆ 2023-01-0 ┆ … ┆ null     ┆ null      ┆ 1000.0    ┆ 10.0      │\n",
       "│ 2+0000000 ┆ 2         ┆ 2         ┆ 2         ┆   ┆          ┆           ┆           ┆           │\n",
       "│ 000230113 ┆ 00:00:00  ┆ 00:00:00  ┆ 00:00:00  ┆   ┆          ┆           ┆           ┆           │\n",
       "│ 31        ┆           ┆           ┆           ┆   ┆          ┆           ┆           ┆           │\n",
       "│ …         ┆ …         ┆ …         ┆ …         ┆ … ┆ …        ┆ …         ┆ …         ┆ …         │\n",
       "│ 200033562 ┆ 2025-01-2 ┆ 2025-01-1 ┆ 2025-01-2 ┆ … ┆ 0.050847 ┆ -22.0     ┆ 1200.0    ┆ 2.0       │\n",
       "│ 9+0000000 ┆ 0         ┆ 8         ┆ 2         ┆   ┆          ┆           ┆           ┆           │\n",
       "│ 000230973 ┆ 00:00:00  ┆ 00:00:00  ┆ 00:00:00  ┆   ┆          ┆           ┆           ┆           │\n",
       "│ 77        ┆           ┆           ┆           ┆   ┆          ┆           ┆           ┆           │\n",
       "│ 200016757 ┆ 2025-01-2 ┆ 2025-01-1 ┆ 2025-01-2 ┆ … ┆ 0.186441 ┆ -6.0      ┆ 1200.0    ┆ 2.0       │\n",
       "│ 4+0000000 ┆ 0         ┆ 8         ┆ 2         ┆   ┆          ┆           ┆           ┆           │\n",
       "│ 000230973 ┆ 00:00:00  ┆ 00:00:00  ┆ 00:00:00  ┆   ┆          ┆           ┆           ┆           │\n",
       "│ 77        ┆           ┆           ┆           ┆   ┆          ┆           ┆           ┆           │\n",
       "│ 200022281 ┆ 2025-01-2 ┆ 2025-01-1 ┆ 2025-01-2 ┆ … ┆ 0.389831 ┆ 15.6      ┆ 1200.0    ┆ 2.0       │\n",
       "│ 3+0000000 ┆ 0         ┆ 8         ┆ 0         ┆   ┆          ┆           ┆           ┆           │\n",
       "│ 000230973 ┆ 00:00:00  ┆ 00:00:00  ┆ 00:00:00  ┆   ┆          ┆           ┆           ┆           │\n",
       "│ 77        ┆           ┆           ┆           ┆   ┆          ┆           ┆           ┆           │\n",
       "│ 200037508 ┆ 2025-01-2 ┆ 2025-01-1 ┆ 2025-01-2 ┆ … ┆ 0.186441 ┆ 17.2      ┆ 1200.0    ┆ 2.0       │\n",
       "│ 0+0000000 ┆ 0         ┆ 8         ┆ 2         ┆   ┆          ┆           ┆           ┆           │\n",
       "│ 000230973 ┆ 00:00:00  ┆ 00:00:00  ┆ 00:00:00  ┆   ┆          ┆           ┆           ┆           │\n",
       "│ 77        ┆           ┆           ┆           ┆   ┆          ┆           ┆           ┆           │\n",
       "│ 200002437 ┆ 2025-01-2 ┆ 2025-01-1 ┆ 2025-01-2 ┆ … ┆ 0.661017 ┆ 5.6       ┆ 1200.0    ┆ 2.0       │\n",
       "│ 2+0000000 ┆ 0         ┆ 8         ┆ 2         ┆   ┆          ┆           ┆           ┆           │\n",
       "│ 000230973 ┆ 00:00:00  ┆ 00:00:00  ┆ 00:00:00  ┆   ┆          ┆           ┆           ┆           │\n",
       "│ 77        ┆           ┆           ┆           ┆   ┆          ┆           ┆           ┆           │\n",
       "└───────────┴───────────┴───────────┴───────────┴───┴──────────┴───────────┴───────────┴───────────┘"
      ]
     },
     "execution_count": 15,
     "metadata": {},
     "output_type": "execute_result"
    }
   ],
   "source": [
    "df"
   ]
  },
  {
   "cell_type": "code",
   "execution_count": 16,
   "id": "ec8d7353",
   "metadata": {},
   "outputs": [
    {
     "data": {
      "text/html": [
       "<div><style>\n",
       ".dataframe > thead > tr,\n",
       ".dataframe > tbody > tr {\n",
       "  text-align: right;\n",
       "  white-space: pre-wrap;\n",
       "}\n",
       "</style>\n",
       "<small>shape: (540_570, 15)</small><table border=\"1\" class=\"dataframe\"><thead><tr><th>OrderDate</th><th>ProductBKey</th><th>CustomerBKey</th><th>OrderWeight</th><th>MODEL_4</th><th>mean_weight</th><th>median_weight</th><th>std_weight</th><th>MA_7</th><th>SMA_7</th><th>EMA_7</th><th>STO_14</th><th>Momentum_7</th><th>max_order_weight</th><th>min_order_weight</th></tr><tr><td>datetime[ns]</td><td>str</td><td>str</td><td>f64</td><td>str</td><td>f64</td><td>f64</td><td>f64</td><td>f64</td><td>f64</td><td>f64</td><td>f64</td><td>f64</td><td>f64</td><td>f64</td></tr></thead><tbody><tr><td>2023-01-01 00:00:00</td><td>&quot;000000000023097053&quot;</td><td>&quot;NE18&quot;</td><td>150.0</td><td>&quot;ภาคอีสานบน เขต 1&quot;</td><td>73.815338</td><td>30.0</td><td>193.807638</td><td>null</td><td>null</td><td>150.0</td><td>null</td><td>null</td><td>6020.0</td><td>8.75</td></tr><tr><td>2023-01-01 00:00:00</td><td>&quot;000000000023097062&quot;</td><td>&quot;NE18&quot;</td><td>186.0</td><td>&quot;ภาคอีสานบน เขต 1&quot;</td><td>104.975347</td><td>37.2</td><td>451.957231</td><td>null</td><td>null</td><td>169.2</td><td>null</td><td>null</td><td>31024.8</td><td>9.28</td></tr><tr><td>2023-01-02 00:00:00</td><td>&quot;000000000023097050&quot;</td><td>&quot;2000091910&quot;</td><td>13.8</td><td>&quot;ภาคใต้ เขต 2&quot;</td><td>94.879766</td><td>39.5</td><td>302.866007</td><td>null</td><td>null</td><td>110.350296</td><td>null</td><td>null</td><td>6900.0</td><td>12.67</td></tr><tr><td>2023-01-02 00:00:00</td><td>&quot;000000000023097056&quot;</td><td>&quot;2000353029&quot;</td><td>32.4</td><td>&quot;ภาคเหนือบน เขต 1&quot;</td><td>81.006346</td><td>32.4</td><td>242.101458</td><td>null</td><td>null</td><td>86.804248</td><td>null</td><td>null</td><td>8100.0</td><td>11.04</td></tr><tr><td>2023-01-02 00:00:00</td><td>&quot;000000000023011331&quot;</td><td>&quot;2000098802&quot;</td><td>200.0</td><td>&quot;กรุงเทพฯ เขต3&quot;</td><td>37.854486</td><td>20.0</td><td>47.82843</td><td>null</td><td>null</td><td>115.853167</td><td>null</td><td>null</td><td>1000.0</td><td>10.0</td></tr><tr><td>&hellip;</td><td>&hellip;</td><td>&hellip;</td><td>&hellip;</td><td>&hellip;</td><td>&hellip;</td><td>&hellip;</td><td>&hellip;</td><td>&hellip;</td><td>&hellip;</td><td>&hellip;</td><td>&hellip;</td><td>&hellip;</td><td>&hellip;</td><td>&hellip;</td></tr><tr><td>2025-01-18 00:00:00</td><td>&quot;000000000023097377&quot;</td><td>&quot;2000335629&quot;</td><td>8.0</td><td>&quot;ภาคใต้ เขต 4&quot;</td><td>26.240994</td><td>16.0</td><td>57.972189</td><td>23.371429</td><td>23.371429</td><td>24.321085</td><td>0.050847</td><td>-22.0</td><td>1200.0</td><td>2.0</td></tr><tr><td>2025-01-18 00:00:00</td><td>&quot;000000000023097377&quot;</td><td>&quot;2000167574&quot;</td><td>24.0</td><td>&quot;ภาคใต้ เขต 4&quot;</td><td>26.240994</td><td>16.0</td><td>57.972189</td><td>22.514286</td><td>22.514286</td><td>24.280949</td><td>0.186441</td><td>-6.0</td><td>1200.0</td><td>2.0</td></tr><tr><td>2025-01-18 00:00:00</td><td>&quot;000000000023097377&quot;</td><td>&quot;2000222813&quot;</td><td>48.0</td><td>&quot;ภาคใต้ เขต 4&quot;</td><td>26.240994</td><td>16.0</td><td>57.972189</td><td>24.742857</td><td>24.742857</td><td>27.245831</td><td>0.389831</td><td>15.6</td><td>1200.0</td><td>2.0</td></tr><tr><td>2025-01-18 00:00:00</td><td>&quot;000000000023097377&quot;</td><td>&quot;2000375080&quot;</td><td>24.0</td><td>&quot;ภาคใต้ เขต 6&quot;</td><td>26.240994</td><td>16.0</td><td>57.972189</td><td>27.2</td><td>27.2</td><td>26.840102</td><td>0.186441</td><td>17.2</td><td>1200.0</td><td>2.0</td></tr><tr><td>2025-01-18 00:00:00</td><td>&quot;000000000023097377&quot;</td><td>&quot;2000024372&quot;</td><td>80.0</td><td>&quot;ภาคใต้ เขต 6&quot;</td><td>26.240994</td><td>16.0</td><td>57.972189</td><td>28.0</td><td>28.0</td><td>33.485089</td><td>0.661017</td><td>5.6</td><td>1200.0</td><td>2.0</td></tr></tbody></table></div>"
      ],
      "text/plain": [
       "shape: (540_570, 15)\n",
       "┌───────────┬───────────┬───────────┬───────────┬───┬──────────┬───────────┬───────────┬───────────┐\n",
       "│ OrderDate ┆ ProductBK ┆ CustomerB ┆ OrderWeig ┆ … ┆ STO_14   ┆ Momentum_ ┆ max_order ┆ min_order │\n",
       "│ ---       ┆ ey        ┆ Key       ┆ ht        ┆   ┆ ---      ┆ 7         ┆ _weight   ┆ _weight   │\n",
       "│ datetime[ ┆ ---       ┆ ---       ┆ ---       ┆   ┆ f64      ┆ ---       ┆ ---       ┆ ---       │\n",
       "│ ns]       ┆ str       ┆ str       ┆ f64       ┆   ┆          ┆ f64       ┆ f64       ┆ f64       │\n",
       "╞═══════════╪═══════════╪═══════════╪═══════════╪═══╪══════════╪═══════════╪═══════════╪═══════════╡\n",
       "│ 2023-01-0 ┆ 000000000 ┆ NE18      ┆ 150.0     ┆ … ┆ null     ┆ null      ┆ 6020.0    ┆ 8.75      │\n",
       "│ 1         ┆ 023097053 ┆           ┆           ┆   ┆          ┆           ┆           ┆           │\n",
       "│ 00:00:00  ┆           ┆           ┆           ┆   ┆          ┆           ┆           ┆           │\n",
       "│ 2023-01-0 ┆ 000000000 ┆ NE18      ┆ 186.0     ┆ … ┆ null     ┆ null      ┆ 31024.8   ┆ 9.28      │\n",
       "│ 1         ┆ 023097062 ┆           ┆           ┆   ┆          ┆           ┆           ┆           │\n",
       "│ 00:00:00  ┆           ┆           ┆           ┆   ┆          ┆           ┆           ┆           │\n",
       "│ 2023-01-0 ┆ 000000000 ┆ 200009191 ┆ 13.8      ┆ … ┆ null     ┆ null      ┆ 6900.0    ┆ 12.67     │\n",
       "│ 2         ┆ 023097050 ┆ 0         ┆           ┆   ┆          ┆           ┆           ┆           │\n",
       "│ 00:00:00  ┆           ┆           ┆           ┆   ┆          ┆           ┆           ┆           │\n",
       "│ 2023-01-0 ┆ 000000000 ┆ 200035302 ┆ 32.4      ┆ … ┆ null     ┆ null      ┆ 8100.0    ┆ 11.04     │\n",
       "│ 2         ┆ 023097056 ┆ 9         ┆           ┆   ┆          ┆           ┆           ┆           │\n",
       "│ 00:00:00  ┆           ┆           ┆           ┆   ┆          ┆           ┆           ┆           │\n",
       "│ 2023-01-0 ┆ 000000000 ┆ 200009880 ┆ 200.0     ┆ … ┆ null     ┆ null      ┆ 1000.0    ┆ 10.0      │\n",
       "│ 2         ┆ 023011331 ┆ 2         ┆           ┆   ┆          ┆           ┆           ┆           │\n",
       "│ 00:00:00  ┆           ┆           ┆           ┆   ┆          ┆           ┆           ┆           │\n",
       "│ …         ┆ …         ┆ …         ┆ …         ┆ … ┆ …        ┆ …         ┆ …         ┆ …         │\n",
       "│ 2025-01-1 ┆ 000000000 ┆ 200033562 ┆ 8.0       ┆ … ┆ 0.050847 ┆ -22.0     ┆ 1200.0    ┆ 2.0       │\n",
       "│ 8         ┆ 023097377 ┆ 9         ┆           ┆   ┆          ┆           ┆           ┆           │\n",
       "│ 00:00:00  ┆           ┆           ┆           ┆   ┆          ┆           ┆           ┆           │\n",
       "│ 2025-01-1 ┆ 000000000 ┆ 200016757 ┆ 24.0      ┆ … ┆ 0.186441 ┆ -6.0      ┆ 1200.0    ┆ 2.0       │\n",
       "│ 8         ┆ 023097377 ┆ 4         ┆           ┆   ┆          ┆           ┆           ┆           │\n",
       "│ 00:00:00  ┆           ┆           ┆           ┆   ┆          ┆           ┆           ┆           │\n",
       "│ 2025-01-1 ┆ 000000000 ┆ 200022281 ┆ 48.0      ┆ … ┆ 0.389831 ┆ 15.6      ┆ 1200.0    ┆ 2.0       │\n",
       "│ 8         ┆ 023097377 ┆ 3         ┆           ┆   ┆          ┆           ┆           ┆           │\n",
       "│ 00:00:00  ┆           ┆           ┆           ┆   ┆          ┆           ┆           ┆           │\n",
       "│ 2025-01-1 ┆ 000000000 ┆ 200037508 ┆ 24.0      ┆ … ┆ 0.186441 ┆ 17.2      ┆ 1200.0    ┆ 2.0       │\n",
       "│ 8         ┆ 023097377 ┆ 0         ┆           ┆   ┆          ┆           ┆           ┆           │\n",
       "│ 00:00:00  ┆           ┆           ┆           ┆   ┆          ┆           ┆           ┆           │\n",
       "│ 2025-01-1 ┆ 000000000 ┆ 200002437 ┆ 80.0      ┆ … ┆ 0.661017 ┆ 5.6       ┆ 1200.0    ┆ 2.0       │\n",
       "│ 8         ┆ 023097377 ┆ 2         ┆           ┆   ┆          ┆           ┆           ┆           │\n",
       "│ 00:00:00  ┆           ┆           ┆           ┆   ┆          ┆           ┆           ┆           │\n",
       "└───────────┴───────────┴───────────┴───────────┴───┴──────────┴───────────┴───────────┴───────────┘"
      ]
     },
     "execution_count": 16,
     "metadata": {},
     "output_type": "execute_result"
    }
   ],
   "source": [
    "df = df.select([\n",
    "    pl.col(\"OrderDate\"),\n",
    "    pl.col(\"ProductBKey\"),\n",
    "    pl.col(\"CustomerBKey\"),\n",
    "    pl.col(\"OrderWeight\"),\n",
    "    pl.col(\"MODEL_4\"),\n",
    "    pl.col(\"mean_weight\"),\n",
    "    pl.col(\"median_weight\"),\n",
    "    pl.col(\"std_weight\"),\n",
    "    pl.col(\"MA_7\"),\n",
    "    pl.col(\"SMA_7\"),\n",
    "    pl.col(\"EMA_7\"),\n",
    "    pl.col(\"STO_14\"),\n",
    "    pl.col(\"Momentum_7\"),\n",
    "    pl.col(\"max_order_weight\"),\n",
    "    pl.col(\"min_order_weight\")\n",
    "])\n",
    "df"
   ]
  },
  {
   "cell_type": "code",
   "execution_count": 9,
   "id": "e8caae23",
   "metadata": {},
   "outputs": [
    {
     "name": "stderr",
     "output_type": "stream",
     "text": [
      "/tmp/ipykernel_213737/1164518990.py:26: DeprecationWarning: `pl.count()` is deprecated. Please use `pl.len()` instead.\n",
      "  pl.count().alias(\"monthly_order_count\")\n",
      "/tmp/ipykernel_213737/1164518990.py:50: DeprecationWarning: `pl.count()` is deprecated. Please use `pl.len()` instead.\n",
      "  pl.count().alias(\"customer_month_order_count\")\n",
      "/tmp/ipykernel_213737/1164518990.py:58: DeprecationWarning: `pl.count()` is deprecated. Please use `pl.len()` instead.\n",
      "  pl.count().alias(\"product_month_order_count\")\n"
     ]
    },
    {
     "data": {
      "text/html": [
       "<div><style>\n",
       ".dataframe > thead > tr,\n",
       ".dataframe > tbody > tr {\n",
       "  text-align: right;\n",
       "  white-space: pre-wrap;\n",
       "}\n",
       "</style>\n",
       "<small>shape: (800_557, 22)</small><table border=\"1\" class=\"dataframe\"><thead><tr><th>OrderDate</th><th>CustomerBKey</th><th>ProductBKey</th><th>MODEL_4</th><th>OrderWeight</th><th>year</th><th>month</th><th>year_month</th><th>mean_weight</th><th>median_weight</th><th>std_weight</th><th>min_order_weight</th><th>max_order_weight</th><th>monthly_order_count</th><th>lag_1_month</th><th>lag_2_month</th><th>MA_3_month</th><th>STD_3_month</th><th>customer_month_avg_weight</th><th>customer_month_order_count</th><th>product_month_avg_weight</th><th>product_month_order_count</th></tr><tr><td>datetime[μs]</td><td>str</td><td>str</td><td>str</td><td>f64</td><td>i32</td><td>i8</td><td>str</td><td>f64</td><td>f64</td><td>f64</td><td>f64</td><td>f64</td><td>u32</td><td>f64</td><td>f64</td><td>f64</td><td>f64</td><td>f64</td><td>u32</td><td>f64</td><td>u32</td></tr></thead><tbody><tr><td>2023-01-17 00:00:00</td><td>&quot;020P&quot;</td><td>&quot;000000000023013118&quot;</td><td>&quot;กรุงเทพฯ เขต4&quot;</td><td>28.28</td><td>2023</td><td>1</td><td>&quot;2023-1&quot;</td><td>135.34</td><td>25.25</td><td>244.65194</td><td>2.02</td><td>626.2</td><td>6</td><td>null</td><td>null</td><td>null</td><td>null</td><td>74.887692</td><td>13</td><td>135.34</td><td>6</td></tr><tr><td>2023-01-19 00:00:00</td><td>&quot;020P&quot;</td><td>&quot;000000000023013118&quot;</td><td>&quot;กรุงเทพฯ เขต4&quot;</td><td>125.24</td><td>2023</td><td>1</td><td>&quot;2023-1&quot;</td><td>135.34</td><td>25.25</td><td>244.65194</td><td>2.02</td><td>626.2</td><td>6</td><td>28.28</td><td>null</td><td>null</td><td>null</td><td>74.887692</td><td>13</td><td>135.34</td><td>6</td></tr><tr><td>2023-01-20 00:00:00</td><td>&quot;020P&quot;</td><td>&quot;000000000023013118&quot;</td><td>&quot;กรุงเทพฯ เขต4&quot;</td><td>626.2</td><td>2023</td><td>1</td><td>&quot;2023-1&quot;</td><td>135.34</td><td>25.25</td><td>244.65194</td><td>2.02</td><td>626.2</td><td>6</td><td>125.24</td><td>28.28</td><td>259.906667</td><td>320.902501</td><td>74.887692</td><td>13</td><td>135.34</td><td>6</td></tr><tr><td>2023-01-21 00:00:00</td><td>&quot;020P&quot;</td><td>&quot;000000000023013118&quot;</td><td>&quot;กรุงเทพฯ เขต4&quot;</td><td>2.02</td><td>2023</td><td>1</td><td>&quot;2023-1&quot;</td><td>135.34</td><td>25.25</td><td>244.65194</td><td>2.02</td><td>626.2</td><td>6</td><td>626.2</td><td>125.24</td><td>251.153333</td><td>330.591581</td><td>74.887692</td><td>13</td><td>135.34</td><td>6</td></tr><tr><td>2023-01-23 00:00:00</td><td>&quot;020P&quot;</td><td>&quot;000000000023013118&quot;</td><td>&quot;กรุงเทพฯ เขต4&quot;</td><td>8.08</td><td>2023</td><td>1</td><td>&quot;2023-1&quot;</td><td>135.34</td><td>25.25</td><td>244.65194</td><td>2.02</td><td>626.2</td><td>6</td><td>2.02</td><td>626.2</td><td>212.1</td><td>358.63392</td><td>74.887692</td><td>13</td><td>135.34</td><td>6</td></tr><tr><td>&hellip;</td><td>&hellip;</td><td>&hellip;</td><td>&hellip;</td><td>&hellip;</td><td>&hellip;</td><td>&hellip;</td><td>&hellip;</td><td>&hellip;</td><td>&hellip;</td><td>&hellip;</td><td>&hellip;</td><td>&hellip;</td><td>&hellip;</td><td>&hellip;</td><td>&hellip;</td><td>&hellip;</td><td>&hellip;</td><td>&hellip;</td><td>&hellip;</td><td>&hellip;</td><td>&hellip;</td></tr><tr><td>2025-02-05 00:00:00</td><td>&quot;NE37&quot;</td><td>&quot;000000000023105810&quot;</td><td>&quot;ภาคอีสานล่าง เขต 2&quot;</td><td>null</td><td>2025</td><td>2</td><td>&quot;2025-2&quot;</td><td>null</td><td>null</td><td>null</td><td>null</td><td>null</td><td>8</td><td>null</td><td>null</td><td>null</td><td>null</td><td>null</td><td>120</td><td>null</td><td>7048</td></tr><tr><td>2025-02-06 00:00:00</td><td>&quot;NE37&quot;</td><td>&quot;000000000023105810&quot;</td><td>&quot;ภาคอีสานล่าง เขต 2&quot;</td><td>null</td><td>2025</td><td>2</td><td>&quot;2025-2&quot;</td><td>null</td><td>null</td><td>null</td><td>null</td><td>null</td><td>8</td><td>null</td><td>null</td><td>null</td><td>null</td><td>null</td><td>120</td><td>null</td><td>7048</td></tr><tr><td>2025-02-07 00:00:00</td><td>&quot;NE37&quot;</td><td>&quot;000000000023105810&quot;</td><td>&quot;ภาคอีสานล่าง เขต 2&quot;</td><td>null</td><td>2025</td><td>2</td><td>&quot;2025-2&quot;</td><td>null</td><td>null</td><td>null</td><td>null</td><td>null</td><td>8</td><td>null</td><td>null</td><td>null</td><td>null</td><td>null</td><td>120</td><td>null</td><td>7048</td></tr><tr><td>2025-02-08 00:00:00</td><td>&quot;NE37&quot;</td><td>&quot;000000000023105810&quot;</td><td>&quot;ภาคอีสานล่าง เขต 2&quot;</td><td>null</td><td>2025</td><td>2</td><td>&quot;2025-2&quot;</td><td>null</td><td>null</td><td>null</td><td>null</td><td>null</td><td>8</td><td>null</td><td>null</td><td>null</td><td>null</td><td>null</td><td>120</td><td>null</td><td>7048</td></tr><tr><td>2023-12-26 00:00:00</td><td>&quot;S103&quot;</td><td>&quot;000000000023048743&quot;</td><td>&quot;ภาคใต้ เขต 1&quot;</td><td>24.0</td><td>2023</td><td>12</td><td>&quot;2023-12&quot;</td><td>24.0</td><td>24.0</td><td>null</td><td>24.0</td><td>24.0</td><td>1</td><td>null</td><td>null</td><td>null</td><td>null</td><td>24.0</td><td>1</td><td>86.465632</td><td>451</td></tr></tbody></table></div>"
      ],
      "text/plain": [
       "shape: (800_557, 22)\n",
       "┌───────────┬───────────┬───────────┬───────────┬───┬───────────┬───────────┬───────────┬──────────┐\n",
       "│ OrderDate ┆ CustomerB ┆ ProductBK ┆ MODEL_4   ┆ … ┆ customer_ ┆ customer_ ┆ product_m ┆ product_ │\n",
       "│ ---       ┆ Key       ┆ ey        ┆ ---       ┆   ┆ month_avg ┆ month_ord ┆ onth_avg_ ┆ month_or │\n",
       "│ datetime[ ┆ ---       ┆ ---       ┆ str       ┆   ┆ _weight   ┆ er_count  ┆ weight    ┆ der_coun │\n",
       "│ μs]       ┆ str       ┆ str       ┆           ┆   ┆ ---       ┆ ---       ┆ ---       ┆ t        │\n",
       "│           ┆           ┆           ┆           ┆   ┆ f64       ┆ u32       ┆ f64       ┆ ---      │\n",
       "│           ┆           ┆           ┆           ┆   ┆           ┆           ┆           ┆ u32      │\n",
       "╞═══════════╪═══════════╪═══════════╪═══════════╪═══╪═══════════╪═══════════╪═══════════╪══════════╡\n",
       "│ 2023-01-1 ┆ 020P      ┆ 000000000 ┆ กรุงเทพฯ   ┆ … ┆ 74.887692 ┆ 13        ┆ 135.34    ┆ 6        │\n",
       "│ 7         ┆           ┆ 023013118 ┆ เขต4      ┆   ┆           ┆           ┆           ┆          │\n",
       "│ 00:00:00  ┆           ┆           ┆           ┆   ┆           ┆           ┆           ┆          │\n",
       "│ 2023-01-1 ┆ 020P      ┆ 000000000 ┆ กรุงเทพฯ   ┆ … ┆ 74.887692 ┆ 13        ┆ 135.34    ┆ 6        │\n",
       "│ 9         ┆           ┆ 023013118 ┆ เขต4      ┆   ┆           ┆           ┆           ┆          │\n",
       "│ 00:00:00  ┆           ┆           ┆           ┆   ┆           ┆           ┆           ┆          │\n",
       "│ 2023-01-2 ┆ 020P      ┆ 000000000 ┆ กรุงเทพฯ   ┆ … ┆ 74.887692 ┆ 13        ┆ 135.34    ┆ 6        │\n",
       "│ 0         ┆           ┆ 023013118 ┆ เขต4      ┆   ┆           ┆           ┆           ┆          │\n",
       "│ 00:00:00  ┆           ┆           ┆           ┆   ┆           ┆           ┆           ┆          │\n",
       "│ 2023-01-2 ┆ 020P      ┆ 000000000 ┆ กรุงเทพฯ   ┆ … ┆ 74.887692 ┆ 13        ┆ 135.34    ┆ 6        │\n",
       "│ 1         ┆           ┆ 023013118 ┆ เขต4      ┆   ┆           ┆           ┆           ┆          │\n",
       "│ 00:00:00  ┆           ┆           ┆           ┆   ┆           ┆           ┆           ┆          │\n",
       "│ 2023-01-2 ┆ 020P      ┆ 000000000 ┆ กรุงเทพฯ   ┆ … ┆ 74.887692 ┆ 13        ┆ 135.34    ┆ 6        │\n",
       "│ 3         ┆           ┆ 023013118 ┆ เขต4      ┆   ┆           ┆           ┆           ┆          │\n",
       "│ 00:00:00  ┆           ┆           ┆           ┆   ┆           ┆           ┆           ┆          │\n",
       "│ …         ┆ …         ┆ …         ┆ …         ┆ … ┆ …         ┆ …         ┆ …         ┆ …        │\n",
       "│ 2025-02-0 ┆ NE37      ┆ 000000000 ┆ ภาคอีสานล่า ┆ … ┆ null      ┆ 120       ┆ null      ┆ 7048     │\n",
       "│ 5         ┆           ┆ 023105810 ┆ ง เขต 2   ┆   ┆           ┆           ┆           ┆          │\n",
       "│ 00:00:00  ┆           ┆           ┆           ┆   ┆           ┆           ┆           ┆          │\n",
       "│ 2025-02-0 ┆ NE37      ┆ 000000000 ┆ ภาคอีสานล่า ┆ … ┆ null      ┆ 120       ┆ null      ┆ 7048     │\n",
       "│ 6         ┆           ┆ 023105810 ┆ ง เขต 2   ┆   ┆           ┆           ┆           ┆          │\n",
       "│ 00:00:00  ┆           ┆           ┆           ┆   ┆           ┆           ┆           ┆          │\n",
       "│ 2025-02-0 ┆ NE37      ┆ 000000000 ┆ ภาคอีสานล่า ┆ … ┆ null      ┆ 120       ┆ null      ┆ 7048     │\n",
       "│ 7         ┆           ┆ 023105810 ┆ ง เขต 2   ┆   ┆           ┆           ┆           ┆          │\n",
       "│ 00:00:00  ┆           ┆           ┆           ┆   ┆           ┆           ┆           ┆          │\n",
       "│ 2025-02-0 ┆ NE37      ┆ 000000000 ┆ ภาคอีสานล่า ┆ … ┆ null      ┆ 120       ┆ null      ┆ 7048     │\n",
       "│ 8         ┆           ┆ 023105810 ┆ ง เขต 2   ┆   ┆           ┆           ┆           ┆          │\n",
       "│ 00:00:00  ┆           ┆           ┆           ┆   ┆           ┆           ┆           ┆          │\n",
       "│ 2023-12-2 ┆ S103      ┆ 000000000 ┆ ภาคใต้ เขต ┆ … ┆ 24.0      ┆ 1         ┆ 86.465632 ┆ 451      │\n",
       "│ 6         ┆           ┆ 023048743 ┆ 1         ┆   ┆           ┆           ┆           ┆          │\n",
       "│ 00:00:00  ┆           ┆           ┆           ┆   ┆           ┆           ┆           ┆          │\n",
       "└───────────┴───────────┴───────────┴───────────┴───┴───────────┴───────────┴───────────┴──────────┘"
      ]
     },
     "execution_count": 9,
     "metadata": {},
     "output_type": "execute_result"
    }
   ],
   "source": [
    "import polars as pl\n",
    "df = all_data.sort(\"OrderDate\")\n",
    "# Ensure OrderDate is datetime\n",
    "df = df.with_columns([\n",
    "    pl.col(\"OrderDate\").cast(pl.Datetime)\n",
    "])\n",
    "\n",
    "# Extract Year and Month\n",
    "df = df.with_columns([\n",
    "    pl.col(\"OrderDate\").dt.year().alias(\"year\"),\n",
    "    pl.col(\"OrderDate\").dt.month().alias(\"month\"),\n",
    "])\n",
    "\n",
    "# Define monthly key\n",
    "df = df.with_columns([\n",
    "    (pl.col(\"year\").cast(pl.Utf8) + \"-\" + pl.col(\"month\").cast(pl.Utf8)).alias(\"year_month\")\n",
    "])\n",
    "\n",
    "# Monthly aggregations (by group)\n",
    "monthly_agg = df.group_by([\"year_month\", \"CustomerBKey\", \"ProductBKey\"]).agg([\n",
    "    pl.col(\"OrderWeight\").mean().alias(\"mean_weight\"),\n",
    "    pl.col(\"OrderWeight\").median().alias(\"median_weight\"),\n",
    "    pl.col(\"OrderWeight\").std().alias(\"std_weight\"),\n",
    "    pl.col(\"OrderWeight\").min().alias(\"min_order_weight\"),\n",
    "    pl.col(\"OrderWeight\").max().alias(\"max_order_weight\"),\n",
    "    pl.count().alias(\"monthly_order_count\")\n",
    "])\n",
    "\n",
    "# Join monthly stats back to the original df\n",
    "df = df.join(monthly_agg, on=[\"year_month\", \"CustomerBKey\", \"ProductBKey\"], how=\"left\")\n",
    "\n",
    "# Sort for lag/rolling features\n",
    "df = df.sort([\"CustomerBKey\", \"ProductBKey\", \"OrderDate\"])\n",
    "\n",
    "# Lag features (monthly)\n",
    "df = df.with_columns([\n",
    "    pl.col(\"OrderWeight\").shift(1).over([\"CustomerBKey\", \"ProductBKey\", \"year_month\"]).alias(\"lag_1_month\"),\n",
    "    pl.col(\"OrderWeight\").shift(2).over([\"CustomerBKey\", \"ProductBKey\", \"year_month\"]).alias(\"lag_2_month\"),\n",
    "])\n",
    "\n",
    "# Rolling mean and std within month (windowed on same customer-product)\n",
    "df = df.with_columns([\n",
    "    pl.col(\"OrderWeight\").rolling_mean(window_size=3).over([\"CustomerBKey\", \"ProductBKey\", \"year_month\"]).alias(\"MA_3_month\"),\n",
    "    pl.col(\"OrderWeight\").rolling_std(window_size=3).over([\"CustomerBKey\", \"ProductBKey\", \"year_month\"]).alias(\"STD_3_month\"),\n",
    "])\n",
    "\n",
    "# Monthly average OrderWeight per Customer (independent of product)\n",
    "customer_monthly_avg = df.group_by([\"year_month\", \"CustomerBKey\"]).agg([\n",
    "    pl.col(\"OrderWeight\").mean().alias(\"customer_month_avg_weight\"),\n",
    "    pl.count().alias(\"customer_month_order_count\")\n",
    "])\n",
    "\n",
    "df = df.join(customer_monthly_avg, on=[\"year_month\", \"CustomerBKey\"], how=\"left\")\n",
    "\n",
    "# Monthly average OrderWeight per Product (independent of customer)\n",
    "product_monthly_avg = df.group_by([\"year_month\", \"ProductBKey\"]).agg([\n",
    "    pl.col(\"OrderWeight\").mean().alias(\"product_month_avg_weight\"),\n",
    "    pl.count().alias(\"product_month_order_count\")\n",
    "])\n",
    "\n",
    "df = df.join(product_monthly_avg, on=[\"year_month\", \"ProductBKey\"], how=\"left\")\n",
    "\n",
    "df.collect()"
   ]
  },
  {
   "cell_type": "code",
   "execution_count": 10,
   "id": "ad671575",
   "metadata": {},
   "outputs": [
    {
     "data": {
      "text/html": [
       "<div><style>\n",
       ".dataframe > thead > tr,\n",
       ".dataframe > tbody > tr {\n",
       "  text-align: right;\n",
       "  white-space: pre-wrap;\n",
       "}\n",
       "</style>\n",
       "<small>shape: (800_557, 13)</small><table border=\"1\" class=\"dataframe\"><thead><tr><th>OrderDate</th><th>CustomerBKey</th><th>ProductBKey</th><th>OrderWeight</th><th>mean_weight</th><th>median_weight</th><th>std_weight</th><th>lag_1_month</th><th>lag_2_month</th><th>MA_3_month</th><th>STD_3_month</th><th>customer_month_avg_weight</th><th>product_month_avg_weight</th></tr><tr><td>datetime[μs]</td><td>str</td><td>str</td><td>f64</td><td>f64</td><td>f64</td><td>f64</td><td>f64</td><td>f64</td><td>f64</td><td>f64</td><td>f64</td><td>f64</td></tr></thead><tbody><tr><td>2023-01-17 00:00:00</td><td>&quot;020P&quot;</td><td>&quot;000000000023013118&quot;</td><td>28.28</td><td>135.34</td><td>25.25</td><td>244.65194</td><td>null</td><td>null</td><td>null</td><td>null</td><td>74.887692</td><td>135.34</td></tr><tr><td>2023-01-19 00:00:00</td><td>&quot;020P&quot;</td><td>&quot;000000000023013118&quot;</td><td>125.24</td><td>135.34</td><td>25.25</td><td>244.65194</td><td>28.28</td><td>null</td><td>null</td><td>null</td><td>74.887692</td><td>135.34</td></tr><tr><td>2023-01-20 00:00:00</td><td>&quot;020P&quot;</td><td>&quot;000000000023013118&quot;</td><td>626.2</td><td>135.34</td><td>25.25</td><td>244.65194</td><td>125.24</td><td>28.28</td><td>259.906667</td><td>320.902501</td><td>74.887692</td><td>135.34</td></tr><tr><td>2023-01-21 00:00:00</td><td>&quot;020P&quot;</td><td>&quot;000000000023013118&quot;</td><td>2.02</td><td>135.34</td><td>25.25</td><td>244.65194</td><td>626.2</td><td>125.24</td><td>251.153333</td><td>330.591581</td><td>74.887692</td><td>135.34</td></tr><tr><td>2023-01-23 00:00:00</td><td>&quot;020P&quot;</td><td>&quot;000000000023013118&quot;</td><td>8.08</td><td>135.34</td><td>25.25</td><td>244.65194</td><td>2.02</td><td>626.2</td><td>212.1</td><td>358.63392</td><td>74.887692</td><td>135.34</td></tr><tr><td>&hellip;</td><td>&hellip;</td><td>&hellip;</td><td>&hellip;</td><td>&hellip;</td><td>&hellip;</td><td>&hellip;</td><td>&hellip;</td><td>&hellip;</td><td>&hellip;</td><td>&hellip;</td><td>&hellip;</td><td>&hellip;</td></tr><tr><td>2025-02-05 00:00:00</td><td>&quot;NE37&quot;</td><td>&quot;000000000023105810&quot;</td><td>null</td><td>null</td><td>null</td><td>null</td><td>null</td><td>null</td><td>null</td><td>null</td><td>null</td><td>null</td></tr><tr><td>2025-02-06 00:00:00</td><td>&quot;NE37&quot;</td><td>&quot;000000000023105810&quot;</td><td>null</td><td>null</td><td>null</td><td>null</td><td>null</td><td>null</td><td>null</td><td>null</td><td>null</td><td>null</td></tr><tr><td>2025-02-07 00:00:00</td><td>&quot;NE37&quot;</td><td>&quot;000000000023105810&quot;</td><td>null</td><td>null</td><td>null</td><td>null</td><td>null</td><td>null</td><td>null</td><td>null</td><td>null</td><td>null</td></tr><tr><td>2025-02-08 00:00:00</td><td>&quot;NE37&quot;</td><td>&quot;000000000023105810&quot;</td><td>null</td><td>null</td><td>null</td><td>null</td><td>null</td><td>null</td><td>null</td><td>null</td><td>null</td><td>null</td></tr><tr><td>2023-12-26 00:00:00</td><td>&quot;S103&quot;</td><td>&quot;000000000023048743&quot;</td><td>24.0</td><td>24.0</td><td>24.0</td><td>null</td><td>null</td><td>null</td><td>null</td><td>null</td><td>24.0</td><td>86.465632</td></tr></tbody></table></div>"
      ],
      "text/plain": [
       "shape: (800_557, 13)\n",
       "┌───────────┬───────────┬───────────┬───────────┬───┬───────────┬───────────┬───────────┬──────────┐\n",
       "│ OrderDate ┆ CustomerB ┆ ProductBK ┆ OrderWeig ┆ … ┆ MA_3_mont ┆ STD_3_mon ┆ customer_ ┆ product_ │\n",
       "│ ---       ┆ Key       ┆ ey        ┆ ht        ┆   ┆ h         ┆ th        ┆ month_avg ┆ month_av │\n",
       "│ datetime[ ┆ ---       ┆ ---       ┆ ---       ┆   ┆ ---       ┆ ---       ┆ _weight   ┆ g_weight │\n",
       "│ μs]       ┆ str       ┆ str       ┆ f64       ┆   ┆ f64       ┆ f64       ┆ ---       ┆ ---      │\n",
       "│           ┆           ┆           ┆           ┆   ┆           ┆           ┆ f64       ┆ f64      │\n",
       "╞═══════════╪═══════════╪═══════════╪═══════════╪═══╪═══════════╪═══════════╪═══════════╪══════════╡\n",
       "│ 2023-01-1 ┆ 020P      ┆ 000000000 ┆ 28.28     ┆ … ┆ null      ┆ null      ┆ 74.887692 ┆ 135.34   │\n",
       "│ 7         ┆           ┆ 023013118 ┆           ┆   ┆           ┆           ┆           ┆          │\n",
       "│ 00:00:00  ┆           ┆           ┆           ┆   ┆           ┆           ┆           ┆          │\n",
       "│ 2023-01-1 ┆ 020P      ┆ 000000000 ┆ 125.24    ┆ … ┆ null      ┆ null      ┆ 74.887692 ┆ 135.34   │\n",
       "│ 9         ┆           ┆ 023013118 ┆           ┆   ┆           ┆           ┆           ┆          │\n",
       "│ 00:00:00  ┆           ┆           ┆           ┆   ┆           ┆           ┆           ┆          │\n",
       "│ 2023-01-2 ┆ 020P      ┆ 000000000 ┆ 626.2     ┆ … ┆ 259.90666 ┆ 320.90250 ┆ 74.887692 ┆ 135.34   │\n",
       "│ 0         ┆           ┆ 023013118 ┆           ┆   ┆ 7         ┆ 1         ┆           ┆          │\n",
       "│ 00:00:00  ┆           ┆           ┆           ┆   ┆           ┆           ┆           ┆          │\n",
       "│ 2023-01-2 ┆ 020P      ┆ 000000000 ┆ 2.02      ┆ … ┆ 251.15333 ┆ 330.59158 ┆ 74.887692 ┆ 135.34   │\n",
       "│ 1         ┆           ┆ 023013118 ┆           ┆   ┆ 3         ┆ 1         ┆           ┆          │\n",
       "│ 00:00:00  ┆           ┆           ┆           ┆   ┆           ┆           ┆           ┆          │\n",
       "│ 2023-01-2 ┆ 020P      ┆ 000000000 ┆ 8.08      ┆ … ┆ 212.1     ┆ 358.63392 ┆ 74.887692 ┆ 135.34   │\n",
       "│ 3         ┆           ┆ 023013118 ┆           ┆   ┆           ┆           ┆           ┆          │\n",
       "│ 00:00:00  ┆           ┆           ┆           ┆   ┆           ┆           ┆           ┆          │\n",
       "│ …         ┆ …         ┆ …         ┆ …         ┆ … ┆ …         ┆ …         ┆ …         ┆ …        │\n",
       "│ 2025-02-0 ┆ NE37      ┆ 000000000 ┆ null      ┆ … ┆ null      ┆ null      ┆ null      ┆ null     │\n",
       "│ 5         ┆           ┆ 023105810 ┆           ┆   ┆           ┆           ┆           ┆          │\n",
       "│ 00:00:00  ┆           ┆           ┆           ┆   ┆           ┆           ┆           ┆          │\n",
       "│ 2025-02-0 ┆ NE37      ┆ 000000000 ┆ null      ┆ … ┆ null      ┆ null      ┆ null      ┆ null     │\n",
       "│ 6         ┆           ┆ 023105810 ┆           ┆   ┆           ┆           ┆           ┆          │\n",
       "│ 00:00:00  ┆           ┆           ┆           ┆   ┆           ┆           ┆           ┆          │\n",
       "│ 2025-02-0 ┆ NE37      ┆ 000000000 ┆ null      ┆ … ┆ null      ┆ null      ┆ null      ┆ null     │\n",
       "│ 7         ┆           ┆ 023105810 ┆           ┆   ┆           ┆           ┆           ┆          │\n",
       "│ 00:00:00  ┆           ┆           ┆           ┆   ┆           ┆           ┆           ┆          │\n",
       "│ 2025-02-0 ┆ NE37      ┆ 000000000 ┆ null      ┆ … ┆ null      ┆ null      ┆ null      ┆ null     │\n",
       "│ 8         ┆           ┆ 023105810 ┆           ┆   ┆           ┆           ┆           ┆          │\n",
       "│ 00:00:00  ┆           ┆           ┆           ┆   ┆           ┆           ┆           ┆          │\n",
       "│ 2023-12-2 ┆ S103      ┆ 000000000 ┆ 24.0      ┆ … ┆ null      ┆ null      ┆ 24.0      ┆ 86.46563 │\n",
       "│ 6         ┆           ┆ 023048743 ┆           ┆   ┆           ┆           ┆           ┆ 2        │\n",
       "│ 00:00:00  ┆           ┆           ┆           ┆   ┆           ┆           ┆           ┆          │\n",
       "└───────────┴───────────┴───────────┴───────────┴───┴───────────┴───────────┴───────────┴──────────┘"
      ]
     },
     "execution_count": 10,
     "metadata": {},
     "output_type": "execute_result"
    }
   ],
   "source": [
    "df = df.select([\n",
    "    \"OrderDate\", \"CustomerBKey\", \"ProductBKey\", \"OrderWeight\",\n",
    "    \"mean_weight\", \"median_weight\", \"std_weight\",\n",
    "    \"lag_1_month\", \"lag_2_month\",\n",
    "    \"MA_3_month\", \"STD_3_month\",\n",
    "    \"customer_month_avg_weight\", \"product_month_avg_weight\"\n",
    "])\n",
    "df.collect()"
   ]
  },
  {
   "cell_type": "code",
   "execution_count": 13,
   "id": "eee2e1cf",
   "metadata": {},
   "outputs": [
    {
     "data": {
      "text/html": [
       "<div><style>\n",
       ".dataframe > thead > tr,\n",
       ".dataframe > tbody > tr {\n",
       "  text-align: right;\n",
       "  white-space: pre-wrap;\n",
       "}\n",
       "</style>\n",
       "<small>shape: (321_010, 13)</small><table border=\"1\" class=\"dataframe\"><thead><tr><th>OrderDate</th><th>CustomerBKey</th><th>ProductBKey</th><th>OrderWeight</th><th>mean_weight</th><th>median_weight</th><th>std_weight</th><th>lag_1_month</th><th>lag_2_month</th><th>MA_3_month</th><th>STD_3_month</th><th>customer_month_avg_weight</th><th>product_month_avg_weight</th></tr><tr><td>datetime[μs]</td><td>str</td><td>str</td><td>f64</td><td>f64</td><td>f64</td><td>f64</td><td>f64</td><td>f64</td><td>f64</td><td>f64</td><td>f64</td><td>f64</td></tr></thead><tbody><tr><td>2023-01-20 00:00:00</td><td>&quot;020P&quot;</td><td>&quot;000000000023013118&quot;</td><td>626.2</td><td>135.34</td><td>25.25</td><td>244.65194</td><td>125.24</td><td>28.28</td><td>259.906667</td><td>320.902501</td><td>74.887692</td><td>135.34</td></tr><tr><td>2023-01-21 00:00:00</td><td>&quot;020P&quot;</td><td>&quot;000000000023013118&quot;</td><td>2.02</td><td>135.34</td><td>25.25</td><td>244.65194</td><td>626.2</td><td>125.24</td><td>251.153333</td><td>330.591581</td><td>74.887692</td><td>135.34</td></tr><tr><td>2023-01-23 00:00:00</td><td>&quot;020P&quot;</td><td>&quot;000000000023013118&quot;</td><td>8.08</td><td>135.34</td><td>25.25</td><td>244.65194</td><td>2.02</td><td>626.2</td><td>212.1</td><td>358.63392</td><td>74.887692</td><td>135.34</td></tr><tr><td>2023-01-26 00:00:00</td><td>&quot;020P&quot;</td><td>&quot;000000000023013118&quot;</td><td>22.22</td><td>135.34</td><td>25.25</td><td>244.65194</td><td>8.08</td><td>2.02</td><td>10.773333</td><td>10.365835</td><td>74.887692</td><td>135.34</td></tr><tr><td>2023-03-30 00:00:00</td><td>&quot;020P&quot;</td><td>&quot;000000000023013118&quot;</td><td>2.02</td><td>5.555</td><td>5.05</td><td>4.164337</td><td>8.08</td><td>10.1</td><td>6.733333</td><td>4.204965</td><td>12.218571</td><td>5.555</td></tr><tr><td>&hellip;</td><td>&hellip;</td><td>&hellip;</td><td>&hellip;</td><td>&hellip;</td><td>&hellip;</td><td>&hellip;</td><td>&hellip;</td><td>&hellip;</td><td>&hellip;</td><td>&hellip;</td><td>&hellip;</td><td>&hellip;</td></tr><tr><td>2024-12-27 00:00:00</td><td>&quot;NE37&quot;</td><td>&quot;000000000023097059&quot;</td><td>52.2</td><td>23.2</td><td>17.4</td><td>14.207041</td><td>17.4</td><td>17.4</td><td>29.0</td><td>20.091789</td><td>35.191489</td><td>84.660294</td></tr><tr><td>2025-01-10 00:00:00</td><td>&quot;NE37&quot;</td><td>&quot;000000000023097059&quot;</td><td>17.4</td><td>17.4</td><td>17.4</td><td>0.0</td><td>17.4</td><td>17.4</td><td>17.4</td><td>0.0</td><td>51.173913</td><td>84.79102</td></tr><tr><td>2025-01-15 00:00:00</td><td>&quot;NE37&quot;</td><td>&quot;000000000023097059&quot;</td><td>17.4</td><td>17.4</td><td>17.4</td><td>0.0</td><td>17.4</td><td>17.4</td><td>17.4</td><td>0.0</td><td>51.173913</td><td>84.79102</td></tr><tr><td>2024-08-19 00:00:00</td><td>&quot;NE37&quot;</td><td>&quot;000000000023103972&quot;</td><td>5.0</td><td>6.75</td><td>7.5</td><td>3.947573</td><td>10.0</td><td>10.0</td><td>8.333333</td><td>2.886751</td><td>31.902381</td><td>9.825375</td></tr><tr><td>2024-08-28 00:00:00</td><td>&quot;NE37&quot;</td><td>&quot;000000000023103972&quot;</td><td>2.0</td><td>6.75</td><td>7.5</td><td>3.947573</td><td>5.0</td><td>10.0</td><td>5.666667</td><td>4.041452</td><td>31.902381</td><td>9.825375</td></tr></tbody></table></div>"
      ],
      "text/plain": [
       "shape: (321_010, 13)\n",
       "┌───────────┬───────────┬───────────┬───────────┬───┬───────────┬───────────┬───────────┬──────────┐\n",
       "│ OrderDate ┆ CustomerB ┆ ProductBK ┆ OrderWeig ┆ … ┆ MA_3_mont ┆ STD_3_mon ┆ customer_ ┆ product_ │\n",
       "│ ---       ┆ Key       ┆ ey        ┆ ht        ┆   ┆ h         ┆ th        ┆ month_avg ┆ month_av │\n",
       "│ datetime[ ┆ ---       ┆ ---       ┆ ---       ┆   ┆ ---       ┆ ---       ┆ _weight   ┆ g_weight │\n",
       "│ μs]       ┆ str       ┆ str       ┆ f64       ┆   ┆ f64       ┆ f64       ┆ ---       ┆ ---      │\n",
       "│           ┆           ┆           ┆           ┆   ┆           ┆           ┆ f64       ┆ f64      │\n",
       "╞═══════════╪═══════════╪═══════════╪═══════════╪═══╪═══════════╪═══════════╪═══════════╪══════════╡\n",
       "│ 2023-01-2 ┆ 020P      ┆ 000000000 ┆ 626.2     ┆ … ┆ 259.90666 ┆ 320.90250 ┆ 74.887692 ┆ 135.34   │\n",
       "│ 0         ┆           ┆ 023013118 ┆           ┆   ┆ 7         ┆ 1         ┆           ┆          │\n",
       "│ 00:00:00  ┆           ┆           ┆           ┆   ┆           ┆           ┆           ┆          │\n",
       "│ 2023-01-2 ┆ 020P      ┆ 000000000 ┆ 2.02      ┆ … ┆ 251.15333 ┆ 330.59158 ┆ 74.887692 ┆ 135.34   │\n",
       "│ 1         ┆           ┆ 023013118 ┆           ┆   ┆ 3         ┆ 1         ┆           ┆          │\n",
       "│ 00:00:00  ┆           ┆           ┆           ┆   ┆           ┆           ┆           ┆          │\n",
       "│ 2023-01-2 ┆ 020P      ┆ 000000000 ┆ 8.08      ┆ … ┆ 212.1     ┆ 358.63392 ┆ 74.887692 ┆ 135.34   │\n",
       "│ 3         ┆           ┆ 023013118 ┆           ┆   ┆           ┆           ┆           ┆          │\n",
       "│ 00:00:00  ┆           ┆           ┆           ┆   ┆           ┆           ┆           ┆          │\n",
       "│ 2023-01-2 ┆ 020P      ┆ 000000000 ┆ 22.22     ┆ … ┆ 10.773333 ┆ 10.365835 ┆ 74.887692 ┆ 135.34   │\n",
       "│ 6         ┆           ┆ 023013118 ┆           ┆   ┆           ┆           ┆           ┆          │\n",
       "│ 00:00:00  ┆           ┆           ┆           ┆   ┆           ┆           ┆           ┆          │\n",
       "│ 2023-03-3 ┆ 020P      ┆ 000000000 ┆ 2.02      ┆ … ┆ 6.733333  ┆ 4.204965  ┆ 12.218571 ┆ 5.555    │\n",
       "│ 0         ┆           ┆ 023013118 ┆           ┆   ┆           ┆           ┆           ┆          │\n",
       "│ 00:00:00  ┆           ┆           ┆           ┆   ┆           ┆           ┆           ┆          │\n",
       "│ …         ┆ …         ┆ …         ┆ …         ┆ … ┆ …         ┆ …         ┆ …         ┆ …        │\n",
       "│ 2024-12-2 ┆ NE37      ┆ 000000000 ┆ 52.2      ┆ … ┆ 29.0      ┆ 20.091789 ┆ 35.191489 ┆ 84.66029 │\n",
       "│ 7         ┆           ┆ 023097059 ┆           ┆   ┆           ┆           ┆           ┆ 4        │\n",
       "│ 00:00:00  ┆           ┆           ┆           ┆   ┆           ┆           ┆           ┆          │\n",
       "│ 2025-01-1 ┆ NE37      ┆ 000000000 ┆ 17.4      ┆ … ┆ 17.4      ┆ 0.0       ┆ 51.173913 ┆ 84.79102 │\n",
       "│ 0         ┆           ┆ 023097059 ┆           ┆   ┆           ┆           ┆           ┆          │\n",
       "│ 00:00:00  ┆           ┆           ┆           ┆   ┆           ┆           ┆           ┆          │\n",
       "│ 2025-01-1 ┆ NE37      ┆ 000000000 ┆ 17.4      ┆ … ┆ 17.4      ┆ 0.0       ┆ 51.173913 ┆ 84.79102 │\n",
       "│ 5         ┆           ┆ 023097059 ┆           ┆   ┆           ┆           ┆           ┆          │\n",
       "│ 00:00:00  ┆           ┆           ┆           ┆   ┆           ┆           ┆           ┆          │\n",
       "│ 2024-08-1 ┆ NE37      ┆ 000000000 ┆ 5.0       ┆ … ┆ 8.333333  ┆ 2.886751  ┆ 31.902381 ┆ 9.825375 │\n",
       "│ 9         ┆           ┆ 023103972 ┆           ┆   ┆           ┆           ┆           ┆          │\n",
       "│ 00:00:00  ┆           ┆           ┆           ┆   ┆           ┆           ┆           ┆          │\n",
       "│ 2024-08-2 ┆ NE37      ┆ 000000000 ┆ 2.0       ┆ … ┆ 5.666667  ┆ 4.041452  ┆ 31.902381 ┆ 9.825375 │\n",
       "│ 8         ┆           ┆ 023103972 ┆           ┆   ┆           ┆           ┆           ┆          │\n",
       "│ 00:00:00  ┆           ┆           ┆           ┆   ┆           ┆           ┆           ┆          │\n",
       "└───────────┴───────────┴───────────┴───────────┴───┴───────────┴───────────┴───────────┴──────────┘"
      ]
     },
     "execution_count": 13,
     "metadata": {},
     "output_type": "execute_result"
    }
   ],
   "source": [
    "df=df.drop_nulls()\n",
    "df.collect()"
   ]
  },
  {
   "cell_type": "code",
   "execution_count": null,
   "id": "1269bedd",
   "metadata": {},
   "outputs": [],
   "source": []
  },
  {
   "cell_type": "code",
   "execution_count": 15,
   "id": "0b80879d",
   "metadata": {},
   "outputs": [],
   "source": [
    "df.collect().write_parquet(\"duck_better_stat.parquet\")"
   ]
  },
  {
   "cell_type": "code",
   "execution_count": null,
   "id": "75eda04d",
   "metadata": {},
   "outputs": [],
   "source": []
  }
 ],
 "metadata": {
  "kernelspec": {
   "display_name": "wtepsan",
   "language": "python",
   "name": "python3"
  },
  "language_info": {
   "codemirror_mode": {
    "name": "ipython",
    "version": 3
   },
   "file_extension": ".py",
   "mimetype": "text/x-python",
   "name": "python",
   "nbconvert_exporter": "python",
   "pygments_lexer": "ipython3",
   "version": "3.10.17"
  }
 },
 "nbformat": 4,
 "nbformat_minor": 5
}
