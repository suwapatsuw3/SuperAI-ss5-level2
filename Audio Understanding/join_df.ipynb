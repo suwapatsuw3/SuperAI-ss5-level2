{
 "cells": [
  {
   "cell_type": "code",
   "execution_count": 2,
   "id": "589e3e91",
   "metadata": {},
   "outputs": [],
   "source": [
    "import polars as pl"
   ]
  },
  {
   "cell_type": "code",
   "execution_count": 3,
   "id": "26b17f3c",
   "metadata": {},
   "outputs": [
    {
     "data": {
      "text/html": [
       "<div><style>\n",
       ".dataframe > thead > tr,\n",
       ".dataframe > tbody > tr {\n",
       "  text-align: right;\n",
       "  white-space: pre-wrap;\n",
       "}\n",
       "</style>\n",
       "<small>shape: (300, 8)</small><table border=\"1\" class=\"dataframe\"><thead><tr><th>audio</th><th>original_sentence</th><th>กล่าวสวัสดี</th><th>แนะนำชื่อและนามสกุล</th><th>บอกประเภทใบอนุญาตและเลขที่ใบอนุญาตที่ยังไม่หมดอายุ</th><th>บอกวัตถุประสงค์ของการเข้าพบ</th><th>เน้นประโยชน์ที่ลูกค้าได้รับ</th><th>บอกระยะเวลาที่ใช้ในการเข้าพบ</th></tr><tr><td>str</td><td>str</td><td>bool</td><td>bool</td><td>bool</td><td>bool</td><td>bool</td><td>bool</td></tr></thead><tbody><tr><td>&quot;2e378ce7-b5f5-49b7-a337-0bc64b…</td><td>&quot;Mint มาคุยกับคุณวัณนิดาในวันนี…</td><td>false</td><td>false</td><td>false</td><td>true</td><td>true</td><td>false</td></tr><tr><td>&quot;70e43e4b-42f2-40f8-9822-2ec5ee…</td><td>&quot;ดิฉันชื่อจีราเป็นที่ปรึกษาทางก…</td><td>false</td><td>false</td><td>true</td><td>false</td><td>false</td><td>true</td></tr><tr><td>&quot;b1b69e87-0a65-4aac-9eeb-910328…</td><td>&quot;ผมปั๊บครับ เป็นที่ปรึกษาทางการ…</td><td>false</td><td>false</td><td>true</td><td>false</td><td>false</td><td>false</td></tr><tr><td>&quot;292e0419-aed1-43d0-aa60-9635dc…</td><td>&quot;สวัสดีค่ะ คุณบุญธิชา ดิชั้นชื่…</td><td>true</td><td>true</td><td>true</td><td>true</td><td>true</td><td>false</td></tr><tr><td>&quot;51f656f7-7558-4e4b-ab0a-fa91a7…</td><td>&quot;บัณฑิตชั้นชื่อพัทธ์ตรา อินทรวิ…</td><td>false</td><td>true</td><td>true</td><td>false</td><td>false</td><td>false</td></tr><tr><td>&hellip;</td><td>&hellip;</td><td>&hellip;</td><td>&hellip;</td><td>&hellip;</td><td>&hellip;</td><td>&hellip;</td><td>&hellip;</td></tr><tr><td>&quot;dd74a676-a365-42ee-8793-89dc1b…</td><td>&quot;ผมชื่อนายสมบัติบุญการจนหรือเรี…</td><td>false</td><td>true</td><td>true</td><td>false</td><td>false</td><td>false</td></tr><tr><td>&quot;4ee7be59-b578-48a1-9b2d-74e5e1…</td><td>&quot;สวัสดีค่ะ คุณวิชากร ดิชั้นชื่อ…</td><td>true</td><td>true</td><td>true</td><td>true</td><td>false</td><td>false</td></tr><tr><td>&quot;e7089064-4bfa-42d6-8f53-abfded…</td><td>&quot;สวัสดีครับ ผมชื่อญาติคุณยศ ชาต…</td><td>true</td><td>true</td><td>true</td><td>true</td><td>true</td><td>true</td></tr><tr><td>&quot;a43136f2-aed3-41d3-9921-9abbdd…</td><td>&quot;ชื่อ นายอิทธิมณฑ์ สวัสดิคุณ หร…</td><td>false</td><td>true</td><td>false</td><td>true</td><td>false</td><td>true</td></tr><tr><td>&quot;5623f1f5-c02e-4db9-9a41-235291…</td><td>&quot;ชื่อญาณาสิริ นักศึกษาบินา อุดม…</td><td>false</td><td>true</td><td>true</td><td>false</td><td>true</td><td>true</td></tr></tbody></table></div>"
      ],
      "text/plain": [
       "shape: (300, 8)\n",
       "┌────────────┬────────────┬──────────┬────────────┬────────────┬───────────┬───────────┬───────────┐\n",
       "│ audio      ┆ original_s ┆ กล่าวสวัสดี ┆ แนะนำชื่อและ ┆ บอกประเภทใ ┆ บอกวัตถุประ ┆ เน้นประโยช ┆ บอกระยะเว │\n",
       "│ ---        ┆ entence    ┆ ---      ┆ นามสกุล     ┆ บอนุญาตและเ ┆ สงค์ของการ ┆ น์ที่ลูกค้าได้รั ┆ ลาที่ใช้ในกา │\n",
       "│ str        ┆ ---        ┆ bool     ┆ ---        ┆ ลขที่ใบอน…   ┆ เข้าพบ     ┆ บ         ┆ รเข้าพบ    │\n",
       "│            ┆ str        ┆          ┆ bool       ┆ ---        ┆ ---       ┆ ---       ┆ ---       │\n",
       "│            ┆            ┆          ┆            ┆ bool       ┆ bool      ┆ bool      ┆ bool      │\n",
       "╞════════════╪════════════╪══════════╪════════════╪════════════╪═══════════╪═══════════╪═══════════╡\n",
       "│ 2e378ce7-b ┆ Mint มาคุยกั ┆ false    ┆ false      ┆ false      ┆ true      ┆ true      ┆ false     │\n",
       "│ 5f5-49b7-a ┆ บคุณวัณนิดาใน ┆          ┆            ┆            ┆           ┆           ┆           │\n",
       "│ 337-0bc64b ┆ วันนี…       ┆          ┆            ┆            ┆           ┆           ┆           │\n",
       "│ …          ┆            ┆          ┆            ┆            ┆           ┆           ┆           │\n",
       "│ 70e43e4b-4 ┆ ดิฉันชื่อจีราเป็ ┆ false    ┆ false      ┆ true       ┆ false     ┆ false     ┆ true      │\n",
       "│ 2f2-40f8-9 ┆ นที่ปรึกษาทาง ┆          ┆            ┆            ┆           ┆           ┆           │\n",
       "│ 822-2ec5ee ┆ ก…         ┆          ┆            ┆            ┆           ┆           ┆           │\n",
       "│ …          ┆            ┆          ┆            ┆            ┆           ┆           ┆           │\n",
       "│ b1b69e87-0 ┆ ผมปั๊บครับ    ┆ false    ┆ false      ┆ true       ┆ false     ┆ false     ┆ false     │\n",
       "│ a65-4aac-9 ┆ เป็นที่ปรึกษาท ┆          ┆            ┆            ┆           ┆           ┆           │\n",
       "│ eeb-910328 ┆ างการ…     ┆          ┆            ┆            ┆           ┆           ┆           │\n",
       "│ …          ┆            ┆          ┆            ┆            ┆           ┆           ┆           │\n",
       "│ 292e0419-a ┆ สวัสดีค่ะ     ┆ true     ┆ true       ┆ true       ┆ true      ┆ true      ┆ false     │\n",
       "│ ed1-43d0-a ┆ คุณบุญธิชา    ┆          ┆            ┆            ┆           ┆           ┆           │\n",
       "│ a60-9635dc ┆ ดิชั้นชื่…      ┆          ┆            ┆            ┆           ┆           ┆           │\n",
       "│ …          ┆            ┆          ┆            ┆            ┆           ┆           ┆           │\n",
       "│ 51f656f7-7 ┆ บัณฑิตชั้นชื่อพัท ┆ false    ┆ true       ┆ true       ┆ false     ┆ false     ┆ false     │\n",
       "│ 558-4e4b-a ┆ ธ์ตรา       ┆          ┆            ┆            ┆           ┆           ┆           │\n",
       "│ b0a-fa91a7 ┆ อินทรวิ…     ┆          ┆            ┆            ┆           ┆           ┆           │\n",
       "│ …          ┆            ┆          ┆            ┆            ┆           ┆           ┆           │\n",
       "│ …          ┆ …          ┆ …        ┆ …          ┆ …          ┆ …         ┆ …         ┆ …         │\n",
       "│ dd74a676-a ┆ ผมชื่อนายสมบั ┆ false    ┆ true       ┆ true       ┆ false     ┆ false     ┆ false     │\n",
       "│ 365-42ee-8 ┆ ติบุญการจนหรื ┆          ┆            ┆            ┆           ┆           ┆           │\n",
       "│ 793-89dc1b ┆ อเรี…       ┆          ┆            ┆            ┆           ┆           ┆           │\n",
       "│ …          ┆            ┆          ┆            ┆            ┆           ┆           ┆           │\n",
       "│ 4ee7be59-b ┆ สวัสดีค่ะ     ┆ true     ┆ true       ┆ true       ┆ true      ┆ false     ┆ false     │\n",
       "│ 578-48a1-9 ┆ คุณวิชากร    ┆          ┆            ┆            ┆           ┆           ┆           │\n",
       "│ b2d-74e5e1 ┆ ดิชั้นชื่อ…     ┆          ┆            ┆            ┆           ┆           ┆           │\n",
       "│ …          ┆            ┆          ┆            ┆            ┆           ┆           ┆           │\n",
       "│ e7089064-4 ┆ สวัสดีครับ    ┆ true     ┆ true       ┆ true       ┆ true      ┆ true      ┆ true      │\n",
       "│ bfa-42d6-8 ┆ ผมชื่อญาติคุณย ┆          ┆            ┆            ┆           ┆           ┆           │\n",
       "│ f53-abfded ┆ ศ ชาต…     ┆          ┆            ┆            ┆           ┆           ┆           │\n",
       "│ …          ┆            ┆          ┆            ┆            ┆           ┆           ┆           │\n",
       "│ a43136f2-a ┆ ชื่อ         ┆ false    ┆ true       ┆ false      ┆ true      ┆ false     ┆ true      │\n",
       "│ ed3-41d3-9 ┆ นายอิทธิมณฑ์  ┆          ┆            ┆            ┆           ┆           ┆           │\n",
       "│ 921-9abbdd ┆ สวัสดิคุณ หร… ┆          ┆            ┆            ┆           ┆           ┆           │\n",
       "│ …          ┆            ┆          ┆            ┆            ┆           ┆           ┆           │\n",
       "│ 5623f1f5-c ┆ ชื่อญาณาสิริ   ┆ false    ┆ true       ┆ true       ┆ false     ┆ true      ┆ true      │\n",
       "│ 02e-4db9-9 ┆ นักศึกษาบินา  ┆          ┆            ┆            ┆           ┆           ┆           │\n",
       "│ a41-235291 ┆ อุดม…       ┆          ┆            ┆            ┆           ┆           ┆           │\n",
       "│ …          ┆            ┆          ┆            ┆            ┆           ┆           ┆           │\n",
       "└────────────┴────────────┴──────────┴────────────┴────────────┴───────────┴───────────┴───────────┘"
      ]
     },
     "execution_count": 3,
     "metadata": {},
     "output_type": "execute_result"
    }
   ],
   "source": [
    "con1 = pl.scan_csv(\"/data/ChunIjiREalserious/Sotiredbutnotgiveupna.csv\")\n",
    "con1.collect()"
   ]
  },
  {
   "cell_type": "code",
   "execution_count": 4,
   "id": "3d2c7cec",
   "metadata": {},
   "outputs": [
    {
     "data": {
      "text/html": [
       "<div><style>\n",
       ".dataframe > thead > tr,\n",
       ".dataframe > tbody > tr {\n",
       "  text-align: right;\n",
       "  white-space: pre-wrap;\n",
       "}\n",
       "</style>\n",
       "<small>shape: (300, 8)</small><table border=\"1\" class=\"dataframe\"><thead><tr><th>audio</th><th>original_sentence</th><th>กล่าวสวัสดี</th><th>แนะนำชื่อและนามสกุล</th><th>บอกประเภทใบอนุญาตและเลขที่ใบอนุญาตที่ยังไม่หมดอายุ</th><th>บอกวัตถุประสงค์ของการเข้าพบ</th><th>เน้นประโยชน์ที่ลูกค้าได้รับ</th><th>บอกระยะเวลาที่ใช้ในการเข้าพบ</th></tr><tr><td>str</td><td>str</td><td>bool</td><td>bool</td><td>bool</td><td>bool</td><td>bool</td><td>bool</td></tr></thead><tbody><tr><td>&quot;2e378ce7-b5f5-49b7-a337-0bc64b…</td><td>&quot;Mint มาคุยกับคุณวัณนิดาในวันนี…</td><td>false</td><td>false</td><td>false</td><td>true</td><td>true</td><td>false</td></tr><tr><td>&quot;70e43e4b-42f2-40f8-9822-2ec5ee…</td><td>&quot;ดิฉันชื่อจีราเป็นที่ปรึกษาทางก…</td><td>false</td><td>false</td><td>true</td><td>false</td><td>false</td><td>true</td></tr><tr><td>&quot;b1b69e87-0a65-4aac-9eeb-910328…</td><td>&quot;ผมปั๊บครับ เป็นที่ปรึกษาทางการ…</td><td>false</td><td>false</td><td>true</td><td>false</td><td>false</td><td>false</td></tr><tr><td>&quot;292e0419-aed1-43d0-aa60-9635dc…</td><td>&quot;สวัสดีค่ะ คุณบุญธิชา ดิชั้นชื่…</td><td>true</td><td>true</td><td>true</td><td>true</td><td>true</td><td>false</td></tr><tr><td>&quot;51f656f7-7558-4e4b-ab0a-fa91a7…</td><td>&quot;บัณฑิตชั้นชื่อพัทธ์ตรา อินทรวิ…</td><td>false</td><td>true</td><td>true</td><td>false</td><td>false</td><td>false</td></tr><tr><td>&hellip;</td><td>&hellip;</td><td>&hellip;</td><td>&hellip;</td><td>&hellip;</td><td>&hellip;</td><td>&hellip;</td><td>&hellip;</td></tr><tr><td>&quot;dd74a676-a365-42ee-8793-89dc1b…</td><td>&quot;ผมชื่อนายสมบัติบุญการจนหรือเรี…</td><td>false</td><td>true</td><td>true</td><td>false</td><td>false</td><td>false</td></tr><tr><td>&quot;4ee7be59-b578-48a1-9b2d-74e5e1…</td><td>&quot;สวัสดีค่ะ คุณวิชากร ดิชั้นชื่อ…</td><td>true</td><td>true</td><td>true</td><td>true</td><td>false</td><td>false</td></tr><tr><td>&quot;e7089064-4bfa-42d6-8f53-abfded…</td><td>&quot;สวัสดีครับ ผมชื่อญาติคุณยศ ชาต…</td><td>true</td><td>true</td><td>true</td><td>true</td><td>true</td><td>true</td></tr><tr><td>&quot;a43136f2-aed3-41d3-9921-9abbdd…</td><td>&quot;ชื่อ นายอิทธิมณฑ์ สวัสดิคุณ หร…</td><td>false</td><td>true</td><td>false</td><td>true</td><td>false</td><td>true</td></tr><tr><td>&quot;5623f1f5-c02e-4db9-9a41-235291…</td><td>&quot;ชื่อญาณาสิริ นักศึกษาบินา อุดม…</td><td>false</td><td>true</td><td>true</td><td>false</td><td>true</td><td>true</td></tr></tbody></table></div>"
      ],
      "text/plain": [
       "shape: (300, 8)\n",
       "┌────────────┬────────────┬──────────┬────────────┬────────────┬───────────┬───────────┬───────────┐\n",
       "│ audio      ┆ original_s ┆ กล่าวสวัสดี ┆ แนะนำชื่อและ ┆ บอกประเภทใ ┆ บอกวัตถุประ ┆ เน้นประโยช ┆ บอกระยะเว │\n",
       "│ ---        ┆ entence    ┆ ---      ┆ นามสกุล     ┆ บอนุญาตและเ ┆ สงค์ของการ ┆ น์ที่ลูกค้าได้รั ┆ ลาที่ใช้ในกา │\n",
       "│ str        ┆ ---        ┆ bool     ┆ ---        ┆ ลขที่ใบอน…   ┆ เข้าพบ     ┆ บ         ┆ รเข้าพบ    │\n",
       "│            ┆ str        ┆          ┆ bool       ┆ ---        ┆ ---       ┆ ---       ┆ ---       │\n",
       "│            ┆            ┆          ┆            ┆ bool       ┆ bool      ┆ bool      ┆ bool      │\n",
       "╞════════════╪════════════╪══════════╪════════════╪════════════╪═══════════╪═══════════╪═══════════╡\n",
       "│ 2e378ce7-b ┆ Mint มาคุยกั ┆ false    ┆ false      ┆ false      ┆ true      ┆ true      ┆ false     │\n",
       "│ 5f5-49b7-a ┆ บคุณวัณนิดาใน ┆          ┆            ┆            ┆           ┆           ┆           │\n",
       "│ 337-0bc64b ┆ วันนี…       ┆          ┆            ┆            ┆           ┆           ┆           │\n",
       "│ …          ┆            ┆          ┆            ┆            ┆           ┆           ┆           │\n",
       "│ 70e43e4b-4 ┆ ดิฉันชื่อจีราเป็ ┆ false    ┆ false      ┆ true       ┆ false     ┆ false     ┆ true      │\n",
       "│ 2f2-40f8-9 ┆ นที่ปรึกษาทาง ┆          ┆            ┆            ┆           ┆           ┆           │\n",
       "│ 822-2ec5ee ┆ ก…         ┆          ┆            ┆            ┆           ┆           ┆           │\n",
       "│ …          ┆            ┆          ┆            ┆            ┆           ┆           ┆           │\n",
       "│ b1b69e87-0 ┆ ผมปั๊บครับ    ┆ false    ┆ false      ┆ true       ┆ false     ┆ false     ┆ false     │\n",
       "│ a65-4aac-9 ┆ เป็นที่ปรึกษาท ┆          ┆            ┆            ┆           ┆           ┆           │\n",
       "│ eeb-910328 ┆ างการ…     ┆          ┆            ┆            ┆           ┆           ┆           │\n",
       "│ …          ┆            ┆          ┆            ┆            ┆           ┆           ┆           │\n",
       "│ 292e0419-a ┆ สวัสดีค่ะ     ┆ true     ┆ true       ┆ true       ┆ true      ┆ true      ┆ false     │\n",
       "│ ed1-43d0-a ┆ คุณบุญธิชา    ┆          ┆            ┆            ┆           ┆           ┆           │\n",
       "│ a60-9635dc ┆ ดิชั้นชื่…      ┆          ┆            ┆            ┆           ┆           ┆           │\n",
       "│ …          ┆            ┆          ┆            ┆            ┆           ┆           ┆           │\n",
       "│ 51f656f7-7 ┆ บัณฑิตชั้นชื่อพัท ┆ false    ┆ true       ┆ true       ┆ false     ┆ false     ┆ false     │\n",
       "│ 558-4e4b-a ┆ ธ์ตรา       ┆          ┆            ┆            ┆           ┆           ┆           │\n",
       "│ b0a-fa91a7 ┆ อินทรวิ…     ┆          ┆            ┆            ┆           ┆           ┆           │\n",
       "│ …          ┆            ┆          ┆            ┆            ┆           ┆           ┆           │\n",
       "│ …          ┆ …          ┆ …        ┆ …          ┆ …          ┆ …         ┆ …         ┆ …         │\n",
       "│ dd74a676-a ┆ ผมชื่อนายสมบั ┆ false    ┆ true       ┆ true       ┆ false     ┆ false     ┆ false     │\n",
       "│ 365-42ee-8 ┆ ติบุญการจนหรื ┆          ┆            ┆            ┆           ┆           ┆           │\n",
       "│ 793-89dc1b ┆ อเรี…       ┆          ┆            ┆            ┆           ┆           ┆           │\n",
       "│ …          ┆            ┆          ┆            ┆            ┆           ┆           ┆           │\n",
       "│ 4ee7be59-b ┆ สวัสดีค่ะ     ┆ true     ┆ true       ┆ true       ┆ true      ┆ false     ┆ false     │\n",
       "│ 578-48a1-9 ┆ คุณวิชากร    ┆          ┆            ┆            ┆           ┆           ┆           │\n",
       "│ b2d-74e5e1 ┆ ดิชั้นชื่อ…     ┆          ┆            ┆            ┆           ┆           ┆           │\n",
       "│ …          ┆            ┆          ┆            ┆            ┆           ┆           ┆           │\n",
       "│ e7089064-4 ┆ สวัสดีครับ    ┆ true     ┆ true       ┆ true       ┆ true      ┆ true      ┆ true      │\n",
       "│ bfa-42d6-8 ┆ ผมชื่อญาติคุณย ┆          ┆            ┆            ┆           ┆           ┆           │\n",
       "│ f53-abfded ┆ ศ ชาต…     ┆          ┆            ┆            ┆           ┆           ┆           │\n",
       "│ …          ┆            ┆          ┆            ┆            ┆           ┆           ┆           │\n",
       "│ a43136f2-a ┆ ชื่อ         ┆ false    ┆ true       ┆ false      ┆ true      ┆ false     ┆ true      │\n",
       "│ ed3-41d3-9 ┆ นายอิทธิมณฑ์  ┆          ┆            ┆            ┆           ┆           ┆           │\n",
       "│ 921-9abbdd ┆ สวัสดิคุณ หร… ┆          ┆            ┆            ┆           ┆           ┆           │\n",
       "│ …          ┆            ┆          ┆            ┆            ┆           ┆           ┆           │\n",
       "│ 5623f1f5-c ┆ ชื่อญาณาสิริ   ┆ false    ┆ true       ┆ true       ┆ false     ┆ true      ┆ true      │\n",
       "│ 02e-4db9-9 ┆ นักศึกษาบินา  ┆          ┆            ┆            ┆           ┆           ┆           │\n",
       "│ a41-235291 ┆ อุดม…       ┆          ┆            ┆            ┆           ┆           ┆           │\n",
       "│ …          ┆            ┆          ┆            ┆            ┆           ┆           ┆           │\n",
       "└────────────┴────────────┴──────────┴────────────┴────────────┴───────────┴───────────┴───────────┘"
      ]
     },
     "execution_count": 4,
     "metadata": {},
     "output_type": "execute_result"
    }
   ],
   "source": [
    "# Remove '.wav' from every value in the 'id' column of the su LazyFrame\n",
    "con1 = con1.with_columns(\n",
    "    pl.col('audio').str.replace(r'\\.wav', '', literal=False)\n",
    ")\n",
    "con1.collect()"
   ]
  },
  {
   "cell_type": "code",
   "execution_count": 112,
   "id": "d34dc5e3",
   "metadata": {},
   "outputs": [
    {
     "data": {
      "text/plain": [
       "'5623f1f5-c02e-4db9-9a41-2352917f3005.wav'"
      ]
     },
     "execution_count": 112,
     "metadata": {},
     "output_type": "execute_result"
    }
   ],
   "source": [
    "df = con1.collect()\n",
    "df['audio'][-1]"
   ]
  },
  {
   "cell_type": "code",
   "execution_count": 5,
   "id": "5ffe0174",
   "metadata": {},
   "outputs": [
    {
     "data": {
      "text/html": [
       "<div><style>\n",
       ".dataframe > thead > tr,\n",
       ".dataframe > tbody > tr {\n",
       "  text-align: right;\n",
       "  white-space: pre-wrap;\n",
       "}\n",
       "</style>\n",
       "<small>shape: (300, 9)</small><table border=\"1\" class=\"dataframe\"><thead><tr><th>id</th><th>first_name</th><th>last_name</th><th>กล่าวสวัสดี</th><th>แนะนำชื่อและนามสกุล</th><th>บอกประเภทใบอนุญาตและเลขที่ใบอนุญาตที่ยังไม่หมดอายุ</th><th>บอกวัตถุประสงค์ของการเข้าพบครั้งนี้</th><th>เน้นประโยชน์ว่าลูกค้าได้ประโยชน์อะไรจากการเข้าพบครั้งนี้</th><th>บอกระยะเวลาที่ใช้ในการเข้าพบ</th></tr><tr><td>str</td><td>str</td><td>str</td><td>bool</td><td>bool</td><td>bool</td><td>bool</td><td>bool</td><td>bool</td></tr></thead><tbody><tr><td>&quot;2e378ce7-b5f5-49b7-a337-0bc64b…</td><td>&quot;วิมลศิริ&quot;</td><td>&quot;บุณยะลักษณ&quot;</td><td>false</td><td>false</td><td>false</td><td>true</td><td>true</td><td>false</td></tr><tr><td>&quot;70e43e4b-42f2-40f8-9822-2ec5ee…</td><td>&quot;จิราลักษ์&quot;</td><td>&quot;วารินทุ&quot;</td><td>false</td><td>false</td><td>true</td><td>false</td><td>false</td><td>true</td></tr><tr><td>&quot;b1b69e87-0a65-4aac-9eeb-910328…</td><td>&quot;ปุณฐ์พัฒน์&quot;</td><td>&quot;อนัคฆฑัต&quot;</td><td>false</td><td>false</td><td>true</td><td>false</td><td>false</td><td>false</td></tr><tr><td>&quot;292e0419-aed1-43d0-aa60-9635dc…</td><td>&quot;วฤณดา&quot;</td><td>&quot;มหาขันธ์&quot;</td><td>true</td><td>false</td><td>true</td><td>true</td><td>true</td><td>false</td></tr><tr><td>&quot;51f656f7-7558-4e4b-ab0a-fa91a7…</td><td>&quot;ภัทรดา&quot;</td><td>&quot;อินทะวิวัฒนะ&quot;</td><td>false</td><td>false</td><td>true</td><td>true</td><td>false</td><td>false</td></tr><tr><td>&hellip;</td><td>&hellip;</td><td>&hellip;</td><td>&hellip;</td><td>&hellip;</td><td>&hellip;</td><td>&hellip;</td><td>&hellip;</td><td>&hellip;</td></tr><tr><td>&quot;dd74a676-a365-42ee-8793-89dc1b…</td><td>&quot;สมบัติ&quot;</td><td>&quot;บุณยกาญจน&quot;</td><td>false</td><td>true</td><td>true</td><td>true</td><td>false</td><td>false</td></tr><tr><td>&quot;4ee7be59-b578-48a1-9b2d-74e5e1…</td><td>&quot;รวีวรรณ&quot;</td><td>&quot;วปินานนท์&quot;</td><td>true</td><td>true</td><td>true</td><td>true</td><td>false</td><td>false</td></tr><tr><td>&quot;e7089064-4bfa-42d6-8f53-abfded…</td><td>&quot;ธยศ&quot;</td><td>&quot;ชาตาคม&quot;</td><td>false</td><td>false</td><td>true</td><td>true</td><td>true</td><td>true</td></tr><tr><td>&quot;a43136f2-aed3-41d3-9921-9abbdd…</td><td>&quot;อิทธิมนต์&quot;</td><td>&quot;สวัสดิกุล&quot;</td><td>false</td><td>true</td><td>false</td><td>true</td><td>false</td><td>true</td></tr><tr><td>&quot;5623f1f5-c02e-4db9-9a41-235291…</td><td>&quot;ญาณสิริ&quot;</td><td>&quot;นัสวีณาอุดมวงศ์&quot;</td><td>false</td><td>true</td><td>true</td><td>true</td><td>true</td><td>true</td></tr></tbody></table></div>"
      ],
      "text/plain": [
       "shape: (300, 9)\n",
       "┌───────────┬───────────┬───────────┬──────────┬───┬───────────┬───────────┬───────────┬───────────┐\n",
       "│ id        ┆ first_nam ┆ last_name ┆ กล่าวสวัสดี ┆ … ┆ บอกประเภท ┆ บอกวัตถุประ ┆ เน้นประโยช ┆ บอกระยะเว │\n",
       "│ ---       ┆ e         ┆ ---       ┆ ---      ┆   ┆ ใบอนุญาตแล ┆ สงค์ของการ ┆ น์ว่าลูกค้าได้ ┆ ลาที่ใช้ในกา │\n",
       "│ str       ┆ ---       ┆ str       ┆ bool     ┆   ┆ ะเลขที่ใบอน ┆ เข้าพบครั…  ┆ ประโยช…   ┆ รเข้าพบ    │\n",
       "│           ┆ str       ┆           ┆          ┆   ┆ …         ┆ ---       ┆ ---       ┆ ---       │\n",
       "│           ┆           ┆           ┆          ┆   ┆ ---       ┆ bool      ┆ bool      ┆ bool      │\n",
       "│           ┆           ┆           ┆          ┆   ┆ bool      ┆           ┆           ┆           │\n",
       "╞═══════════╪═══════════╪═══════════╪══════════╪═══╪═══════════╪═══════════╪═══════════╪═══════════╡\n",
       "│ 2e378ce7- ┆ วิมลศิริ     ┆ บุณยะลักษณ  ┆ false    ┆ … ┆ false     ┆ true      ┆ true      ┆ false     │\n",
       "│ b5f5-49b7 ┆           ┆           ┆          ┆   ┆           ┆           ┆           ┆           │\n",
       "│ -a337-0bc ┆           ┆           ┆          ┆   ┆           ┆           ┆           ┆           │\n",
       "│ 64b…      ┆           ┆           ┆          ┆   ┆           ┆           ┆           ┆           │\n",
       "│ 70e43e4b- ┆ จิราลักษ์    ┆ วารินทุ     ┆ false    ┆ … ┆ true      ┆ false     ┆ false     ┆ true      │\n",
       "│ 42f2-40f8 ┆           ┆           ┆          ┆   ┆           ┆           ┆           ┆           │\n",
       "│ -9822-2ec ┆           ┆           ┆          ┆   ┆           ┆           ┆           ┆           │\n",
       "│ 5ee…      ┆           ┆           ┆          ┆   ┆           ┆           ┆           ┆           │\n",
       "│ b1b69e87- ┆ ปุณฐ์พัฒน์    ┆ อนัคฆฑัต    ┆ false    ┆ … ┆ true      ┆ false     ┆ false     ┆ false     │\n",
       "│ 0a65-4aac ┆           ┆           ┆          ┆   ┆           ┆           ┆           ┆           │\n",
       "│ -9eeb-910 ┆           ┆           ┆          ┆   ┆           ┆           ┆           ┆           │\n",
       "│ 328…      ┆           ┆           ┆          ┆   ┆           ┆           ┆           ┆           │\n",
       "│ 292e0419- ┆ วฤณดา     ┆ มหาขันธ์    ┆ true     ┆ … ┆ true      ┆ true      ┆ true      ┆ false     │\n",
       "│ aed1-43d0 ┆           ┆           ┆          ┆   ┆           ┆           ┆           ┆           │\n",
       "│ -aa60-963 ┆           ┆           ┆          ┆   ┆           ┆           ┆           ┆           │\n",
       "│ 5dc…      ┆           ┆           ┆          ┆   ┆           ┆           ┆           ┆           │\n",
       "│ 51f656f7- ┆ ภัทรดา     ┆ อินทะวิวัฒนะ ┆ false    ┆ … ┆ true      ┆ true      ┆ false     ┆ false     │\n",
       "│ 7558-4e4b ┆           ┆           ┆          ┆   ┆           ┆           ┆           ┆           │\n",
       "│ -ab0a-fa9 ┆           ┆           ┆          ┆   ┆           ┆           ┆           ┆           │\n",
       "│ 1a7…      ┆           ┆           ┆          ┆   ┆           ┆           ┆           ┆           │\n",
       "│ …         ┆ …         ┆ …         ┆ …        ┆ … ┆ …         ┆ …         ┆ …         ┆ …         │\n",
       "│ dd74a676- ┆ สมบัติ      ┆ บุณยกาญจน  ┆ false    ┆ … ┆ true      ┆ true      ┆ false     ┆ false     │\n",
       "│ a365-42ee ┆           ┆           ┆          ┆   ┆           ┆           ┆           ┆           │\n",
       "│ -8793-89d ┆           ┆           ┆          ┆   ┆           ┆           ┆           ┆           │\n",
       "│ c1b…      ┆           ┆           ┆          ┆   ┆           ┆           ┆           ┆           │\n",
       "│ 4ee7be59- ┆ รวีวรรณ    ┆ วปินานนท์   ┆ true     ┆ … ┆ true      ┆ true      ┆ false     ┆ false     │\n",
       "│ b578-48a1 ┆           ┆           ┆          ┆   ┆           ┆           ┆           ┆           │\n",
       "│ -9b2d-74e ┆           ┆           ┆          ┆   ┆           ┆           ┆           ┆           │\n",
       "│ 5e1…      ┆           ┆           ┆          ┆   ┆           ┆           ┆           ┆           │\n",
       "│ e7089064- ┆ ธยศ       ┆ ชาตาคม    ┆ false    ┆ … ┆ true      ┆ true      ┆ true      ┆ true      │\n",
       "│ 4bfa-42d6 ┆           ┆           ┆          ┆   ┆           ┆           ┆           ┆           │\n",
       "│ -8f53-abf ┆           ┆           ┆          ┆   ┆           ┆           ┆           ┆           │\n",
       "│ ded…      ┆           ┆           ┆          ┆   ┆           ┆           ┆           ┆           │\n",
       "│ a43136f2- ┆ อิทธิมนต์    ┆ สวัสดิกุล    ┆ false    ┆ … ┆ false     ┆ true      ┆ false     ┆ true      │\n",
       "│ aed3-41d3 ┆           ┆           ┆          ┆   ┆           ┆           ┆           ┆           │\n",
       "│ -9921-9ab ┆           ┆           ┆          ┆   ┆           ┆           ┆           ┆           │\n",
       "│ bdd…      ┆           ┆           ┆          ┆   ┆           ┆           ┆           ┆           │\n",
       "│ 5623f1f5- ┆ ญาณสิริ     ┆ นัสวีณาอุดมว ┆ false    ┆ … ┆ true      ┆ true      ┆ true      ┆ true      │\n",
       "│ c02e-4db9 ┆           ┆ งศ์        ┆          ┆   ┆           ┆           ┆           ┆           │\n",
       "│ -9a41-235 ┆           ┆           ┆          ┆   ┆           ┆           ┆           ┆           │\n",
       "│ 291…      ┆           ┆           ┆          ┆   ┆           ┆           ┆           ┆           │\n",
       "└───────────┴───────────┴───────────┴──────────┴───┴───────────┴───────────┴───────────┴───────────┘"
      ]
     },
     "execution_count": 5,
     "metadata": {},
     "output_type": "execute_result"
    }
   ],
   "source": [
    "con2 = pl.scan_csv(\"/data/502507_pre/502507_pre/week4/submission_week4_dojin224.csv\")\n",
    "con2.collect()"
   ]
  },
  {
   "cell_type": "code",
   "execution_count": 6,
   "id": "52e8a2d6",
   "metadata": {},
   "outputs": [
    {
     "data": {
      "text/html": [
       "<div><style>\n",
       ".dataframe > thead > tr,\n",
       ".dataframe > tbody > tr {\n",
       "  text-align: right;\n",
       "  white-space: pre-wrap;\n",
       "}\n",
       "</style>\n",
       "<small>shape: (300, 16)</small><table border=\"1\" class=\"dataframe\"><thead><tr><th>id</th><th>first_name</th><th>last_name</th><th>กล่าวสวัสดี</th><th>แนะนำชื่อและนามสกุล</th><th>บอกประเภทใบอนุญาตและเลขที่ใบอนุญาตที่ยังไม่หมดอายุ</th><th>บอกวัตถุประสงค์ของการเข้าพบครั้งนี้</th><th>เน้นประโยชน์ว่าลูกค้าได้ประโยชน์อะไรจากการเข้าพบครั้งนี้</th><th>บอกระยะเวลาที่ใช้ในการเข้าพบ</th><th>original_sentence</th><th>กล่าวสวัสดี_right</th><th>แนะนำชื่อและนามสกุล_right</th><th>บอกประเภทใบอนุญาตและเลขที่ใบอนุญาตที่ยังไม่หมดอายุ_right</th><th>บอกวัตถุประสงค์ของการเข้าพบ</th><th>เน้นประโยชน์ที่ลูกค้าได้รับ</th><th>บอกระยะเวลาที่ใช้ในการเข้าพบ_right</th></tr><tr><td>str</td><td>str</td><td>str</td><td>bool</td><td>bool</td><td>bool</td><td>bool</td><td>bool</td><td>bool</td><td>str</td><td>bool</td><td>bool</td><td>bool</td><td>bool</td><td>bool</td><td>bool</td></tr></thead><tbody><tr><td>&quot;2e378ce7-b5f5-49b7-a337-0bc64b…</td><td>&quot;วิมลศิริ&quot;</td><td>&quot;บุณยะลักษณ&quot;</td><td>false</td><td>false</td><td>false</td><td>true</td><td>true</td><td>false</td><td>&quot;Mint มาคุยกับคุณวัณนิดาในวันนี…</td><td>false</td><td>false</td><td>false</td><td>true</td><td>true</td><td>false</td></tr><tr><td>&quot;70e43e4b-42f2-40f8-9822-2ec5ee…</td><td>&quot;จิราลักษ์&quot;</td><td>&quot;วารินทุ&quot;</td><td>false</td><td>false</td><td>true</td><td>false</td><td>false</td><td>true</td><td>&quot;ดิฉันชื่อจีราเป็นที่ปรึกษาทางก…</td><td>false</td><td>false</td><td>true</td><td>false</td><td>false</td><td>true</td></tr><tr><td>&quot;b1b69e87-0a65-4aac-9eeb-910328…</td><td>&quot;ปุณฐ์พัฒน์&quot;</td><td>&quot;อนัคฆฑัต&quot;</td><td>false</td><td>false</td><td>true</td><td>false</td><td>false</td><td>false</td><td>&quot;ผมปั๊บครับ เป็นที่ปรึกษาทางการ…</td><td>false</td><td>false</td><td>true</td><td>false</td><td>false</td><td>false</td></tr><tr><td>&quot;292e0419-aed1-43d0-aa60-9635dc…</td><td>&quot;วฤณดา&quot;</td><td>&quot;มหาขันธ์&quot;</td><td>true</td><td>false</td><td>true</td><td>true</td><td>true</td><td>false</td><td>&quot;สวัสดีค่ะ คุณบุญธิชา ดิชั้นชื่…</td><td>true</td><td>true</td><td>true</td><td>true</td><td>true</td><td>false</td></tr><tr><td>&quot;51f656f7-7558-4e4b-ab0a-fa91a7…</td><td>&quot;ภัทรดา&quot;</td><td>&quot;อินทะวิวัฒนะ&quot;</td><td>false</td><td>false</td><td>true</td><td>true</td><td>false</td><td>false</td><td>&quot;บัณฑิตชั้นชื่อพัทธ์ตรา อินทรวิ…</td><td>false</td><td>true</td><td>true</td><td>false</td><td>false</td><td>false</td></tr><tr><td>&hellip;</td><td>&hellip;</td><td>&hellip;</td><td>&hellip;</td><td>&hellip;</td><td>&hellip;</td><td>&hellip;</td><td>&hellip;</td><td>&hellip;</td><td>&hellip;</td><td>&hellip;</td><td>&hellip;</td><td>&hellip;</td><td>&hellip;</td><td>&hellip;</td><td>&hellip;</td></tr><tr><td>&quot;dd74a676-a365-42ee-8793-89dc1b…</td><td>&quot;สมบัติ&quot;</td><td>&quot;บุณยกาญจน&quot;</td><td>false</td><td>true</td><td>true</td><td>true</td><td>false</td><td>false</td><td>&quot;ผมชื่อนายสมบัติบุญการจนหรือเรี…</td><td>false</td><td>true</td><td>true</td><td>false</td><td>false</td><td>false</td></tr><tr><td>&quot;4ee7be59-b578-48a1-9b2d-74e5e1…</td><td>&quot;รวีวรรณ&quot;</td><td>&quot;วปินานนท์&quot;</td><td>true</td><td>true</td><td>true</td><td>true</td><td>false</td><td>false</td><td>&quot;สวัสดีค่ะ คุณวิชากร ดิชั้นชื่อ…</td><td>true</td><td>true</td><td>true</td><td>true</td><td>false</td><td>false</td></tr><tr><td>&quot;e7089064-4bfa-42d6-8f53-abfded…</td><td>&quot;ธยศ&quot;</td><td>&quot;ชาตาคม&quot;</td><td>false</td><td>false</td><td>true</td><td>true</td><td>true</td><td>true</td><td>&quot;สวัสดีครับ ผมชื่อญาติคุณยศ ชาต…</td><td>true</td><td>true</td><td>true</td><td>true</td><td>true</td><td>true</td></tr><tr><td>&quot;a43136f2-aed3-41d3-9921-9abbdd…</td><td>&quot;อิทธิมนต์&quot;</td><td>&quot;สวัสดิกุล&quot;</td><td>false</td><td>true</td><td>false</td><td>true</td><td>false</td><td>true</td><td>&quot;ชื่อ นายอิทธิมณฑ์ สวัสดิคุณ หร…</td><td>false</td><td>true</td><td>false</td><td>true</td><td>false</td><td>true</td></tr><tr><td>&quot;5623f1f5-c02e-4db9-9a41-235291…</td><td>&quot;ญาณสิริ&quot;</td><td>&quot;นัสวีณาอุดมวงศ์&quot;</td><td>false</td><td>true</td><td>true</td><td>true</td><td>true</td><td>true</td><td>&quot;ชื่อญาณาสิริ นักศึกษาบินา อุดม…</td><td>false</td><td>true</td><td>true</td><td>false</td><td>true</td><td>true</td></tr></tbody></table></div>"
      ],
      "text/plain": [
       "shape: (300, 16)\n",
       "┌───────────┬───────────┬───────────┬──────────┬───┬───────────┬───────────┬───────────┬───────────┐\n",
       "│ id        ┆ first_nam ┆ last_name ┆ กล่าวสวัสดี ┆ … ┆ บอกประเภท ┆ บอกวัตถุประ ┆ เน้นประโยช ┆ บอกระยะเว │\n",
       "│ ---       ┆ e         ┆ ---       ┆ ---      ┆   ┆ ใบอนุญาตแล ┆ สงค์ของการ ┆ น์ที่ลูกค้าได้รั ┆ ลาที่ใช้ในกา │\n",
       "│ str       ┆ ---       ┆ str       ┆ bool     ┆   ┆ ะเลขที่ใบอน ┆ เข้าพบ     ┆ บ         ┆ รเข้าพบ_r… │\n",
       "│           ┆ str       ┆           ┆          ┆   ┆ …         ┆ ---       ┆ ---       ┆ ---       │\n",
       "│           ┆           ┆           ┆          ┆   ┆ ---       ┆ bool      ┆ bool      ┆ bool      │\n",
       "│           ┆           ┆           ┆          ┆   ┆ bool      ┆           ┆           ┆           │\n",
       "╞═══════════╪═══════════╪═══════════╪══════════╪═══╪═══════════╪═══════════╪═══════════╪═══════════╡\n",
       "│ 2e378ce7- ┆ วิมลศิริ     ┆ บุณยะลักษณ  ┆ false    ┆ … ┆ false     ┆ true      ┆ true      ┆ false     │\n",
       "│ b5f5-49b7 ┆           ┆           ┆          ┆   ┆           ┆           ┆           ┆           │\n",
       "│ -a337-0bc ┆           ┆           ┆          ┆   ┆           ┆           ┆           ┆           │\n",
       "│ 64b…      ┆           ┆           ┆          ┆   ┆           ┆           ┆           ┆           │\n",
       "│ 70e43e4b- ┆ จิราลักษ์    ┆ วารินทุ     ┆ false    ┆ … ┆ true      ┆ false     ┆ false     ┆ true      │\n",
       "│ 42f2-40f8 ┆           ┆           ┆          ┆   ┆           ┆           ┆           ┆           │\n",
       "│ -9822-2ec ┆           ┆           ┆          ┆   ┆           ┆           ┆           ┆           │\n",
       "│ 5ee…      ┆           ┆           ┆          ┆   ┆           ┆           ┆           ┆           │\n",
       "│ b1b69e87- ┆ ปุณฐ์พัฒน์    ┆ อนัคฆฑัต    ┆ false    ┆ … ┆ true      ┆ false     ┆ false     ┆ false     │\n",
       "│ 0a65-4aac ┆           ┆           ┆          ┆   ┆           ┆           ┆           ┆           │\n",
       "│ -9eeb-910 ┆           ┆           ┆          ┆   ┆           ┆           ┆           ┆           │\n",
       "│ 328…      ┆           ┆           ┆          ┆   ┆           ┆           ┆           ┆           │\n",
       "│ 292e0419- ┆ วฤณดา     ┆ มหาขันธ์    ┆ true     ┆ … ┆ true      ┆ true      ┆ true      ┆ false     │\n",
       "│ aed1-43d0 ┆           ┆           ┆          ┆   ┆           ┆           ┆           ┆           │\n",
       "│ -aa60-963 ┆           ┆           ┆          ┆   ┆           ┆           ┆           ┆           │\n",
       "│ 5dc…      ┆           ┆           ┆          ┆   ┆           ┆           ┆           ┆           │\n",
       "│ 51f656f7- ┆ ภัทรดา     ┆ อินทะวิวัฒนะ ┆ false    ┆ … ┆ true      ┆ false     ┆ false     ┆ false     │\n",
       "│ 7558-4e4b ┆           ┆           ┆          ┆   ┆           ┆           ┆           ┆           │\n",
       "│ -ab0a-fa9 ┆           ┆           ┆          ┆   ┆           ┆           ┆           ┆           │\n",
       "│ 1a7…      ┆           ┆           ┆          ┆   ┆           ┆           ┆           ┆           │\n",
       "│ …         ┆ …         ┆ …         ┆ …        ┆ … ┆ …         ┆ …         ┆ …         ┆ …         │\n",
       "│ dd74a676- ┆ สมบัติ      ┆ บุณยกาญจน  ┆ false    ┆ … ┆ true      ┆ false     ┆ false     ┆ false     │\n",
       "│ a365-42ee ┆           ┆           ┆          ┆   ┆           ┆           ┆           ┆           │\n",
       "│ -8793-89d ┆           ┆           ┆          ┆   ┆           ┆           ┆           ┆           │\n",
       "│ c1b…      ┆           ┆           ┆          ┆   ┆           ┆           ┆           ┆           │\n",
       "│ 4ee7be59- ┆ รวีวรรณ    ┆ วปินานนท์   ┆ true     ┆ … ┆ true      ┆ true      ┆ false     ┆ false     │\n",
       "│ b578-48a1 ┆           ┆           ┆          ┆   ┆           ┆           ┆           ┆           │\n",
       "│ -9b2d-74e ┆           ┆           ┆          ┆   ┆           ┆           ┆           ┆           │\n",
       "│ 5e1…      ┆           ┆           ┆          ┆   ┆           ┆           ┆           ┆           │\n",
       "│ e7089064- ┆ ธยศ       ┆ ชาตาคม    ┆ false    ┆ … ┆ true      ┆ true      ┆ true      ┆ true      │\n",
       "│ 4bfa-42d6 ┆           ┆           ┆          ┆   ┆           ┆           ┆           ┆           │\n",
       "│ -8f53-abf ┆           ┆           ┆          ┆   ┆           ┆           ┆           ┆           │\n",
       "│ ded…      ┆           ┆           ┆          ┆   ┆           ┆           ┆           ┆           │\n",
       "│ a43136f2- ┆ อิทธิมนต์    ┆ สวัสดิกุล    ┆ false    ┆ … ┆ false     ┆ true      ┆ false     ┆ true      │\n",
       "│ aed3-41d3 ┆           ┆           ┆          ┆   ┆           ┆           ┆           ┆           │\n",
       "│ -9921-9ab ┆           ┆           ┆          ┆   ┆           ┆           ┆           ┆           │\n",
       "│ bdd…      ┆           ┆           ┆          ┆   ┆           ┆           ┆           ┆           │\n",
       "│ 5623f1f5- ┆ ญาณสิริ     ┆ นัสวีณาอุดมว ┆ false    ┆ … ┆ true      ┆ false     ┆ true      ┆ true      │\n",
       "│ c02e-4db9 ┆           ┆ งศ์        ┆          ┆   ┆           ┆           ┆           ┆           │\n",
       "│ -9a41-235 ┆           ┆           ┆          ┆   ┆           ┆           ┆           ┆           │\n",
       "│ 291…      ┆           ┆           ┆          ┆   ┆           ┆           ┆           ┆           │\n",
       "└───────────┴───────────┴───────────┴──────────┴───┴───────────┴───────────┴───────────┴───────────┘"
      ]
     },
     "execution_count": 6,
     "metadata": {},
     "output_type": "execute_result"
    }
   ],
   "source": [
    "con = con2.join(\n",
    "    con1.rename({'audio': 'id'}),\n",
    "    on='id',\n",
    "    how='left'\n",
    ")\n",
    "con.collect()"
   ]
  },
  {
   "cell_type": "code",
   "execution_count": 7,
   "id": "920a880c",
   "metadata": {},
   "outputs": [],
   "source": [
    "con.collect().write_csv(\"/data/ChunIjiREalserious/Sotiredbutnotgiveupna_2.csv\")"
   ]
  },
  {
   "cell_type": "code",
   "execution_count": 6,
   "id": "4a0552cd",
   "metadata": {},
   "outputs": [
    {
     "data": {
      "text/html": [
       "<div><style>\n",
       ".dataframe > thead > tr,\n",
       ".dataframe > tbody > tr {\n",
       "  text-align: right;\n",
       "  white-space: pre-wrap;\n",
       "}\n",
       "</style>\n",
       "<small>shape: (300, 3)</small><table border=\"1\" class=\"dataframe\"><thead><tr><th>id</th><th>first_name</th><th>last_name</th></tr><tr><td>str</td><td>str</td><td>str</td></tr></thead><tbody><tr><td>&quot;a46a629e-8390-4e2a-9a66-15d378…</td><td>&quot;นดา&quot;</td><td>&quot;สัมฤทธิ์&quot;</td></tr><tr><td>&quot;70e43e4b-42f2-40f8-9822-2ec5ee…</td><td>&quot;จิราลักษ์&quot;</td><td>&quot;วารินทุ&quot;</td></tr><tr><td>&quot;eb2dd21a-0979-4286-b8ff-6cdf0f…</td><td>&quot;อริศรินทร์&quot;</td><td>&quot;วิภาโตทัย&quot;</td></tr><tr><td>&quot;c17dff43-0b14-4824-9fe4-f5df62…</td><td>&quot;ศุภัคชญา&quot;</td><td>&quot;ขัมพะบุณย์&quot;</td></tr><tr><td>&quot;4930891d-3f03-4f9e-bcf2-5a71fa…</td><td>&quot;สมกัน&quot;</td><td>&quot;วิริยะบุรณะ&quot;</td></tr><tr><td>&hellip;</td><td>&hellip;</td><td>&hellip;</td></tr><tr><td>&quot;05d3d878-5ecf-4dd8-9663-ccfa7a…</td><td>&quot;วรพิชชา&quot;</td><td>&quot;โกมาระเดช&quot;</td></tr><tr><td>&quot;1c6156c1-0634-4c85-aaa6-9d72ba…</td><td>&quot;ปิยฉัตร&quot;</td><td>&quot;สุโขบล&quot;</td></tr><tr><td>&quot;60ba9450-8567-418c-ae3d-59d7b9…</td><td>&quot;ธงไทย&quot;</td><td>&quot;ผลานุเคราะห์&quot;</td></tr><tr><td>&quot;81e64132-865a-4c3e-9bf0-9f4341…</td><td>&quot;ธิษณา&quot;</td><td>&quot;เสนะวีณิน&quot;</td></tr><tr><td>&quot;2b3e9cb7-2544-410e-8c2e-4c598a…</td><td>&quot;นัธทวัฒน์&quot;</td><td>&quot;เตมียศิลปิน&quot;</td></tr></tbody></table></div>"
      ],
      "text/plain": [
       "shape: (300, 3)\n",
       "┌─────────────────────────────────┬────────────┬────────────┐\n",
       "│ id                              ┆ first_name ┆ last_name  │\n",
       "│ ---                             ┆ ---        ┆ ---        │\n",
       "│ str                             ┆ str        ┆ str        │\n",
       "╞═════════════════════════════════╪════════════╪════════════╡\n",
       "│ a46a629e-8390-4e2a-9a66-15d378… ┆ นดา        ┆ สัมฤทธิ์      │\n",
       "│ 70e43e4b-42f2-40f8-9822-2ec5ee… ┆ จิราลักษ์     ┆ วารินทุ      │\n",
       "│ eb2dd21a-0979-4286-b8ff-6cdf0f… ┆ อริศรินทร์    ┆ วิภาโตทัย    │\n",
       "│ c17dff43-0b14-4824-9fe4-f5df62… ┆ ศุภัคชญา     ┆ ขัมพะบุณย์    │\n",
       "│ 4930891d-3f03-4f9e-bcf2-5a71fa… ┆ สมกัน       ┆ วิริยะบุรณะ   │\n",
       "│ …                               ┆ …          ┆ …          │\n",
       "│ 05d3d878-5ecf-4dd8-9663-ccfa7a… ┆ วรพิชชา     ┆ โกมาระเดช  │\n",
       "│ 1c6156c1-0634-4c85-aaa6-9d72ba… ┆ ปิยฉัตร      ┆ สุโขบล      │\n",
       "│ 60ba9450-8567-418c-ae3d-59d7b9… ┆ ธงไทย      ┆ ผลานุเคราะห์ │\n",
       "│ 81e64132-865a-4c3e-9bf0-9f4341… ┆ ธิษณา       ┆ เสนะวีณิน    │\n",
       "│ 2b3e9cb7-2544-410e-8c2e-4c598a… ┆ นัธทวัฒน์     ┆ เตมียศิลปิน   │\n",
       "└─────────────────────────────────┴────────────┴────────────┘"
      ]
     },
     "execution_count": 6,
     "metadata": {},
     "output_type": "execute_result"
    }
   ],
   "source": [
    "su = (\n",
    "    test\n",
    "    .select(['id', 'first_name', 'last_name'])\n",
    "    .group_by('id')\n",
    "    .agg([\n",
    "        pl.col('first_name').first().alias('first_name'),\n",
    "        pl.col('last_name').first().alias('last_name')\n",
    "    ])\n",
    ")\n",
    "su.collect()"
   ]
  },
  {
   "cell_type": "code",
   "execution_count": null,
   "id": "8a9aa0be",
   "metadata": {},
   "outputs": [
    {
     "data": {
      "text/html": [
       "<div><style>\n",
       ".dataframe > thead > tr,\n",
       ".dataframe > tbody > tr {\n",
       "  text-align: right;\n",
       "  white-space: pre-wrap;\n",
       "}\n",
       "</style>\n",
       "<small>shape: (4,)</small><table border=\"1\" class=\"dataframe\"><thead><tr><th>id</th></tr><tr><td>str</td></tr></thead><tbody><tr><td>&quot;4ee7be59-b578-48a1-9b2d-74e5e1…</td></tr><tr><td>&quot;e7089064-4bfa-42d6-8f53-abfded…</td></tr><tr><td>&quot;a43136f2-aed3-41d3-9921-9abbdd…</td></tr><tr><td>&quot;5623f1f5-c02e-4db9-9a41-235291…</td></tr></tbody></table></div>"
      ],
      "text/plain": [
       "shape: (4,)\n",
       "Series: 'id' [str]\n",
       "[\n",
       "\t\"4ee7be59-b578-48a1-9b2d-74e5e1…\n",
       "\t\"e7089064-4bfa-42d6-8f53-abfded…\n",
       "\t\"a43136f2-aed3-41d3-9921-9abbdd…\n",
       "\t\"5623f1f5-c02e-4db9-9a41-235291…\n",
       "]"
      ]
     },
     "execution_count": 25,
     "metadata": {},
     "output_type": "execute_result"
    }
   ],
   "source": [
    " su.collect()['id'][-4:]"
   ]
  }
 ],
 "metadata": {
  "kernelspec": {
   "display_name": "Python 3",
   "language": "python",
   "name": "python3"
  },
  "language_info": {
   "codemirror_mode": {
    "name": "ipython",
    "version": 3
   },
   "file_extension": ".py",
   "mimetype": "text/x-python",
   "name": "python",
   "nbconvert_exporter": "python",
   "pygments_lexer": "ipython3",
   "version": "3.10.17"
  }
 },
 "nbformat": 4,
 "nbformat_minor": 5
}
