{
 "cells": [
  {
   "cell_type": "code",
   "execution_count": 1,
   "id": "fe0ea825",
   "metadata": {},
   "outputs": [],
   "source": [
    "import polars as pl"
   ]
  },
  {
   "cell_type": "code",
   "execution_count": 2,
   "id": "f881ab58",
   "metadata": {},
   "outputs": [
    {
     "data": {
      "text/html": [
       "<div><style>\n",
       ".dataframe > thead > tr,\n",
       ".dataframe > tbody > tr {\n",
       "  text-align: right;\n",
       "  white-space: pre-wrap;\n",
       "}\n",
       "</style>\n",
       "<small>shape: (26_040_960, 18)</small><table border=\"1\" class=\"dataframe\"><thead><tr><th>datetime</th><th>station_id</th><th>GSMaP</th><th>Groundtruth</th><th>humidity</th><th>pressure</th><th>temperature</th><th>Station</th><th>long</th><th>lat</th><th>Subdistrict</th><th>District</th><th>Province</th><th>region</th><th>month</th><th>hour</th><th>pbias</th><th>year</th></tr><tr><td>str</td><td>str</td><td>f64</td><td>f64</td><td>f64</td><td>f64</td><td>f64</td><td>str</td><td>f64</td><td>f64</td><td>str</td><td>str</td><td>str</td><td>str</td><td>i64</td><td>i64</td><td>str</td><td>i64</td></tr></thead><tbody><tr><td>&quot;2015-01-01 00:00:00&quot;</td><td>&quot;ACRU&quot;</td><td>0.0</td><td>0.0</td><td>76.0</td><td>996.0</td><td>19.1</td><td>&quot;ACRU&quot;</td><td>104.64</td><td>15.79</td><td>&quot;ไก่คำ&quot;</td><td>&quot;เมืองอำนาจเจริญ&quot;</td><td>&quot;อำนาจเจริญ&quot;</td><td>&quot;ภาคตะวันออกเฉียงเหนือ&quot;</td><td>1</td><td>0</td><td>null</td><td>2015</td></tr><tr><td>&quot;2015-01-01 01:00:00&quot;</td><td>&quot;ACRU&quot;</td><td>0.0</td><td>0.0</td><td>74.0</td><td>996.0</td><td>18.6</td><td>&quot;ACRU&quot;</td><td>104.64</td><td>15.79</td><td>&quot;ไก่คำ&quot;</td><td>&quot;เมืองอำนาจเจริญ&quot;</td><td>&quot;อำนาจเจริญ&quot;</td><td>&quot;ภาคตะวันออกเฉียงเหนือ&quot;</td><td>1</td><td>1</td><td>null</td><td>2015</td></tr><tr><td>&quot;2015-01-01 02:00:00&quot;</td><td>&quot;ACRU&quot;</td><td>0.0</td><td>0.0</td><td>73.0</td><td>995.0</td><td>18.1</td><td>&quot;ACRU&quot;</td><td>104.64</td><td>15.79</td><td>&quot;ไก่คำ&quot;</td><td>&quot;เมืองอำนาจเจริญ&quot;</td><td>&quot;อำนาจเจริญ&quot;</td><td>&quot;ภาคตะวันออกเฉียงเหนือ&quot;</td><td>1</td><td>2</td><td>null</td><td>2015</td></tr><tr><td>&quot;2015-01-01 03:00:00&quot;</td><td>&quot;ACRU&quot;</td><td>0.0</td><td>0.0</td><td>69.0</td><td>995.0</td><td>18.1</td><td>&quot;ACRU&quot;</td><td>104.64</td><td>15.79</td><td>&quot;ไก่คำ&quot;</td><td>&quot;เมืองอำนาจเจริญ&quot;</td><td>&quot;อำนาจเจริญ&quot;</td><td>&quot;ภาคตะวันออกเฉียงเหนือ&quot;</td><td>1</td><td>3</td><td>null</td><td>2015</td></tr><tr><td>&quot;2015-01-01 04:00:00&quot;</td><td>&quot;ACRU&quot;</td><td>0.0</td><td>0.0</td><td>71.0</td><td>995.0</td><td>17.2</td><td>&quot;ACRU&quot;</td><td>104.64</td><td>15.79</td><td>&quot;ไก่คำ&quot;</td><td>&quot;เมืองอำนาจเจริญ&quot;</td><td>&quot;อำนาจเจริญ&quot;</td><td>&quot;ภาคตะวันออกเฉียงเหนือ&quot;</td><td>1</td><td>4</td><td>null</td><td>2015</td></tr><tr><td>&hellip;</td><td>&hellip;</td><td>&hellip;</td><td>&hellip;</td><td>&hellip;</td><td>&hellip;</td><td>&hellip;</td><td>&hellip;</td><td>&hellip;</td><td>&hellip;</td><td>&hellip;</td><td>&hellip;</td><td>&hellip;</td><td>&hellip;</td><td>&hellip;</td><td>&hellip;</td><td>&hellip;</td><td>&hellip;</td></tr><tr><td>&quot;2020-12-31 19:00:00&quot;</td><td>&quot;YOM010&quot;</td><td>0.0</td><td>0.0</td><td>76.7</td><td>989.9</td><td>22.6</td><td>&quot;YOM010&quot;</td><td>100.12</td><td>18.13</td><td>&quot;ป่าแมต&quot;</td><td>&quot;เมืองแพร่&quot;</td><td>&quot;แพร่&quot;</td><td>&quot;ภาคเหนือ&quot;</td><td>12</td><td>19</td><td>null</td><td>2020</td></tr><tr><td>&quot;2020-12-31 20:00:00&quot;</td><td>&quot;YOM010&quot;</td><td>0.0</td><td>0.0</td><td>75.8</td><td>990.65</td><td>21.4</td><td>&quot;YOM010&quot;</td><td>100.12</td><td>18.13</td><td>&quot;ป่าแมต&quot;</td><td>&quot;เมืองแพร่&quot;</td><td>&quot;แพร่&quot;</td><td>&quot;ภาคเหนือ&quot;</td><td>12</td><td>20</td><td>null</td><td>2020</td></tr><tr><td>&quot;2020-12-31 21:00:00&quot;</td><td>&quot;YOM010&quot;</td><td>0.0</td><td>0.0</td><td>79.4</td><td>991.3</td><td>20.6</td><td>&quot;YOM010&quot;</td><td>100.12</td><td>18.13</td><td>&quot;ป่าแมต&quot;</td><td>&quot;เมืองแพร่&quot;</td><td>&quot;แพร่&quot;</td><td>&quot;ภาคเหนือ&quot;</td><td>12</td><td>21</td><td>null</td><td>2020</td></tr><tr><td>&quot;2020-12-31 22:00:00&quot;</td><td>&quot;YOM010&quot;</td><td>0.0</td><td>0.0</td><td>82.6</td><td>991.775</td><td>19.7</td><td>&quot;YOM010&quot;</td><td>100.12</td><td>18.13</td><td>&quot;ป่าแมต&quot;</td><td>&quot;เมืองแพร่&quot;</td><td>&quot;แพร่&quot;</td><td>&quot;ภาคเหนือ&quot;</td><td>12</td><td>22</td><td>null</td><td>2020</td></tr><tr><td>&quot;2020-12-31 23:00:00&quot;</td><td>&quot;YOM010&quot;</td><td>0.0</td><td>0.0</td><td>85.8</td><td>991.8</td><td>18.7</td><td>&quot;YOM010&quot;</td><td>100.12</td><td>18.13</td><td>&quot;ป่าแมต&quot;</td><td>&quot;เมืองแพร่&quot;</td><td>&quot;แพร่&quot;</td><td>&quot;ภาคเหนือ&quot;</td><td>12</td><td>23</td><td>null</td><td>2020</td></tr></tbody></table></div>"
      ],
      "text/plain": [
       "shape: (26_040_960, 18)\n",
       "┌─────────────────────┬────────────┬───────┬─────────────┬───┬───────┬──────┬───────┬──────┐\n",
       "│ datetime            ┆ station_id ┆ GSMaP ┆ Groundtruth ┆ … ┆ month ┆ hour ┆ pbias ┆ year │\n",
       "│ ---                 ┆ ---        ┆ ---   ┆ ---         ┆   ┆ ---   ┆ ---  ┆ ---   ┆ ---  │\n",
       "│ str                 ┆ str        ┆ f64   ┆ f64         ┆   ┆ i64   ┆ i64  ┆ str   ┆ i64  │\n",
       "╞═════════════════════╪════════════╪═══════╪═════════════╪═══╪═══════╪══════╪═══════╪══════╡\n",
       "│ 2015-01-01 00:00:00 ┆ ACRU       ┆ 0.0   ┆ 0.0         ┆ … ┆ 1     ┆ 0    ┆ null  ┆ 2015 │\n",
       "│ 2015-01-01 01:00:00 ┆ ACRU       ┆ 0.0   ┆ 0.0         ┆ … ┆ 1     ┆ 1    ┆ null  ┆ 2015 │\n",
       "│ 2015-01-01 02:00:00 ┆ ACRU       ┆ 0.0   ┆ 0.0         ┆ … ┆ 1     ┆ 2    ┆ null  ┆ 2015 │\n",
       "│ 2015-01-01 03:00:00 ┆ ACRU       ┆ 0.0   ┆ 0.0         ┆ … ┆ 1     ┆ 3    ┆ null  ┆ 2015 │\n",
       "│ 2015-01-01 04:00:00 ┆ ACRU       ┆ 0.0   ┆ 0.0         ┆ … ┆ 1     ┆ 4    ┆ null  ┆ 2015 │\n",
       "│ …                   ┆ …          ┆ …     ┆ …           ┆ … ┆ …     ┆ …    ┆ …     ┆ …    │\n",
       "│ 2020-12-31 19:00:00 ┆ YOM010     ┆ 0.0   ┆ 0.0         ┆ … ┆ 12    ┆ 19   ┆ null  ┆ 2020 │\n",
       "│ 2020-12-31 20:00:00 ┆ YOM010     ┆ 0.0   ┆ 0.0         ┆ … ┆ 12    ┆ 20   ┆ null  ┆ 2020 │\n",
       "│ 2020-12-31 21:00:00 ┆ YOM010     ┆ 0.0   ┆ 0.0         ┆ … ┆ 12    ┆ 21   ┆ null  ┆ 2020 │\n",
       "│ 2020-12-31 22:00:00 ┆ YOM010     ┆ 0.0   ┆ 0.0         ┆ … ┆ 12    ┆ 22   ┆ null  ┆ 2020 │\n",
       "│ 2020-12-31 23:00:00 ┆ YOM010     ┆ 0.0   ┆ 0.0         ┆ … ┆ 12    ┆ 23   ┆ null  ┆ 2020 │\n",
       "└─────────────────────┴────────────┴───────┴─────────────┴───┴───────┴──────┴───────┴──────┘"
      ]
     },
     "execution_count": 2,
     "metadata": {},
     "output_type": "execute_result"
    }
   ],
   "source": [
    "all = pl.scan_csv(\"/project/ai901504-ai0004/500038-Moji/week-6/df_all.csv\")\n",
    "all.collect()"
   ]
  },
  {
   "cell_type": "code",
   "execution_count": 12,
   "id": "d5d39d86",
   "metadata": {},
   "outputs": [
    {
     "data": {
      "text/html": [
       "<div><style>\n",
       ".dataframe > thead > tr,\n",
       ".dataframe > tbody > tr {\n",
       "  text-align: right;\n",
       "  white-space: pre-wrap;\n",
       "}\n",
       "</style>\n",
       "<small>shape: (26_040_960, 10)</small><table border=\"1\" class=\"dataframe\"><thead><tr><th>DateTime</th><th>station_id</th><th>GSMaP</th><th>humidity</th><th>pressure</th><th>temperature</th><th>Station</th><th>long</th><th>lat</th><th>Groundtruth</th></tr><tr><td>str</td><td>str</td><td>f64</td><td>f64</td><td>f64</td><td>f64</td><td>str</td><td>f64</td><td>f64</td><td>f64</td></tr></thead><tbody><tr><td>&quot;2015-01-01 00:00:00&quot;</td><td>&quot;ACRU&quot;</td><td>0.0</td><td>76.0</td><td>996.0</td><td>19.1</td><td>&quot;ACRU&quot;</td><td>104.64</td><td>15.79</td><td>0.0</td></tr><tr><td>&quot;2015-01-01 01:00:00&quot;</td><td>&quot;ACRU&quot;</td><td>0.0</td><td>74.0</td><td>996.0</td><td>18.6</td><td>&quot;ACRU&quot;</td><td>104.64</td><td>15.79</td><td>0.0</td></tr><tr><td>&quot;2015-01-01 02:00:00&quot;</td><td>&quot;ACRU&quot;</td><td>0.0</td><td>73.0</td><td>995.0</td><td>18.1</td><td>&quot;ACRU&quot;</td><td>104.64</td><td>15.79</td><td>0.0</td></tr><tr><td>&quot;2015-01-01 03:00:00&quot;</td><td>&quot;ACRU&quot;</td><td>0.0</td><td>69.0</td><td>995.0</td><td>18.1</td><td>&quot;ACRU&quot;</td><td>104.64</td><td>15.79</td><td>0.0</td></tr><tr><td>&quot;2015-01-01 04:00:00&quot;</td><td>&quot;ACRU&quot;</td><td>0.0</td><td>71.0</td><td>995.0</td><td>17.2</td><td>&quot;ACRU&quot;</td><td>104.64</td><td>15.79</td><td>0.0</td></tr><tr><td>&hellip;</td><td>&hellip;</td><td>&hellip;</td><td>&hellip;</td><td>&hellip;</td><td>&hellip;</td><td>&hellip;</td><td>&hellip;</td><td>&hellip;</td><td>&hellip;</td></tr><tr><td>&quot;2020-12-31 19:00:00&quot;</td><td>&quot;YOM010&quot;</td><td>0.0</td><td>76.7</td><td>989.9</td><td>22.6</td><td>&quot;YOM010&quot;</td><td>100.12</td><td>18.13</td><td>0.0</td></tr><tr><td>&quot;2020-12-31 20:00:00&quot;</td><td>&quot;YOM010&quot;</td><td>0.0</td><td>75.8</td><td>990.65</td><td>21.4</td><td>&quot;YOM010&quot;</td><td>100.12</td><td>18.13</td><td>0.0</td></tr><tr><td>&quot;2020-12-31 21:00:00&quot;</td><td>&quot;YOM010&quot;</td><td>0.0</td><td>79.4</td><td>991.3</td><td>20.6</td><td>&quot;YOM010&quot;</td><td>100.12</td><td>18.13</td><td>0.0</td></tr><tr><td>&quot;2020-12-31 22:00:00&quot;</td><td>&quot;YOM010&quot;</td><td>0.0</td><td>82.6</td><td>991.775</td><td>19.7</td><td>&quot;YOM010&quot;</td><td>100.12</td><td>18.13</td><td>0.0</td></tr><tr><td>&quot;2020-12-31 23:00:00&quot;</td><td>&quot;YOM010&quot;</td><td>0.0</td><td>85.8</td><td>991.8</td><td>18.7</td><td>&quot;YOM010&quot;</td><td>100.12</td><td>18.13</td><td>0.0</td></tr></tbody></table></div>"
      ],
      "text/plain": [
       "shape: (26_040_960, 10)\n",
       "┌─────────────────────┬────────────┬───────┬──────────┬───┬─────────┬────────┬───────┬─────────────┐\n",
       "│ DateTime            ┆ station_id ┆ GSMaP ┆ humidity ┆ … ┆ Station ┆ long   ┆ lat   ┆ Groundtruth │\n",
       "│ ---                 ┆ ---        ┆ ---   ┆ ---      ┆   ┆ ---     ┆ ---    ┆ ---   ┆ ---         │\n",
       "│ str                 ┆ str        ┆ f64   ┆ f64      ┆   ┆ str     ┆ f64    ┆ f64   ┆ f64         │\n",
       "╞═════════════════════╪════════════╪═══════╪══════════╪═══╪═════════╪════════╪═══════╪═════════════╡\n",
       "│ 2015-01-01 00:00:00 ┆ ACRU       ┆ 0.0   ┆ 76.0     ┆ … ┆ ACRU    ┆ 104.64 ┆ 15.79 ┆ 0.0         │\n",
       "│ 2015-01-01 01:00:00 ┆ ACRU       ┆ 0.0   ┆ 74.0     ┆ … ┆ ACRU    ┆ 104.64 ┆ 15.79 ┆ 0.0         │\n",
       "│ 2015-01-01 02:00:00 ┆ ACRU       ┆ 0.0   ┆ 73.0     ┆ … ┆ ACRU    ┆ 104.64 ┆ 15.79 ┆ 0.0         │\n",
       "│ 2015-01-01 03:00:00 ┆ ACRU       ┆ 0.0   ┆ 69.0     ┆ … ┆ ACRU    ┆ 104.64 ┆ 15.79 ┆ 0.0         │\n",
       "│ 2015-01-01 04:00:00 ┆ ACRU       ┆ 0.0   ┆ 71.0     ┆ … ┆ ACRU    ┆ 104.64 ┆ 15.79 ┆ 0.0         │\n",
       "│ …                   ┆ …          ┆ …     ┆ …        ┆ … ┆ …       ┆ …      ┆ …     ┆ …           │\n",
       "│ 2020-12-31 19:00:00 ┆ YOM010     ┆ 0.0   ┆ 76.7     ┆ … ┆ YOM010  ┆ 100.12 ┆ 18.13 ┆ 0.0         │\n",
       "│ 2020-12-31 20:00:00 ┆ YOM010     ┆ 0.0   ┆ 75.8     ┆ … ┆ YOM010  ┆ 100.12 ┆ 18.13 ┆ 0.0         │\n",
       "│ 2020-12-31 21:00:00 ┆ YOM010     ┆ 0.0   ┆ 79.4     ┆ … ┆ YOM010  ┆ 100.12 ┆ 18.13 ┆ 0.0         │\n",
       "│ 2020-12-31 22:00:00 ┆ YOM010     ┆ 0.0   ┆ 82.6     ┆ … ┆ YOM010  ┆ 100.12 ┆ 18.13 ┆ 0.0         │\n",
       "│ 2020-12-31 23:00:00 ┆ YOM010     ┆ 0.0   ┆ 85.8     ┆ … ┆ YOM010  ┆ 100.12 ┆ 18.13 ┆ 0.0         │\n",
       "└─────────────────────┴────────────┴───────┴──────────┴───┴─────────┴────────┴───────┴─────────────┘"
      ]
     },
     "execution_count": 12,
     "metadata": {},
     "output_type": "execute_result"
    }
   ],
   "source": [
    "df_model = all.select(\n",
    "    pl.col(\"datetime\").alias(\"DateTime\"), # datetime\tstation_id\tGSMaP\tGroundtruth\thumidity\tpressure\ttemperature\tStation\tlong\tlat\n",
    "    pl.col(\"station_id\").alias(\"station_id\"),\n",
    "    pl.col(\"GSMaP\").alias(\"GSMaP\"),\n",
    "    pl.col(\"humidity\").alias(\"humidity\"),\n",
    "    pl.col(\"pressure\").alias(\"pressure\"),\n",
    "    pl.col(\"temperature\").alias(\"temperature\"),\n",
    "    pl.col(\"Station\").alias(\"Station\"),\n",
    "    pl.col(\"long\").alias(\"long\"),\n",
    "    pl.col(\"lat\").alias(\"lat\"),\n",
    "    pl.col(\"Groundtruth\").alias(\"Groundtruth\"),\n",
    ")\n",
    "df_model.collect()"
   ]
  },
  {
   "cell_type": "code",
   "execution_count": 17,
   "id": "71909334",
   "metadata": {},
   "outputs": [
    {
     "data": {
      "text/html": [
       "<div><style>\n",
       ".dataframe > thead > tr,\n",
       ".dataframe > tbody > tr {\n",
       "  text-align: right;\n",
       "  white-space: pre-wrap;\n",
       "}\n",
       "</style>\n",
       "<small>shape: (26_040_960, 10)</small><table border=\"1\" class=\"dataframe\"><thead><tr><th>DateTime</th><th>station_id</th><th>GSMaP</th><th>humidity</th><th>pressure</th><th>temperature</th><th>Station</th><th>long</th><th>lat</th><th>Groundtruth</th></tr><tr><td>str</td><td>str</td><td>f64</td><td>f64</td><td>f64</td><td>f64</td><td>str</td><td>f64</td><td>f64</td><td>f64</td></tr></thead><tbody><tr><td>&quot;2015-01-01 00:00:00&quot;</td><td>&quot;ACRU&quot;</td><td>0.0</td><td>76.0</td><td>996.0</td><td>19.1</td><td>&quot;ACRU&quot;</td><td>104.64</td><td>15.79</td><td>0.0</td></tr><tr><td>&quot;2015-01-01 01:00:00&quot;</td><td>&quot;ACRU&quot;</td><td>0.0</td><td>74.0</td><td>996.0</td><td>18.6</td><td>&quot;ACRU&quot;</td><td>104.64</td><td>15.79</td><td>0.0</td></tr><tr><td>&quot;2015-01-01 02:00:00&quot;</td><td>&quot;ACRU&quot;</td><td>0.0</td><td>73.0</td><td>995.0</td><td>18.1</td><td>&quot;ACRU&quot;</td><td>104.64</td><td>15.79</td><td>0.0</td></tr><tr><td>&quot;2015-01-01 03:00:00&quot;</td><td>&quot;ACRU&quot;</td><td>0.0</td><td>69.0</td><td>995.0</td><td>18.1</td><td>&quot;ACRU&quot;</td><td>104.64</td><td>15.79</td><td>0.0</td></tr><tr><td>&quot;2015-01-01 04:00:00&quot;</td><td>&quot;ACRU&quot;</td><td>0.0</td><td>71.0</td><td>995.0</td><td>17.2</td><td>&quot;ACRU&quot;</td><td>104.64</td><td>15.79</td><td>0.0</td></tr><tr><td>&hellip;</td><td>&hellip;</td><td>&hellip;</td><td>&hellip;</td><td>&hellip;</td><td>&hellip;</td><td>&hellip;</td><td>&hellip;</td><td>&hellip;</td><td>&hellip;</td></tr><tr><td>&quot;2020-12-31 19:00:00&quot;</td><td>&quot;YOM010&quot;</td><td>0.0</td><td>76.7</td><td>989.9</td><td>22.6</td><td>&quot;YOM010&quot;</td><td>100.12</td><td>18.13</td><td>0.0</td></tr><tr><td>&quot;2020-12-31 20:00:00&quot;</td><td>&quot;YOM010&quot;</td><td>0.0</td><td>75.8</td><td>990.65</td><td>21.4</td><td>&quot;YOM010&quot;</td><td>100.12</td><td>18.13</td><td>0.0</td></tr><tr><td>&quot;2020-12-31 21:00:00&quot;</td><td>&quot;YOM010&quot;</td><td>0.0</td><td>79.4</td><td>991.3</td><td>20.6</td><td>&quot;YOM010&quot;</td><td>100.12</td><td>18.13</td><td>0.0</td></tr><tr><td>&quot;2020-12-31 22:00:00&quot;</td><td>&quot;YOM010&quot;</td><td>0.0</td><td>82.6</td><td>991.775</td><td>19.7</td><td>&quot;YOM010&quot;</td><td>100.12</td><td>18.13</td><td>0.0</td></tr><tr><td>&quot;2020-12-31 23:00:00&quot;</td><td>&quot;YOM010&quot;</td><td>0.0</td><td>85.8</td><td>991.8</td><td>18.7</td><td>&quot;YOM010&quot;</td><td>100.12</td><td>18.13</td><td>0.0</td></tr></tbody></table></div>"
      ],
      "text/plain": [
       "shape: (26_040_960, 10)\n",
       "┌─────────────────────┬────────────┬───────┬──────────┬───┬─────────┬────────┬───────┬─────────────┐\n",
       "│ DateTime            ┆ station_id ┆ GSMaP ┆ humidity ┆ … ┆ Station ┆ long   ┆ lat   ┆ Groundtruth │\n",
       "│ ---                 ┆ ---        ┆ ---   ┆ ---      ┆   ┆ ---     ┆ ---    ┆ ---   ┆ ---         │\n",
       "│ str                 ┆ str        ┆ f64   ┆ f64      ┆   ┆ str     ┆ f64    ┆ f64   ┆ f64         │\n",
       "╞═════════════════════╪════════════╪═══════╪══════════╪═══╪═════════╪════════╪═══════╪═════════════╡\n",
       "│ 2015-01-01 00:00:00 ┆ ACRU       ┆ 0.0   ┆ 76.0     ┆ … ┆ ACRU    ┆ 104.64 ┆ 15.79 ┆ 0.0         │\n",
       "│ 2015-01-01 01:00:00 ┆ ACRU       ┆ 0.0   ┆ 74.0     ┆ … ┆ ACRU    ┆ 104.64 ┆ 15.79 ┆ 0.0         │\n",
       "│ 2015-01-01 02:00:00 ┆ ACRU       ┆ 0.0   ┆ 73.0     ┆ … ┆ ACRU    ┆ 104.64 ┆ 15.79 ┆ 0.0         │\n",
       "│ 2015-01-01 03:00:00 ┆ ACRU       ┆ 0.0   ┆ 69.0     ┆ … ┆ ACRU    ┆ 104.64 ┆ 15.79 ┆ 0.0         │\n",
       "│ 2015-01-01 04:00:00 ┆ ACRU       ┆ 0.0   ┆ 71.0     ┆ … ┆ ACRU    ┆ 104.64 ┆ 15.79 ┆ 0.0         │\n",
       "│ …                   ┆ …          ┆ …     ┆ …        ┆ … ┆ …       ┆ …      ┆ …     ┆ …           │\n",
       "│ 2020-12-31 19:00:00 ┆ YOM010     ┆ 0.0   ┆ 76.7     ┆ … ┆ YOM010  ┆ 100.12 ┆ 18.13 ┆ 0.0         │\n",
       "│ 2020-12-31 20:00:00 ┆ YOM010     ┆ 0.0   ┆ 75.8     ┆ … ┆ YOM010  ┆ 100.12 ┆ 18.13 ┆ 0.0         │\n",
       "│ 2020-12-31 21:00:00 ┆ YOM010     ┆ 0.0   ┆ 79.4     ┆ … ┆ YOM010  ┆ 100.12 ┆ 18.13 ┆ 0.0         │\n",
       "│ 2020-12-31 22:00:00 ┆ YOM010     ┆ 0.0   ┆ 82.6     ┆ … ┆ YOM010  ┆ 100.12 ┆ 18.13 ┆ 0.0         │\n",
       "│ 2020-12-31 23:00:00 ┆ YOM010     ┆ 0.0   ┆ 85.8     ┆ … ┆ YOM010  ┆ 100.12 ┆ 18.13 ┆ 0.0         │\n",
       "└─────────────────────┴────────────┴───────┴──────────┴───┴─────────┴────────┴───────┴─────────────┘"
      ]
     },
     "execution_count": 17,
     "metadata": {},
     "output_type": "execute_result"
    }
   ],
   "source": [
    "df_model.collect()"
   ]
  },
  {
   "cell_type": "code",
   "execution_count": null,
   "id": "80f6adfb",
   "metadata": {},
   "outputs": [],
   "source": [
    "pl.col(\"DateTime\").apply(lambda x: x[8:10]).alias(\"Day\"),\n",
    "pl.col(\"DateTime\").apply(lambda x: x[5:7]).alias(\"Month\"),\n",
    "pl.col(\"DateTime\").apply(lambda x: x[0:4]).alias(\"Year\"),\n",
    "pl.col(\"DateTime\").apply(lambda x: x[11:13]).alias(\"Hour\"),"
   ]
  },
  {
   "cell_type": "code",
   "execution_count": 29,
   "id": "e7897c7f",
   "metadata": {},
   "outputs": [
    {
     "data": {
      "text/html": [
       "<div><style>\n",
       ".dataframe > thead > tr,\n",
       ".dataframe > tbody > tr {\n",
       "  text-align: right;\n",
       "  white-space: pre-wrap;\n",
       "}\n",
       "</style>\n",
       "<small>shape: (26_040_960, 14)</small><table border=\"1\" class=\"dataframe\"><thead><tr><th>DateTime</th><th>station_id</th><th>GSMaP</th><th>humidity</th><th>pressure</th><th>temperature</th><th>Station</th><th>long</th><th>lat</th><th>Groundtruth</th><th>Day</th><th>Month</th><th>Year</th><th>Hour</th></tr><tr><td>str</td><td>str</td><td>f64</td><td>f64</td><td>f64</td><td>f64</td><td>str</td><td>f64</td><td>f64</td><td>f64</td><td>str</td><td>str</td><td>str</td><td>str</td></tr></thead><tbody><tr><td>&quot;2015-01-01 00:00:00&quot;</td><td>&quot;ACRU&quot;</td><td>0.0</td><td>76.0</td><td>996.0</td><td>19.1</td><td>&quot;ACRU&quot;</td><td>104.64</td><td>15.79</td><td>0.0</td><td>&quot;01&quot;</td><td>&quot;01&quot;</td><td>&quot;2015&quot;</td><td>&quot;00&quot;</td></tr><tr><td>&quot;2015-01-01 01:00:00&quot;</td><td>&quot;ACRU&quot;</td><td>0.0</td><td>74.0</td><td>996.0</td><td>18.6</td><td>&quot;ACRU&quot;</td><td>104.64</td><td>15.79</td><td>0.0</td><td>&quot;01&quot;</td><td>&quot;01&quot;</td><td>&quot;2015&quot;</td><td>&quot;01&quot;</td></tr><tr><td>&quot;2015-01-01 02:00:00&quot;</td><td>&quot;ACRU&quot;</td><td>0.0</td><td>73.0</td><td>995.0</td><td>18.1</td><td>&quot;ACRU&quot;</td><td>104.64</td><td>15.79</td><td>0.0</td><td>&quot;01&quot;</td><td>&quot;01&quot;</td><td>&quot;2015&quot;</td><td>&quot;02&quot;</td></tr><tr><td>&quot;2015-01-01 03:00:00&quot;</td><td>&quot;ACRU&quot;</td><td>0.0</td><td>69.0</td><td>995.0</td><td>18.1</td><td>&quot;ACRU&quot;</td><td>104.64</td><td>15.79</td><td>0.0</td><td>&quot;01&quot;</td><td>&quot;01&quot;</td><td>&quot;2015&quot;</td><td>&quot;03&quot;</td></tr><tr><td>&quot;2015-01-01 04:00:00&quot;</td><td>&quot;ACRU&quot;</td><td>0.0</td><td>71.0</td><td>995.0</td><td>17.2</td><td>&quot;ACRU&quot;</td><td>104.64</td><td>15.79</td><td>0.0</td><td>&quot;01&quot;</td><td>&quot;01&quot;</td><td>&quot;2015&quot;</td><td>&quot;04&quot;</td></tr><tr><td>&hellip;</td><td>&hellip;</td><td>&hellip;</td><td>&hellip;</td><td>&hellip;</td><td>&hellip;</td><td>&hellip;</td><td>&hellip;</td><td>&hellip;</td><td>&hellip;</td><td>&hellip;</td><td>&hellip;</td><td>&hellip;</td><td>&hellip;</td></tr><tr><td>&quot;2020-12-31 19:00:00&quot;</td><td>&quot;YOM010&quot;</td><td>0.0</td><td>76.7</td><td>989.9</td><td>22.6</td><td>&quot;YOM010&quot;</td><td>100.12</td><td>18.13</td><td>0.0</td><td>&quot;31&quot;</td><td>&quot;12&quot;</td><td>&quot;2020&quot;</td><td>&quot;19&quot;</td></tr><tr><td>&quot;2020-12-31 20:00:00&quot;</td><td>&quot;YOM010&quot;</td><td>0.0</td><td>75.8</td><td>990.65</td><td>21.4</td><td>&quot;YOM010&quot;</td><td>100.12</td><td>18.13</td><td>0.0</td><td>&quot;31&quot;</td><td>&quot;12&quot;</td><td>&quot;2020&quot;</td><td>&quot;20&quot;</td></tr><tr><td>&quot;2020-12-31 21:00:00&quot;</td><td>&quot;YOM010&quot;</td><td>0.0</td><td>79.4</td><td>991.3</td><td>20.6</td><td>&quot;YOM010&quot;</td><td>100.12</td><td>18.13</td><td>0.0</td><td>&quot;31&quot;</td><td>&quot;12&quot;</td><td>&quot;2020&quot;</td><td>&quot;21&quot;</td></tr><tr><td>&quot;2020-12-31 22:00:00&quot;</td><td>&quot;YOM010&quot;</td><td>0.0</td><td>82.6</td><td>991.775</td><td>19.7</td><td>&quot;YOM010&quot;</td><td>100.12</td><td>18.13</td><td>0.0</td><td>&quot;31&quot;</td><td>&quot;12&quot;</td><td>&quot;2020&quot;</td><td>&quot;22&quot;</td></tr><tr><td>&quot;2020-12-31 23:00:00&quot;</td><td>&quot;YOM010&quot;</td><td>0.0</td><td>85.8</td><td>991.8</td><td>18.7</td><td>&quot;YOM010&quot;</td><td>100.12</td><td>18.13</td><td>0.0</td><td>&quot;31&quot;</td><td>&quot;12&quot;</td><td>&quot;2020&quot;</td><td>&quot;23&quot;</td></tr></tbody></table></div>"
      ],
      "text/plain": [
       "shape: (26_040_960, 14)\n",
       "┌─────────────────────┬────────────┬───────┬──────────┬───┬─────┬───────┬──────┬──────┐\n",
       "│ DateTime            ┆ station_id ┆ GSMaP ┆ humidity ┆ … ┆ Day ┆ Month ┆ Year ┆ Hour │\n",
       "│ ---                 ┆ ---        ┆ ---   ┆ ---      ┆   ┆ --- ┆ ---   ┆ ---  ┆ ---  │\n",
       "│ str                 ┆ str        ┆ f64   ┆ f64      ┆   ┆ str ┆ str   ┆ str  ┆ str  │\n",
       "╞═════════════════════╪════════════╪═══════╪══════════╪═══╪═════╪═══════╪══════╪══════╡\n",
       "│ 2015-01-01 00:00:00 ┆ ACRU       ┆ 0.0   ┆ 76.0     ┆ … ┆ 01  ┆ 01    ┆ 2015 ┆ 00   │\n",
       "│ 2015-01-01 01:00:00 ┆ ACRU       ┆ 0.0   ┆ 74.0     ┆ … ┆ 01  ┆ 01    ┆ 2015 ┆ 01   │\n",
       "│ 2015-01-01 02:00:00 ┆ ACRU       ┆ 0.0   ┆ 73.0     ┆ … ┆ 01  ┆ 01    ┆ 2015 ┆ 02   │\n",
       "│ 2015-01-01 03:00:00 ┆ ACRU       ┆ 0.0   ┆ 69.0     ┆ … ┆ 01  ┆ 01    ┆ 2015 ┆ 03   │\n",
       "│ 2015-01-01 04:00:00 ┆ ACRU       ┆ 0.0   ┆ 71.0     ┆ … ┆ 01  ┆ 01    ┆ 2015 ┆ 04   │\n",
       "│ …                   ┆ …          ┆ …     ┆ …        ┆ … ┆ …   ┆ …     ┆ …    ┆ …    │\n",
       "│ 2020-12-31 19:00:00 ┆ YOM010     ┆ 0.0   ┆ 76.7     ┆ … ┆ 31  ┆ 12    ┆ 2020 ┆ 19   │\n",
       "│ 2020-12-31 20:00:00 ┆ YOM010     ┆ 0.0   ┆ 75.8     ┆ … ┆ 31  ┆ 12    ┆ 2020 ┆ 20   │\n",
       "│ 2020-12-31 21:00:00 ┆ YOM010     ┆ 0.0   ┆ 79.4     ┆ … ┆ 31  ┆ 12    ┆ 2020 ┆ 21   │\n",
       "│ 2020-12-31 22:00:00 ┆ YOM010     ┆ 0.0   ┆ 82.6     ┆ … ┆ 31  ┆ 12    ┆ 2020 ┆ 22   │\n",
       "│ 2020-12-31 23:00:00 ┆ YOM010     ┆ 0.0   ┆ 85.8     ┆ … ┆ 31  ┆ 12    ┆ 2020 ┆ 23   │\n",
       "└─────────────────────┴────────────┴───────┴──────────┴───┴─────┴───────┴──────┴──────┘"
      ]
     },
     "execution_count": 29,
     "metadata": {},
     "output_type": "execute_result"
    }
   ],
   "source": [
    "df = df_model.with_columns(\n",
    "    pl.col(\"DateTime\").str.slice(8, 2).alias(\"Day\"),\n",
    "    pl.col(\"DateTime\").str.slice(5, 2).alias(\"Month\"),\n",
    "    pl.col(\"DateTime\").str.slice(0, 4).alias(\"Year\"),\n",
    "    pl.col(\"DateTime\").str.slice(11, 2).alias(\"Hour\"),\n",
    ")\n",
    "df.collect()"
   ]
  },
  {
   "cell_type": "code",
   "execution_count": 32,
   "id": "070d6d21",
   "metadata": {},
   "outputs": [
    {
     "data": {
      "text/html": [
       "<div><style>\n",
       ".dataframe > thead > tr,\n",
       ".dataframe > tbody > tr {\n",
       "  text-align: right;\n",
       "  white-space: pre-wrap;\n",
       "}\n",
       "</style>\n",
       "<small>shape: (26_040_960, 14)</small><table border=\"1\" class=\"dataframe\"><thead><tr><th>DateTime</th><th>station_id</th><th>GSMaP</th><th>humidity</th><th>pressure</th><th>temperature</th><th>Station</th><th>long</th><th>lat</th><th>Groundtruth</th><th>Day</th><th>Month</th><th>Year</th><th>Hour</th></tr><tr><td>str</td><td>str</td><td>f64</td><td>f64</td><td>f64</td><td>f64</td><td>str</td><td>f64</td><td>f64</td><td>f64</td><td>u8</td><td>u8</td><td>u16</td><td>u8</td></tr></thead><tbody><tr><td>&quot;2015-01-01 00:00:00&quot;</td><td>&quot;ACRU&quot;</td><td>0.0</td><td>76.0</td><td>996.0</td><td>19.1</td><td>&quot;ACRU&quot;</td><td>104.64</td><td>15.79</td><td>0.0</td><td>1</td><td>1</td><td>2015</td><td>0</td></tr><tr><td>&quot;2015-01-01 01:00:00&quot;</td><td>&quot;ACRU&quot;</td><td>0.0</td><td>74.0</td><td>996.0</td><td>18.6</td><td>&quot;ACRU&quot;</td><td>104.64</td><td>15.79</td><td>0.0</td><td>1</td><td>1</td><td>2015</td><td>1</td></tr><tr><td>&quot;2015-01-01 02:00:00&quot;</td><td>&quot;ACRU&quot;</td><td>0.0</td><td>73.0</td><td>995.0</td><td>18.1</td><td>&quot;ACRU&quot;</td><td>104.64</td><td>15.79</td><td>0.0</td><td>1</td><td>1</td><td>2015</td><td>2</td></tr><tr><td>&quot;2015-01-01 03:00:00&quot;</td><td>&quot;ACRU&quot;</td><td>0.0</td><td>69.0</td><td>995.0</td><td>18.1</td><td>&quot;ACRU&quot;</td><td>104.64</td><td>15.79</td><td>0.0</td><td>1</td><td>1</td><td>2015</td><td>3</td></tr><tr><td>&quot;2015-01-01 04:00:00&quot;</td><td>&quot;ACRU&quot;</td><td>0.0</td><td>71.0</td><td>995.0</td><td>17.2</td><td>&quot;ACRU&quot;</td><td>104.64</td><td>15.79</td><td>0.0</td><td>1</td><td>1</td><td>2015</td><td>4</td></tr><tr><td>&hellip;</td><td>&hellip;</td><td>&hellip;</td><td>&hellip;</td><td>&hellip;</td><td>&hellip;</td><td>&hellip;</td><td>&hellip;</td><td>&hellip;</td><td>&hellip;</td><td>&hellip;</td><td>&hellip;</td><td>&hellip;</td><td>&hellip;</td></tr><tr><td>&quot;2020-12-31 19:00:00&quot;</td><td>&quot;YOM010&quot;</td><td>0.0</td><td>76.7</td><td>989.9</td><td>22.6</td><td>&quot;YOM010&quot;</td><td>100.12</td><td>18.13</td><td>0.0</td><td>31</td><td>12</td><td>2020</td><td>19</td></tr><tr><td>&quot;2020-12-31 20:00:00&quot;</td><td>&quot;YOM010&quot;</td><td>0.0</td><td>75.8</td><td>990.65</td><td>21.4</td><td>&quot;YOM010&quot;</td><td>100.12</td><td>18.13</td><td>0.0</td><td>31</td><td>12</td><td>2020</td><td>20</td></tr><tr><td>&quot;2020-12-31 21:00:00&quot;</td><td>&quot;YOM010&quot;</td><td>0.0</td><td>79.4</td><td>991.3</td><td>20.6</td><td>&quot;YOM010&quot;</td><td>100.12</td><td>18.13</td><td>0.0</td><td>31</td><td>12</td><td>2020</td><td>21</td></tr><tr><td>&quot;2020-12-31 22:00:00&quot;</td><td>&quot;YOM010&quot;</td><td>0.0</td><td>82.6</td><td>991.775</td><td>19.7</td><td>&quot;YOM010&quot;</td><td>100.12</td><td>18.13</td><td>0.0</td><td>31</td><td>12</td><td>2020</td><td>22</td></tr><tr><td>&quot;2020-12-31 23:00:00&quot;</td><td>&quot;YOM010&quot;</td><td>0.0</td><td>85.8</td><td>991.8</td><td>18.7</td><td>&quot;YOM010&quot;</td><td>100.12</td><td>18.13</td><td>0.0</td><td>31</td><td>12</td><td>2020</td><td>23</td></tr></tbody></table></div>"
      ],
      "text/plain": [
       "shape: (26_040_960, 14)\n",
       "┌─────────────────────┬────────────┬───────┬──────────┬───┬─────┬───────┬──────┬──────┐\n",
       "│ DateTime            ┆ station_id ┆ GSMaP ┆ humidity ┆ … ┆ Day ┆ Month ┆ Year ┆ Hour │\n",
       "│ ---                 ┆ ---        ┆ ---   ┆ ---      ┆   ┆ --- ┆ ---   ┆ ---  ┆ ---  │\n",
       "│ str                 ┆ str        ┆ f64   ┆ f64      ┆   ┆ u8  ┆ u8    ┆ u16  ┆ u8   │\n",
       "╞═════════════════════╪════════════╪═══════╪══════════╪═══╪═════╪═══════╪══════╪══════╡\n",
       "│ 2015-01-01 00:00:00 ┆ ACRU       ┆ 0.0   ┆ 76.0     ┆ … ┆ 1   ┆ 1     ┆ 2015 ┆ 0    │\n",
       "│ 2015-01-01 01:00:00 ┆ ACRU       ┆ 0.0   ┆ 74.0     ┆ … ┆ 1   ┆ 1     ┆ 2015 ┆ 1    │\n",
       "│ 2015-01-01 02:00:00 ┆ ACRU       ┆ 0.0   ┆ 73.0     ┆ … ┆ 1   ┆ 1     ┆ 2015 ┆ 2    │\n",
       "│ 2015-01-01 03:00:00 ┆ ACRU       ┆ 0.0   ┆ 69.0     ┆ … ┆ 1   ┆ 1     ┆ 2015 ┆ 3    │\n",
       "│ 2015-01-01 04:00:00 ┆ ACRU       ┆ 0.0   ┆ 71.0     ┆ … ┆ 1   ┆ 1     ┆ 2015 ┆ 4    │\n",
       "│ …                   ┆ …          ┆ …     ┆ …        ┆ … ┆ …   ┆ …     ┆ …    ┆ …    │\n",
       "│ 2020-12-31 19:00:00 ┆ YOM010     ┆ 0.0   ┆ 76.7     ┆ … ┆ 31  ┆ 12    ┆ 2020 ┆ 19   │\n",
       "│ 2020-12-31 20:00:00 ┆ YOM010     ┆ 0.0   ┆ 75.8     ┆ … ┆ 31  ┆ 12    ┆ 2020 ┆ 20   │\n",
       "│ 2020-12-31 21:00:00 ┆ YOM010     ┆ 0.0   ┆ 79.4     ┆ … ┆ 31  ┆ 12    ┆ 2020 ┆ 21   │\n",
       "│ 2020-12-31 22:00:00 ┆ YOM010     ┆ 0.0   ┆ 82.6     ┆ … ┆ 31  ┆ 12    ┆ 2020 ┆ 22   │\n",
       "│ 2020-12-31 23:00:00 ┆ YOM010     ┆ 0.0   ┆ 85.8     ┆ … ┆ 31  ┆ 12    ┆ 2020 ┆ 23   │\n",
       "└─────────────────────┴────────────┴───────┴──────────┴───┴─────┴───────┴──────┴──────┘"
      ]
     },
     "execution_count": 32,
     "metadata": {},
     "output_type": "execute_result"
    }
   ],
   "source": [
    "df_final = df.cast({\"Day\": pl.UInt8, \"Month\": pl.UInt8, \"Year\": pl.UInt16, \"Hour\": pl.UInt8})\n",
    "df_final.collect()"
   ]
  },
  {
   "cell_type": "code",
   "execution_count": 33,
   "id": "1b03003a",
   "metadata": {},
   "outputs": [
    {
     "name": "stderr",
     "output_type": "stream",
     "text": [
      "/tmp/ipykernel_18742/3470742315.py:1: PerformanceWarning: Determining the column names of a LazyFrame requires resolving its schema, which is a potentially expensive operation. Use `LazyFrame.collect_schema().names()` to get the column names without this warning.\n",
      "  df_final.columns\n"
     ]
    },
    {
     "data": {
      "text/plain": [
       "['DateTime',\n",
       " 'station_id',\n",
       " 'GSMaP',\n",
       " 'humidity',\n",
       " 'pressure',\n",
       " 'temperature',\n",
       " 'Station',\n",
       " 'long',\n",
       " 'lat',\n",
       " 'Groundtruth',\n",
       " 'Day',\n",
       " 'Month',\n",
       " 'Year',\n",
       " 'Hour']"
      ]
     },
     "execution_count": 33,
     "metadata": {},
     "output_type": "execute_result"
    }
   ],
   "source": [
    "df_final.columns"
   ]
  },
  {
   "cell_type": "code",
   "execution_count": 34,
   "id": "a19b730e",
   "metadata": {},
   "outputs": [
    {
     "data": {
      "text/html": [
       "<div><style>\n",
       ".dataframe > thead > tr,\n",
       ".dataframe > tbody > tr {\n",
       "  text-align: right;\n",
       "  white-space: pre-wrap;\n",
       "}\n",
       "</style>\n",
       "<small>shape: (26_040_960, 13)</small><table border=\"1\" class=\"dataframe\"><thead><tr><th>Day</th><th>Month</th><th>Year</th><th>Hour</th><th>station_id</th><th>GSMaP</th><th>humidity</th><th>pressure</th><th>temperature</th><th>Station</th><th>long</th><th>lat</th><th>Groundtruth</th></tr><tr><td>u8</td><td>u8</td><td>u16</td><td>u8</td><td>str</td><td>f64</td><td>f64</td><td>f64</td><td>f64</td><td>str</td><td>f64</td><td>f64</td><td>f64</td></tr></thead><tbody><tr><td>1</td><td>1</td><td>2015</td><td>0</td><td>&quot;ACRU&quot;</td><td>0.0</td><td>76.0</td><td>996.0</td><td>19.1</td><td>&quot;ACRU&quot;</td><td>104.64</td><td>15.79</td><td>0.0</td></tr><tr><td>1</td><td>1</td><td>2015</td><td>1</td><td>&quot;ACRU&quot;</td><td>0.0</td><td>74.0</td><td>996.0</td><td>18.6</td><td>&quot;ACRU&quot;</td><td>104.64</td><td>15.79</td><td>0.0</td></tr><tr><td>1</td><td>1</td><td>2015</td><td>2</td><td>&quot;ACRU&quot;</td><td>0.0</td><td>73.0</td><td>995.0</td><td>18.1</td><td>&quot;ACRU&quot;</td><td>104.64</td><td>15.79</td><td>0.0</td></tr><tr><td>1</td><td>1</td><td>2015</td><td>3</td><td>&quot;ACRU&quot;</td><td>0.0</td><td>69.0</td><td>995.0</td><td>18.1</td><td>&quot;ACRU&quot;</td><td>104.64</td><td>15.79</td><td>0.0</td></tr><tr><td>1</td><td>1</td><td>2015</td><td>4</td><td>&quot;ACRU&quot;</td><td>0.0</td><td>71.0</td><td>995.0</td><td>17.2</td><td>&quot;ACRU&quot;</td><td>104.64</td><td>15.79</td><td>0.0</td></tr><tr><td>&hellip;</td><td>&hellip;</td><td>&hellip;</td><td>&hellip;</td><td>&hellip;</td><td>&hellip;</td><td>&hellip;</td><td>&hellip;</td><td>&hellip;</td><td>&hellip;</td><td>&hellip;</td><td>&hellip;</td><td>&hellip;</td></tr><tr><td>31</td><td>12</td><td>2020</td><td>19</td><td>&quot;YOM010&quot;</td><td>0.0</td><td>76.7</td><td>989.9</td><td>22.6</td><td>&quot;YOM010&quot;</td><td>100.12</td><td>18.13</td><td>0.0</td></tr><tr><td>31</td><td>12</td><td>2020</td><td>20</td><td>&quot;YOM010&quot;</td><td>0.0</td><td>75.8</td><td>990.65</td><td>21.4</td><td>&quot;YOM010&quot;</td><td>100.12</td><td>18.13</td><td>0.0</td></tr><tr><td>31</td><td>12</td><td>2020</td><td>21</td><td>&quot;YOM010&quot;</td><td>0.0</td><td>79.4</td><td>991.3</td><td>20.6</td><td>&quot;YOM010&quot;</td><td>100.12</td><td>18.13</td><td>0.0</td></tr><tr><td>31</td><td>12</td><td>2020</td><td>22</td><td>&quot;YOM010&quot;</td><td>0.0</td><td>82.6</td><td>991.775</td><td>19.7</td><td>&quot;YOM010&quot;</td><td>100.12</td><td>18.13</td><td>0.0</td></tr><tr><td>31</td><td>12</td><td>2020</td><td>23</td><td>&quot;YOM010&quot;</td><td>0.0</td><td>85.8</td><td>991.8</td><td>18.7</td><td>&quot;YOM010&quot;</td><td>100.12</td><td>18.13</td><td>0.0</td></tr></tbody></table></div>"
      ],
      "text/plain": [
       "shape: (26_040_960, 13)\n",
       "┌─────┬───────┬──────┬──────┬───┬─────────┬────────┬───────┬─────────────┐\n",
       "│ Day ┆ Month ┆ Year ┆ Hour ┆ … ┆ Station ┆ long   ┆ lat   ┆ Groundtruth │\n",
       "│ --- ┆ ---   ┆ ---  ┆ ---  ┆   ┆ ---     ┆ ---    ┆ ---   ┆ ---         │\n",
       "│ u8  ┆ u8    ┆ u16  ┆ u8   ┆   ┆ str     ┆ f64    ┆ f64   ┆ f64         │\n",
       "╞═════╪═══════╪══════╪══════╪═══╪═════════╪════════╪═══════╪═════════════╡\n",
       "│ 1   ┆ 1     ┆ 2015 ┆ 0    ┆ … ┆ ACRU    ┆ 104.64 ┆ 15.79 ┆ 0.0         │\n",
       "│ 1   ┆ 1     ┆ 2015 ┆ 1    ┆ … ┆ ACRU    ┆ 104.64 ┆ 15.79 ┆ 0.0         │\n",
       "│ 1   ┆ 1     ┆ 2015 ┆ 2    ┆ … ┆ ACRU    ┆ 104.64 ┆ 15.79 ┆ 0.0         │\n",
       "│ 1   ┆ 1     ┆ 2015 ┆ 3    ┆ … ┆ ACRU    ┆ 104.64 ┆ 15.79 ┆ 0.0         │\n",
       "│ 1   ┆ 1     ┆ 2015 ┆ 4    ┆ … ┆ ACRU    ┆ 104.64 ┆ 15.79 ┆ 0.0         │\n",
       "│ …   ┆ …     ┆ …    ┆ …    ┆ … ┆ …       ┆ …      ┆ …     ┆ …           │\n",
       "│ 31  ┆ 12    ┆ 2020 ┆ 19   ┆ … ┆ YOM010  ┆ 100.12 ┆ 18.13 ┆ 0.0         │\n",
       "│ 31  ┆ 12    ┆ 2020 ┆ 20   ┆ … ┆ YOM010  ┆ 100.12 ┆ 18.13 ┆ 0.0         │\n",
       "│ 31  ┆ 12    ┆ 2020 ┆ 21   ┆ … ┆ YOM010  ┆ 100.12 ┆ 18.13 ┆ 0.0         │\n",
       "│ 31  ┆ 12    ┆ 2020 ┆ 22   ┆ … ┆ YOM010  ┆ 100.12 ┆ 18.13 ┆ 0.0         │\n",
       "│ 31  ┆ 12    ┆ 2020 ┆ 23   ┆ … ┆ YOM010  ┆ 100.12 ┆ 18.13 ┆ 0.0         │\n",
       "└─────┴───────┴──────┴──────┴───┴─────────┴────────┴───────┴─────────────┘"
      ]
     },
     "execution_count": 34,
     "metadata": {},
     "output_type": "execute_result"
    }
   ],
   "source": [
    "df_final = df_final.select(\n",
    "    'Day',\n",
    " 'Month',\n",
    " 'Year',\n",
    " 'Hour',\n",
    "    'station_id',\n",
    " 'GSMaP',\n",
    " 'humidity',\n",
    " 'pressure',\n",
    " 'temperature',\n",
    " 'Station',\n",
    " 'long',\n",
    " 'lat',\n",
    " 'Groundtruth',\n",
    " )\n",
    "df_final.collect()"
   ]
  },
  {
   "cell_type": "code",
   "execution_count": 35,
   "id": "5164b966",
   "metadata": {},
   "outputs": [],
   "source": [
    "df_final.collect().write_csv(\"/project/ai901504-ai0004/507a/week6/df_train.csv\")"
   ]
  },
  {
   "cell_type": "code",
   "execution_count": null,
   "id": "7d3a3a64",
   "metadata": {},
   "outputs": [],
   "source": []
  }
 ],
 "metadata": {
  "kernelspec": {
   "display_name": "Python 3 (ipykernel)",
   "language": "python",
   "name": "python3"
  }
 },
 "nbformat": 4,
 "nbformat_minor": 5
}
